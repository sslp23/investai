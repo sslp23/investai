{
 "cells": [
  {
   "cell_type": "code",
   "execution_count": 1,
   "id": "protective-particle",
   "metadata": {},
   "outputs": [],
   "source": [
    "import pandas as pd\n",
    "import numpy as np"
   ]
  },
  {
   "cell_type": "code",
   "execution_count": 2,
   "id": "consolidated-retrieval",
   "metadata": {},
   "outputs": [],
   "source": [
    "from yahooquery import Ticker\n",
    "def get_data(ticker, start = 0, end = 0, period = -1):\n",
    "    stock = Ticker(ticker)\n",
    "    if period == 'max':\n",
    "        df = stock.history(period='max')\n",
    "        \n",
    "    else:\n",
    "        df = stock.history(start=start, end=end)\n",
    "    \n",
    "    df = df.xs(ticker)\n",
    "    return df"
   ]
  },
  {
   "cell_type": "markdown",
   "id": "described-general",
   "metadata": {},
   "source": [
    "# Creating a portfolio"
   ]
  },
  {
   "cell_type": "code",
   "execution_count": 19,
   "id": "physical-muscle",
   "metadata": {},
   "outputs": [],
   "source": [
    "import random"
   ]
  },
  {
   "cell_type": "code",
   "execution_count": 4,
   "id": "appropriate-tongue",
   "metadata": {},
   "outputs": [],
   "source": [
    "ibov = pd.read_csv('IBOVDia_03-08-21 (1).csv')"
   ]
  },
  {
   "cell_type": "code",
   "execution_count": 18,
   "id": "dangerous-reputation",
   "metadata": {},
   "outputs": [],
   "source": [
    "stocks = ibov.iloc[:,0].values"
   ]
  },
  {
   "cell_type": "code",
   "execution_count": 66,
   "id": "smaller-circle",
   "metadata": {},
   "outputs": [],
   "source": [
    "def create_portfolio():\n",
    "    portfolio_size = random.randint(3,10)#number of stocks in this portfolio\n",
    "\n",
    "    portfolio_stocks = random.sample(list(stocks), portfolio_size) #portfolio_composition\n",
    "\n",
    "    weights = np.random.random(portfolio_size)\n",
    "    weights /= weights.sum() #portfolio weights\n",
    "\n",
    "    df = get_data(portfolio_stocks[0]+'.SA', start='2021-01-03', end='2021-07-31')[['close']] * weights[0] #creating the dataframe\n",
    "    for (stock, weight) in zip(portfolio_stocks[1:], weights[1:]):\n",
    "        data = get_data(stock+'.SA', start='2021-01-03', end='2021-07-31')[['close']]* weight\n",
    "\n",
    "        df['close'] += data['close']\n",
    "    \n",
    "\n",
    "    return (df, portfolio_stocks, weights)"
   ]
  },
  {
   "cell_type": "code",
   "execution_count": 67,
   "id": "frozen-collaboration",
   "metadata": {},
   "outputs": [],
   "source": [
    "(df, stocks, weights) = create_portfolio()"
   ]
  },
  {
   "cell_type": "code",
   "execution_count": 72,
   "id": "optical-queue",
   "metadata": {},
   "outputs": [
    {
     "data": {
      "text/html": [
       "<div>\n",
       "<style scoped>\n",
       "    .dataframe tbody tr th:only-of-type {\n",
       "        vertical-align: middle;\n",
       "    }\n",
       "\n",
       "    .dataframe tbody tr th {\n",
       "        vertical-align: top;\n",
       "    }\n",
       "\n",
       "    .dataframe thead th {\n",
       "        text-align: right;\n",
       "    }\n",
       "</style>\n",
       "<table border=\"1\" class=\"dataframe\">\n",
       "  <thead>\n",
       "    <tr style=\"text-align: right;\">\n",
       "      <th></th>\n",
       "      <th>close</th>\n",
       "    </tr>\n",
       "    <tr>\n",
       "      <th>date</th>\n",
       "      <th></th>\n",
       "    </tr>\n",
       "  </thead>\n",
       "  <tbody>\n",
       "    <tr>\n",
       "      <th>2021-01-04</th>\n",
       "      <td>28.610514</td>\n",
       "    </tr>\n",
       "    <tr>\n",
       "      <th>2021-01-05</th>\n",
       "      <td>28.847632</td>\n",
       "    </tr>\n",
       "    <tr>\n",
       "      <th>2021-01-06</th>\n",
       "      <td>28.283971</td>\n",
       "    </tr>\n",
       "    <tr>\n",
       "      <th>2021-01-07</th>\n",
       "      <td>28.472888</td>\n",
       "    </tr>\n",
       "    <tr>\n",
       "      <th>2021-01-08</th>\n",
       "      <td>29.102427</td>\n",
       "    </tr>\n",
       "    <tr>\n",
       "      <th>...</th>\n",
       "      <td>...</td>\n",
       "    </tr>\n",
       "    <tr>\n",
       "      <th>2021-07-26</th>\n",
       "      <td>27.768949</td>\n",
       "    </tr>\n",
       "    <tr>\n",
       "      <th>2021-07-27</th>\n",
       "      <td>27.539852</td>\n",
       "    </tr>\n",
       "    <tr>\n",
       "      <th>2021-07-28</th>\n",
       "      <td>27.894789</td>\n",
       "    </tr>\n",
       "    <tr>\n",
       "      <th>2021-07-29</th>\n",
       "      <td>27.528824</td>\n",
       "    </tr>\n",
       "    <tr>\n",
       "      <th>2021-07-30</th>\n",
       "      <td>26.633104</td>\n",
       "    </tr>\n",
       "  </tbody>\n",
       "</table>\n",
       "<p>142 rows × 1 columns</p>\n",
       "</div>"
      ],
      "text/plain": [
       "                close\n",
       "date                 \n",
       "2021-01-04  28.610514\n",
       "2021-01-05  28.847632\n",
       "2021-01-06  28.283971\n",
       "2021-01-07  28.472888\n",
       "2021-01-08  29.102427\n",
       "...               ...\n",
       "2021-07-26  27.768949\n",
       "2021-07-27  27.539852\n",
       "2021-07-28  27.894789\n",
       "2021-07-29  27.528824\n",
       "2021-07-30  26.633104\n",
       "\n",
       "[142 rows x 1 columns]"
      ]
     },
     "execution_count": 72,
     "metadata": {},
     "output_type": "execute_result"
    }
   ],
   "source": [
    "df"
   ]
  },
  {
   "cell_type": "code",
   "execution_count": 73,
   "id": "usual-consultancy",
   "metadata": {},
   "outputs": [
    {
     "data": {
      "text/plain": [
       "['PETR3', 'RADL3', 'YDUQ3']"
      ]
     },
     "execution_count": 73,
     "metadata": {},
     "output_type": "execute_result"
    }
   ],
   "source": [
    "stocks"
   ]
  },
  {
   "cell_type": "code",
   "execution_count": null,
   "id": "annual-barcelona",
   "metadata": {},
   "outputs": [],
   "source": []
  },
  {
   "cell_type": "code",
   "execution_count": null,
   "id": "brown-vitamin",
   "metadata": {},
   "outputs": [],
   "source": []
  },
  {
   "cell_type": "code",
   "execution_count": null,
   "id": "compound-volleyball",
   "metadata": {},
   "outputs": [],
   "source": []
  }
 ],
 "metadata": {
  "kernelspec": {
   "display_name": "Python 3",
   "language": "python",
   "name": "python3"
  },
  "language_info": {
   "codemirror_mode": {
    "name": "ipython",
    "version": 3
   },
   "file_extension": ".py",
   "mimetype": "text/x-python",
   "name": "python",
   "nbconvert_exporter": "python",
   "pygments_lexer": "ipython3",
   "version": "3.7.6"
  }
 },
 "nbformat": 4,
 "nbformat_minor": 5
}
