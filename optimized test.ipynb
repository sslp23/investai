{
 "cells": [
  {
   "cell_type": "code",
   "execution_count": 40,
   "id": "considerable-winner",
   "metadata": {},
   "outputs": [],
   "source": [
    "import pandas as pd\n",
    "import numpy as np\n",
    "import random\n",
    "import matplotlib.pyplot as plt"
   ]
  },
  {
   "cell_type": "code",
   "execution_count": 41,
   "id": "prospective-ancient",
   "metadata": {},
   "outputs": [],
   "source": [
    "df = pd.read_csv('recomendations.csv')"
   ]
  },
  {
   "cell_type": "code",
   "execution_count": 42,
   "id": "engaging-psychology",
   "metadata": {},
   "outputs": [
    {
     "data": {
      "text/html": [
       "<div>\n",
       "<style scoped>\n",
       "    .dataframe tbody tr th:only-of-type {\n",
       "        vertical-align: middle;\n",
       "    }\n",
       "\n",
       "    .dataframe tbody tr th {\n",
       "        vertical-align: top;\n",
       "    }\n",
       "\n",
       "    .dataframe thead th {\n",
       "        text-align: right;\n",
       "    }\n",
       "</style>\n",
       "<table border=\"1\" class=\"dataframe\">\n",
       "  <thead>\n",
       "    <tr style=\"text-align: right;\">\n",
       "      <th></th>\n",
       "      <th>Unnamed: 0</th>\n",
       "      <th>stocks</th>\n",
       "      <th>SMA42</th>\n",
       "      <th>SMA150</th>\n",
       "      <th>RSI</th>\n",
       "      <th>VAR</th>\n",
       "      <th>recomendations</th>\n",
       "    </tr>\n",
       "  </thead>\n",
       "  <tbody>\n",
       "    <tr>\n",
       "      <th>0</th>\n",
       "      <td>0</td>\n",
       "      <td>['CVCB3', 'SBSP3', 'LAME4', 'COGN3']</td>\n",
       "      <td>0.183015</td>\n",
       "      <td>0.217421</td>\n",
       "      <td>0.258782</td>\n",
       "      <td>0.564886</td>\n",
       "      <td>[[' LREN3' '3']\\n [' BBDC4' '3']\\n [' GOAU4' '...</td>\n",
       "    </tr>\n",
       "    <tr>\n",
       "      <th>1</th>\n",
       "      <td>1</td>\n",
       "      <td>['HGTX3', 'CVCB3', 'ELET6', 'ABEV3', 'ENBR3', ...</td>\n",
       "      <td>0.467806</td>\n",
       "      <td>0.363506</td>\n",
       "      <td>0.676520</td>\n",
       "      <td>0.421233</td>\n",
       "      <td>[[' GGBR4' '2']\\n [' ENGI11' '2']\\n [' IRBR3' ...</td>\n",
       "    </tr>\n",
       "    <tr>\n",
       "      <th>2</th>\n",
       "      <td>2</td>\n",
       "      <td>['LAME4', 'SBSP3', 'TAEE11', 'GOAU4']</td>\n",
       "      <td>0.310407</td>\n",
       "      <td>0.366342</td>\n",
       "      <td>0.386661</td>\n",
       "      <td>0.416246</td>\n",
       "      <td>[[' CMIG4' '3']\\n [' BBDC4' '3']\\n [' ITSA4' '...</td>\n",
       "    </tr>\n",
       "    <tr>\n",
       "      <th>3</th>\n",
       "      <td>3</td>\n",
       "      <td>['FLRY3', 'EQTL3', 'VVAR3', 'MRVE3', 'LAME4', ...</td>\n",
       "      <td>0.173675</td>\n",
       "      <td>0.183636</td>\n",
       "      <td>0.202709</td>\n",
       "      <td>0.286562</td>\n",
       "      <td>[[' SULA11' '2']\\n [' ENEV3' '2']\\n [' ITSA4' ...</td>\n",
       "    </tr>\n",
       "    <tr>\n",
       "      <th>4</th>\n",
       "      <td>4</td>\n",
       "      <td>['TIMS3', 'LREN3', 'GOLL4', 'BBDC4']</td>\n",
       "      <td>0.358413</td>\n",
       "      <td>0.368369</td>\n",
       "      <td>0.356500</td>\n",
       "      <td>0.542556</td>\n",
       "      <td>[[' BEEF3' '2']\\n [' YDUQ3' '2']\\n [' ELET3' '...</td>\n",
       "    </tr>\n",
       "  </tbody>\n",
       "</table>\n",
       "</div>"
      ],
      "text/plain": [
       "   Unnamed: 0                                             stocks     SMA42  \\\n",
       "0           0               ['CVCB3', 'SBSP3', 'LAME4', 'COGN3']  0.183015   \n",
       "1           1  ['HGTX3', 'CVCB3', 'ELET6', 'ABEV3', 'ENBR3', ...  0.467806   \n",
       "2           2              ['LAME4', 'SBSP3', 'TAEE11', 'GOAU4']  0.310407   \n",
       "3           3  ['FLRY3', 'EQTL3', 'VVAR3', 'MRVE3', 'LAME4', ...  0.173675   \n",
       "4           4               ['TIMS3', 'LREN3', 'GOLL4', 'BBDC4']  0.358413   \n",
       "\n",
       "     SMA150       RSI       VAR  \\\n",
       "0  0.217421  0.258782  0.564886   \n",
       "1  0.363506  0.676520  0.421233   \n",
       "2  0.366342  0.386661  0.416246   \n",
       "3  0.183636  0.202709  0.286562   \n",
       "4  0.368369  0.356500  0.542556   \n",
       "\n",
       "                                      recomendations  \n",
       "0  [[' LREN3' '3']\\n [' BBDC4' '3']\\n [' GOAU4' '...  \n",
       "1  [[' GGBR4' '2']\\n [' ENGI11' '2']\\n [' IRBR3' ...  \n",
       "2  [[' CMIG4' '3']\\n [' BBDC4' '3']\\n [' ITSA4' '...  \n",
       "3  [[' SULA11' '2']\\n [' ENEV3' '2']\\n [' ITSA4' ...  \n",
       "4  [[' BEEF3' '2']\\n [' YDUQ3' '2']\\n [' ELET3' '...  "
      ]
     },
     "execution_count": 42,
     "metadata": {},
     "output_type": "execute_result"
    }
   ],
   "source": [
    "df.head()"
   ]
  },
  {
   "cell_type": "code",
   "execution_count": 43,
   "id": "vocal-panel",
   "metadata": {},
   "outputs": [],
   "source": [
    "stocks = random.sample(list(df.recomendations), 1)"
   ]
  },
  {
   "cell_type": "code",
   "execution_count": 44,
   "id": "biblical-smith",
   "metadata": {},
   "outputs": [],
   "source": [
    "recs = []\n",
    "for stock in stocks[0].split('\\n'):\n",
    "    recs.append(stock.split(\"'\")[1][1:])\n"
   ]
  },
  {
   "cell_type": "markdown",
   "id": "therapeutic-resistance",
   "metadata": {},
   "source": [
    "Creating portfolio:"
   ]
  },
  {
   "cell_type": "code",
   "execution_count": 45,
   "id": "worldwide-fault",
   "metadata": {},
   "outputs": [],
   "source": [
    "from yahooquery import Ticker\n",
    "def get_data(ticker, start = 0, end = 0, period = -1):\n",
    "    stock = Ticker(ticker)\n",
    "    if period == 'max':\n",
    "        df = stock.history(period='max')\n",
    "        \n",
    "    else:\n",
    "        df = stock.history(start=start, end=end)\n",
    "    \n",
    "    df = df.xs(ticker)\n",
    "    return df"
   ]
  },
  {
   "cell_type": "markdown",
   "id": "civic-istanbul",
   "metadata": {},
   "source": [
    "# Otimização de portfolio\n",
    "\n",
    "Estudo da maximização do retorno por meio da escolha de um portfolio correto, baseado na Modern Portfolio Theory, de Harry Markowitz. É preciso, também, assumir que os retornos são uma distribuição normal.\n",
    "\n",
    "A ideia é usar diversificação para atingir um portfolio com risco mínimo ou máximo retorno, dado um intervalo de confiança. "
   ]
  },
  {
   "cell_type": "code",
   "execution_count": 46,
   "id": "environmental-algeria",
   "metadata": {},
   "outputs": [],
   "source": [
    "data =  pd.DataFrame()\n",
    "for s in recs:\n",
    "    df = get_data(s+'.SA', start='2021-01-03', end='2021-07-31')\n",
    "    \n",
    "    close = df['close']\n",
    "    close.rename(s, inplace=True)\n",
    "    data = data.append(close)"
   ]
  },
  {
   "cell_type": "code",
   "execution_count": 47,
   "id": "supreme-repository",
   "metadata": {},
   "outputs": [],
   "source": [
    "data = data.transpose()\n",
    "noa = len(recs)\n",
    "\n",
    "rets = np.log(data/data.shift(1))"
   ]
  },
  {
   "cell_type": "code",
   "execution_count": 48,
   "id": "devoted-sheep",
   "metadata": {},
   "outputs": [
    {
     "data": {
      "text/html": [
       "<div>\n",
       "<style scoped>\n",
       "    .dataframe tbody tr th:only-of-type {\n",
       "        vertical-align: middle;\n",
       "    }\n",
       "\n",
       "    .dataframe tbody tr th {\n",
       "        vertical-align: top;\n",
       "    }\n",
       "\n",
       "    .dataframe thead th {\n",
       "        text-align: right;\n",
       "    }\n",
       "</style>\n",
       "<table border=\"1\" class=\"dataframe\">\n",
       "  <thead>\n",
       "    <tr style=\"text-align: right;\">\n",
       "      <th></th>\n",
       "      <th>ENEV3</th>\n",
       "      <th>LWSA3</th>\n",
       "      <th>KLBN11</th>\n",
       "      <th>GNDI3</th>\n",
       "      <th>UGPA3</th>\n",
       "      <th>ENBR3</th>\n",
       "      <th>RADL3</th>\n",
       "      <th>RAIL3</th>\n",
       "      <th>SANB11</th>\n",
       "      <th>PETR4</th>\n",
       "    </tr>\n",
       "  </thead>\n",
       "  <tbody>\n",
       "    <tr>\n",
       "      <th>2021-01-04</th>\n",
       "      <td>NaN</td>\n",
       "      <td>NaN</td>\n",
       "      <td>NaN</td>\n",
       "      <td>NaN</td>\n",
       "      <td>NaN</td>\n",
       "      <td>NaN</td>\n",
       "      <td>NaN</td>\n",
       "      <td>NaN</td>\n",
       "      <td>NaN</td>\n",
       "      <td>NaN</td>\n",
       "    </tr>\n",
       "    <tr>\n",
       "      <th>2021-01-05</th>\n",
       "      <td>0.007012</td>\n",
       "      <td>0.024620</td>\n",
       "      <td>-0.006934</td>\n",
       "      <td>-0.023044</td>\n",
       "      <td>-0.008326</td>\n",
       "      <td>-0.023798</td>\n",
       "      <td>-0.002801</td>\n",
       "      <td>0.007802</td>\n",
       "      <td>-0.014953</td>\n",
       "      <td>0.038342</td>\n",
       "    </tr>\n",
       "    <tr>\n",
       "      <th>2021-01-06</th>\n",
       "      <td>-0.052657</td>\n",
       "      <td>-0.025116</td>\n",
       "      <td>0.018764</td>\n",
       "      <td>-0.038342</td>\n",
       "      <td>-0.012198</td>\n",
       "      <td>-0.002096</td>\n",
       "      <td>-0.023511</td>\n",
       "      <td>-0.006237</td>\n",
       "      <td>0.033666</td>\n",
       "      <td>0.001995</td>\n",
       "    </tr>\n",
       "    <tr>\n",
       "      <th>2021-01-07</th>\n",
       "      <td>-0.000670</td>\n",
       "      <td>-0.023728</td>\n",
       "      <td>0.051748</td>\n",
       "      <td>-0.006351</td>\n",
       "      <td>0.030015</td>\n",
       "      <td>-0.026583</td>\n",
       "      <td>-0.012797</td>\n",
       "      <td>0.023191</td>\n",
       "      <td>0.013591</td>\n",
       "      <td>0.029462</td>\n",
       "    </tr>\n",
       "    <tr>\n",
       "      <th>2021-01-08</th>\n",
       "      <td>0.045514</td>\n",
       "      <td>0.004310</td>\n",
       "      <td>0.039899</td>\n",
       "      <td>0.235805</td>\n",
       "      <td>0.025544</td>\n",
       "      <td>0.042200</td>\n",
       "      <td>0.028667</td>\n",
       "      <td>0.018673</td>\n",
       "      <td>-0.009626</td>\n",
       "      <td>0.003864</td>\n",
       "    </tr>\n",
       "    <tr>\n",
       "      <th>...</th>\n",
       "      <td>...</td>\n",
       "      <td>...</td>\n",
       "      <td>...</td>\n",
       "      <td>...</td>\n",
       "      <td>...</td>\n",
       "      <td>...</td>\n",
       "      <td>...</td>\n",
       "      <td>...</td>\n",
       "      <td>...</td>\n",
       "      <td>...</td>\n",
       "    </tr>\n",
       "    <tr>\n",
       "      <th>2021-07-27</th>\n",
       "      <td>0.003614</td>\n",
       "      <td>-0.040088</td>\n",
       "      <td>-0.019864</td>\n",
       "      <td>-0.001123</td>\n",
       "      <td>-0.007161</td>\n",
       "      <td>-0.007923</td>\n",
       "      <td>-0.002299</td>\n",
       "      <td>-0.022345</td>\n",
       "      <td>0.009021</td>\n",
       "      <td>-0.011717</td>\n",
       "    </tr>\n",
       "    <tr>\n",
       "      <th>2021-07-28</th>\n",
       "      <td>0.009575</td>\n",
       "      <td>-0.011147</td>\n",
       "      <td>-0.003547</td>\n",
       "      <td>0.020028</td>\n",
       "      <td>0.016991</td>\n",
       "      <td>0.003969</td>\n",
       "      <td>0.011442</td>\n",
       "      <td>0.014794</td>\n",
       "      <td>0.011823</td>\n",
       "      <td>0.020416</td>\n",
       "    </tr>\n",
       "    <tr>\n",
       "      <th>2021-07-29</th>\n",
       "      <td>0.003567</td>\n",
       "      <td>-0.012447</td>\n",
       "      <td>-0.005542</td>\n",
       "      <td>0.002445</td>\n",
       "      <td>0.002714</td>\n",
       "      <td>-0.014824</td>\n",
       "      <td>-0.014130</td>\n",
       "      <td>-0.009519</td>\n",
       "      <td>-0.015958</td>\n",
       "      <td>0.003602</td>\n",
       "    </tr>\n",
       "    <tr>\n",
       "      <th>2021-07-30</th>\n",
       "      <td>-0.023418</td>\n",
       "      <td>-0.025368</td>\n",
       "      <td>-0.023294</td>\n",
       "      <td>-0.023472</td>\n",
       "      <td>-0.042630</td>\n",
       "      <td>-0.016213</td>\n",
       "      <td>-0.029667</td>\n",
       "      <td>-0.012028</td>\n",
       "      <td>-0.013990</td>\n",
       "      <td>-0.032898</td>\n",
       "    </tr>\n",
       "    <tr>\n",
       "      <th>2021-02-17</th>\n",
       "      <td>NaN</td>\n",
       "      <td>NaN</td>\n",
       "      <td>NaN</td>\n",
       "      <td>NaN</td>\n",
       "      <td>NaN</td>\n",
       "      <td>NaN</td>\n",
       "      <td>NaN</td>\n",
       "      <td>NaN</td>\n",
       "      <td>NaN</td>\n",
       "      <td>NaN</td>\n",
       "    </tr>\n",
       "  </tbody>\n",
       "</table>\n",
       "<p>143 rows × 10 columns</p>\n",
       "</div>"
      ],
      "text/plain": [
       "               ENEV3     LWSA3    KLBN11     GNDI3     UGPA3     ENBR3  \\\n",
       "2021-01-04       NaN       NaN       NaN       NaN       NaN       NaN   \n",
       "2021-01-05  0.007012  0.024620 -0.006934 -0.023044 -0.008326 -0.023798   \n",
       "2021-01-06 -0.052657 -0.025116  0.018764 -0.038342 -0.012198 -0.002096   \n",
       "2021-01-07 -0.000670 -0.023728  0.051748 -0.006351  0.030015 -0.026583   \n",
       "2021-01-08  0.045514  0.004310  0.039899  0.235805  0.025544  0.042200   \n",
       "...              ...       ...       ...       ...       ...       ...   \n",
       "2021-07-27  0.003614 -0.040088 -0.019864 -0.001123 -0.007161 -0.007923   \n",
       "2021-07-28  0.009575 -0.011147 -0.003547  0.020028  0.016991  0.003969   \n",
       "2021-07-29  0.003567 -0.012447 -0.005542  0.002445  0.002714 -0.014824   \n",
       "2021-07-30 -0.023418 -0.025368 -0.023294 -0.023472 -0.042630 -0.016213   \n",
       "2021-02-17       NaN       NaN       NaN       NaN       NaN       NaN   \n",
       "\n",
       "               RADL3     RAIL3    SANB11     PETR4  \n",
       "2021-01-04       NaN       NaN       NaN       NaN  \n",
       "2021-01-05 -0.002801  0.007802 -0.014953  0.038342  \n",
       "2021-01-06 -0.023511 -0.006237  0.033666  0.001995  \n",
       "2021-01-07 -0.012797  0.023191  0.013591  0.029462  \n",
       "2021-01-08  0.028667  0.018673 -0.009626  0.003864  \n",
       "...              ...       ...       ...       ...  \n",
       "2021-07-27 -0.002299 -0.022345  0.009021 -0.011717  \n",
       "2021-07-28  0.011442  0.014794  0.011823  0.020416  \n",
       "2021-07-29 -0.014130 -0.009519 -0.015958  0.003602  \n",
       "2021-07-30 -0.029667 -0.012028 -0.013990 -0.032898  \n",
       "2021-02-17       NaN       NaN       NaN       NaN  \n",
       "\n",
       "[143 rows x 10 columns]"
      ]
     },
     "execution_count": 48,
     "metadata": {},
     "output_type": "execute_result"
    }
   ],
   "source": [
    "rets"
   ]
  },
  {
   "cell_type": "markdown",
   "id": "expanded-melbourne",
   "metadata": {},
   "source": [
    "Vamos achar o portfolio ótimo pela maximização do sharpe ratio, ou seja, usaremos o valor negativo do sharpe ratio e minimizaremos para achar a composição do portfolio ótimo. Usaremos como restrição o fato de que a soma dos pesos deve dar um e que os pesos devem ficar entre 0 e 1, e depois, aplicaremos a função sco.minimize(), do scipy, para minimizar a função do sharpe ratio.\n",
    "\n",
    "O Sharpe Ratio é dado por $ SR \\equiv \\dfrac{\\mu_p - r_f}{\\sigma_p} $, que é a diferença entre o retorno do portfolio e da taxa livre de risco ($r_f$) dividido pelo desvio-padrão do portfolio."
   ]
  },
  {
   "cell_type": "code",
   "execution_count": 49,
   "id": "abstract-onion",
   "metadata": {},
   "outputs": [],
   "source": [
    "import scipy.optimize as sco"
   ]
  },
  {
   "cell_type": "code",
   "execution_count": 50,
   "id": "choice-roman",
   "metadata": {},
   "outputs": [],
   "source": [
    "def port_vol(weights):\n",
    "    return np.sqrt(np.dot(weights.T, np.dot(rets.cov() * 252, weights)))\n",
    "\n",
    "def port_ret(weights):\n",
    "    return np.sum(rets.mean() * weights) * 252\n",
    "\n",
    "def min_func_sharpe(weights):\n",
    "    return -port_ret(weights) / port_vol(weights) #função do sharpe ratio, que será minimizada"
   ]
  },
  {
   "cell_type": "code",
   "execution_count": 51,
   "id": "exposed-longer",
   "metadata": {},
   "outputs": [],
   "source": [
    "cons = ({'type': 'eq', 'fun': lambda x: np.sum(x) - 1}) #restrições"
   ]
  },
  {
   "cell_type": "code",
   "execution_count": 52,
   "id": "formal-medication",
   "metadata": {},
   "outputs": [],
   "source": [
    "bnds = tuple((0, 1) for x in range(noa)) #limite para cada valor de peso"
   ]
  },
  {
   "cell_type": "code",
   "execution_count": 53,
   "id": "becoming-record",
   "metadata": {},
   "outputs": [
    {
     "data": {
      "text/plain": [
       "array([0.1, 0.1, 0.1, 0.1, 0.1, 0.1, 0.1, 0.1, 0.1, 0.1])"
      ]
     },
     "execution_count": 53,
     "metadata": {},
     "output_type": "execute_result"
    }
   ],
   "source": [
    "eweights = np.array(noa * [1. / noa,])\n",
    "eweights #vetor com pesos igualitários"
   ]
  },
  {
   "cell_type": "code",
   "execution_count": 54,
   "id": "single-planet",
   "metadata": {},
   "outputs": [
    {
     "data": {
      "text/plain": [
       "0.2238626417978291"
      ]
     },
     "execution_count": 54,
     "metadata": {},
     "output_type": "execute_result"
    }
   ],
   "source": [
    "min_func_sharpe(eweights)"
   ]
  },
  {
   "cell_type": "code",
   "execution_count": 55,
   "id": "racial-prophet",
   "metadata": {},
   "outputs": [],
   "source": [
    "opts = sco.minimize(min_func_sharpe, eweights, method='SLSQP', bounds=bnds, constraints=cons)"
   ]
  },
  {
   "cell_type": "code",
   "execution_count": 56,
   "id": "unlikely-contents",
   "metadata": {},
   "outputs": [
    {
     "data": {
      "text/plain": [
       "array([0.   , 0.481, 0.   , 0.   , 0.   , 0.   , 0.   , 0.519, 0.   ,\n",
       "       0.   ])"
      ]
     },
     "execution_count": 56,
     "metadata": {},
     "output_type": "execute_result"
    }
   ],
   "source": [
    "opts['x'].round(3) #pesos do portfolio ótimo"
   ]
  },
  {
   "cell_type": "code",
   "execution_count": 57,
   "id": "powerful-territory",
   "metadata": {},
   "outputs": [
    {
     "data": {
      "text/plain": [
       "0.252"
      ]
     },
     "execution_count": 57,
     "metadata": {},
     "output_type": "execute_result"
    }
   ],
   "source": [
    "port_ret(opts['x']).round(3) #retorno do portofolio ótimo"
   ]
  },
  {
   "cell_type": "markdown",
   "id": "instructional-jerusalem",
   "metadata": {},
   "source": [
    "# O portfolio\n",
    "\n",
    "Agora, irei criar o portfolio com os pesos ótimos e testar se bate o ibov"
   ]
  },
  {
   "cell_type": "code",
   "execution_count": 58,
   "id": "varied-paragraph",
   "metadata": {},
   "outputs": [],
   "source": [
    "weights = opts['x'].round(3) #pesos do portfolio ótimo"
   ]
  },
  {
   "cell_type": "code",
   "execution_count": 59,
   "id": "stone-ranch",
   "metadata": {},
   "outputs": [],
   "source": [
    "port = get_data(recs[0]+'.SA', start='2021-01-03', end='2021-07-31')[['close']] * weights[0] #creating the dataframe\n",
    "for (stock, weight) in zip(recs[1:], weights[1:]):\n",
    "    data = get_data(stock+'.SA', start='2021-01-03', end='2021-07-31')[['close']]* weight\n",
    "\n",
    "    port['close'] += data['close']"
   ]
  },
  {
   "cell_type": "code",
   "execution_count": 60,
   "id": "systematic-boating",
   "metadata": {},
   "outputs": [
    {
     "data": {
      "text/html": [
       "<div>\n",
       "<style scoped>\n",
       "    .dataframe tbody tr th:only-of-type {\n",
       "        vertical-align: middle;\n",
       "    }\n",
       "\n",
       "    .dataframe tbody tr th {\n",
       "        vertical-align: top;\n",
       "    }\n",
       "\n",
       "    .dataframe thead th {\n",
       "        text-align: right;\n",
       "    }\n",
       "</style>\n",
       "<table border=\"1\" class=\"dataframe\">\n",
       "  <thead>\n",
       "    <tr style=\"text-align: right;\">\n",
       "      <th></th>\n",
       "      <th>close</th>\n",
       "    </tr>\n",
       "    <tr>\n",
       "      <th>date</th>\n",
       "      <th></th>\n",
       "    </tr>\n",
       "  </thead>\n",
       "  <tbody>\n",
       "    <tr>\n",
       "      <th>2021-01-04</th>\n",
       "      <td>19.635810</td>\n",
       "    </tr>\n",
       "    <tr>\n",
       "      <th>2021-01-05</th>\n",
       "      <td>19.955362</td>\n",
       "    </tr>\n",
       "    <tr>\n",
       "      <th>2021-01-06</th>\n",
       "      <td>19.646570</td>\n",
       "    </tr>\n",
       "    <tr>\n",
       "      <th>2021-01-07</th>\n",
       "      <td>19.652847</td>\n",
       "    </tr>\n",
       "    <tr>\n",
       "      <th>2021-01-08</th>\n",
       "      <td>19.885763</td>\n",
       "    </tr>\n",
       "    <tr>\n",
       "      <th>...</th>\n",
       "      <td>...</td>\n",
       "    </tr>\n",
       "    <tr>\n",
       "      <th>2021-07-26</th>\n",
       "      <td>24.136760</td>\n",
       "    </tr>\n",
       "    <tr>\n",
       "      <th>2021-07-27</th>\n",
       "      <td>23.378160</td>\n",
       "    </tr>\n",
       "    <tr>\n",
       "      <th>2021-07-28</th>\n",
       "      <td>23.399561</td>\n",
       "    </tr>\n",
       "    <tr>\n",
       "      <th>2021-07-29</th>\n",
       "      <td>23.141840</td>\n",
       "    </tr>\n",
       "    <tr>\n",
       "      <th>2021-07-30</th>\n",
       "      <td>22.704250</td>\n",
       "    </tr>\n",
       "  </tbody>\n",
       "</table>\n",
       "<p>142 rows × 1 columns</p>\n",
       "</div>"
      ],
      "text/plain": [
       "                close\n",
       "date                 \n",
       "2021-01-04  19.635810\n",
       "2021-01-05  19.955362\n",
       "2021-01-06  19.646570\n",
       "2021-01-07  19.652847\n",
       "2021-01-08  19.885763\n",
       "...               ...\n",
       "2021-07-26  24.136760\n",
       "2021-07-27  23.378160\n",
       "2021-07-28  23.399561\n",
       "2021-07-29  23.141840\n",
       "2021-07-30  22.704250\n",
       "\n",
       "[142 rows x 1 columns]"
      ]
     },
     "execution_count": 60,
     "metadata": {},
     "output_type": "execute_result"
    }
   ],
   "source": [
    "port"
   ]
  },
  {
   "cell_type": "code",
   "execution_count": 61,
   "id": "guided-jurisdiction",
   "metadata": {},
   "outputs": [
    {
     "data": {
      "text/html": [
       "<div>\n",
       "<style scoped>\n",
       "    .dataframe tbody tr th:only-of-type {\n",
       "        vertical-align: middle;\n",
       "    }\n",
       "\n",
       "    .dataframe tbody tr th {\n",
       "        vertical-align: top;\n",
       "    }\n",
       "\n",
       "    .dataframe thead th {\n",
       "        text-align: right;\n",
       "    }\n",
       "</style>\n",
       "<table border=\"1\" class=\"dataframe\">\n",
       "  <thead>\n",
       "    <tr style=\"text-align: right;\">\n",
       "      <th></th>\n",
       "      <th>adjclose</th>\n",
       "    </tr>\n",
       "    <tr>\n",
       "      <th>date</th>\n",
       "      <th></th>\n",
       "    </tr>\n",
       "  </thead>\n",
       "  <tbody>\n",
       "    <tr>\n",
       "      <th>2021-01-04</th>\n",
       "      <td>118558.0</td>\n",
       "    </tr>\n",
       "    <tr>\n",
       "      <th>2021-01-05</th>\n",
       "      <td>119223.0</td>\n",
       "    </tr>\n",
       "    <tr>\n",
       "      <th>2021-01-06</th>\n",
       "      <td>119851.0</td>\n",
       "    </tr>\n",
       "    <tr>\n",
       "      <th>2021-01-07</th>\n",
       "      <td>121956.0</td>\n",
       "    </tr>\n",
       "    <tr>\n",
       "      <th>2021-01-08</th>\n",
       "      <td>125077.0</td>\n",
       "    </tr>\n",
       "    <tr>\n",
       "      <th>...</th>\n",
       "      <td>...</td>\n",
       "    </tr>\n",
       "    <tr>\n",
       "      <th>2021-07-26</th>\n",
       "      <td>126004.0</td>\n",
       "    </tr>\n",
       "    <tr>\n",
       "      <th>2021-07-27</th>\n",
       "      <td>124612.0</td>\n",
       "    </tr>\n",
       "    <tr>\n",
       "      <th>2021-07-28</th>\n",
       "      <td>126286.0</td>\n",
       "    </tr>\n",
       "    <tr>\n",
       "      <th>2021-07-29</th>\n",
       "      <td>125675.0</td>\n",
       "    </tr>\n",
       "    <tr>\n",
       "      <th>2021-07-30</th>\n",
       "      <td>121801.0</td>\n",
       "    </tr>\n",
       "  </tbody>\n",
       "</table>\n",
       "<p>142 rows × 1 columns</p>\n",
       "</div>"
      ],
      "text/plain": [
       "            adjclose\n",
       "date                \n",
       "2021-01-04  118558.0\n",
       "2021-01-05  119223.0\n",
       "2021-01-06  119851.0\n",
       "2021-01-07  121956.0\n",
       "2021-01-08  125077.0\n",
       "...              ...\n",
       "2021-07-26  126004.0\n",
       "2021-07-27  124612.0\n",
       "2021-07-28  126286.0\n",
       "2021-07-29  125675.0\n",
       "2021-07-30  121801.0\n",
       "\n",
       "[142 rows x 1 columns]"
      ]
     },
     "execution_count": 61,
     "metadata": {},
     "output_type": "execute_result"
    }
   ],
   "source": [
    "ibov = Ticker('^BVSP')\n",
    "ibov_hist = ibov.history(start='2021-01-03', end='2021-07-31').xs('^BVSP')[['adjclose']]\n",
    "ibov_hist"
   ]
  },
  {
   "cell_type": "code",
   "execution_count": 62,
   "id": "affected-subscription",
   "metadata": {},
   "outputs": [],
   "source": [
    "ibov_hist['Returns'] = np.log(ibov_hist['adjclose']/ibov_hist['adjclose'].shift(1))\n",
    "port['Returns'] = np.log(port['close']/port['close'].shift(1))"
   ]
  },
  {
   "cell_type": "code",
   "execution_count": 63,
   "id": "equipped-forum",
   "metadata": {},
   "outputs": [],
   "source": [
    "plot_df = pd.DataFrame()\n",
    "plot_df['IBOV'] = ibov_hist['Returns']\n",
    "plot_df['PORT'] = port['Returns']"
   ]
  },
  {
   "cell_type": "code",
   "execution_count": 64,
   "id": "instrumental-indiana",
   "metadata": {},
   "outputs": [
    {
     "data": {
      "text/plain": [
       "<AxesSubplot:xlabel='date'>"
      ]
     },
     "execution_count": 64,
     "metadata": {},
     "output_type": "execute_result"
    },
    {
     "data": {
      "image/png": "[encoded data removed]",
      "text/plain": [
       "<Figure size 1080x576 with 1 Axes>"
      ]
     },
     "metadata": {
      "needs_background": "light"
     },
     "output_type": "display_data"
    }
   ],
   "source": [
    "plot_df.cumsum().apply(np.exp).plot(figsize=(15,8))"
   ]
  }
 ],
 "metadata": {
  "kernelspec": {
   "display_name": "Python 3",
   "language": "python",
   "name": "python3"
  },
  "language_info": {
   "codemirror_mode": {
    "name": "ipython",
    "version": 3
   },
   "file_extension": ".py",
   "mimetype": "text/x-python",
   "name": "python",
   "nbconvert_exporter": "python",
   "pygments_lexer": "ipython3",
   "version": "3.7.6"
  }
 },
 "nbformat": 4,
 "nbformat_minor": 5
}
