{
 "cells": [
  {
   "cell_type": "markdown",
   "source": [
    "Imports"
   ],
   "metadata": {}
  },
  {
   "cell_type": "code",
   "execution_count": 29,
   "source": [
    "import pandas as pd\n",
    "import numpy as np\n",
    "import matplotlib.pyplot as plt\n",
    "from sklearn.cluster import KMeans\n",
    "from sklearn.preprocessing import MinMaxScaler"
   ],
   "outputs": [],
   "metadata": {}
  },
  {
   "cell_type": "code",
   "execution_count": 51,
   "source": [
    "df = pd.read_csv('portfolios.csv')\n",
    "df_simple = pd.DataFrame()"
   ],
   "outputs": [],
   "metadata": {}
  },
  {
   "cell_type": "markdown",
   "source": [
    "Normalizando Valores"
   ],
   "metadata": {}
  },
  {
   "cell_type": "code",
   "execution_count": 72,
   "source": [
    "df['SMA42'] = MinMaxScaler().fit_transform(df[['SMA42']])\n",
    "df['SMA150'] = MinMaxScaler().fit_transform(df[['SMA150']])\n",
    "df['RSI'] = MinMaxScaler().fit_transform(df[['RSI']])\n",
    "df['VAR'] = MinMaxScaler().fit_transform(df[['VAR']])\n",
    "df_simple['SMA'] = (df['SMA42'] + df['SMA150'])\n",
    "df_simple['VAR-RSI'] = (df['RSI'] + df['VAR'])\n",
    "df_simple['SMA'] = MinMaxScaler().fit_transform(df_simple[['SMA']])\n",
    "df_simple['VAR-RSI'] = MinMaxScaler().fit_transform(df_simple[['VAR-RSI']])"
   ],
   "outputs": [],
   "metadata": {}
  },
  {
   "cell_type": "code",
   "execution_count": 73,
   "source": [
    "df_simple.describe()\n"
   ],
   "outputs": [
    {
     "output_type": "execute_result",
     "data": {
      "text/plain": [
       "             SMA    VAR-RSI      class\n",
       "count  90.000000  90.000000  90.000000\n",
       "mean    0.395973   0.568917   1.022222\n",
       "std     0.194150   0.191758   0.847704\n",
       "min     0.000000   0.000000   0.000000\n",
       "25%     0.289136   0.440198   0.000000\n",
       "50%     0.376725   0.565557   1.000000\n",
       "75%     0.469369   0.704890   2.000000\n",
       "max     1.000000   1.000000   2.000000"
      ],
      "text/html": [
       "<div>\n",
       "<style scoped>\n",
       "    .dataframe tbody tr th:only-of-type {\n",
       "        vertical-align: middle;\n",
       "    }\n",
       "\n",
       "    .dataframe tbody tr th {\n",
       "        vertical-align: top;\n",
       "    }\n",
       "\n",
       "    .dataframe thead th {\n",
       "        text-align: right;\n",
       "    }\n",
       "</style>\n",
       "<table border=\"1\" class=\"dataframe\">\n",
       "  <thead>\n",
       "    <tr style=\"text-align: right;\">\n",
       "      <th></th>\n",
       "      <th>SMA</th>\n",
       "      <th>VAR-RSI</th>\n",
       "      <th>class</th>\n",
       "    </tr>\n",
       "  </thead>\n",
       "  <tbody>\n",
       "    <tr>\n",
       "      <th>count</th>\n",
       "      <td>90.000000</td>\n",
       "      <td>90.000000</td>\n",
       "      <td>90.000000</td>\n",
       "    </tr>\n",
       "    <tr>\n",
       "      <th>mean</th>\n",
       "      <td>0.395973</td>\n",
       "      <td>0.568917</td>\n",
       "      <td>1.022222</td>\n",
       "    </tr>\n",
       "    <tr>\n",
       "      <th>std</th>\n",
       "      <td>0.194150</td>\n",
       "      <td>0.191758</td>\n",
       "      <td>0.847704</td>\n",
       "    </tr>\n",
       "    <tr>\n",
       "      <th>min</th>\n",
       "      <td>0.000000</td>\n",
       "      <td>0.000000</td>\n",
       "      <td>0.000000</td>\n",
       "    </tr>\n",
       "    <tr>\n",
       "      <th>25%</th>\n",
       "      <td>0.289136</td>\n",
       "      <td>0.440198</td>\n",
       "      <td>0.000000</td>\n",
       "    </tr>\n",
       "    <tr>\n",
       "      <th>50%</th>\n",
       "      <td>0.376725</td>\n",
       "      <td>0.565557</td>\n",
       "      <td>1.000000</td>\n",
       "    </tr>\n",
       "    <tr>\n",
       "      <th>75%</th>\n",
       "      <td>0.469369</td>\n",
       "      <td>0.704890</td>\n",
       "      <td>2.000000</td>\n",
       "    </tr>\n",
       "    <tr>\n",
       "      <th>max</th>\n",
       "      <td>1.000000</td>\n",
       "      <td>1.000000</td>\n",
       "      <td>2.000000</td>\n",
       "    </tr>\n",
       "  </tbody>\n",
       "</table>\n",
       "</div>"
      ]
     },
     "metadata": {},
     "execution_count": 73
    }
   ],
   "metadata": {}
  },
  {
   "cell_type": "markdown",
   "source": [
    "Criando Modelo"
   ],
   "metadata": {}
  },
  {
   "cell_type": "code",
   "execution_count": 82,
   "source": [
    "kmeans = KMeans(n_clusters=3)\n",
    "kmeans.fit(df_simple.drop(columns='class'))"
   ],
   "outputs": [
    {
     "output_type": "execute_result",
     "data": {
      "text/plain": [
       "KMeans(n_clusters=3)"
      ]
     },
     "metadata": {},
     "execution_count": 82
    }
   ],
   "metadata": {}
  },
  {
   "cell_type": "markdown",
   "source": [
    "Gerando Visualização"
   ],
   "metadata": {}
  },
  {
   "cell_type": "code",
   "execution_count": 83,
   "source": [
    "predict = kmeans.labels_\n",
    "df_simple['class'] = predict\n",
    "u_labels = np.unique(predict)\n",
    "centroids = kmeans.cluster_centers_\n",
    "for i in u_labels:\n",
    "    plt.scatter(df_simple[df_simple['class']==i]['SMA'],df_simple[df_simple['class']==i]['VAR-RSI'])\n",
    "plt.scatter(centroids[:,0] , centroids[:,1] , s = 80, color = 'k')\n",
    "plt.legend()\n",
    "plt.show()"
   ],
   "outputs": [
    {
     "output_type": "stream",
     "name": "stderr",
     "text": [
      "No handles with labels found to put in legend.\n"
     ]
    },
    {
     "output_type": "display_data",
     "data": {
      "text/plain": [
       "<Figure size 432x288 with 1 Axes>"
      ],
      "image/svg+xml": "<?xml version=\"1.0\" encoding=\"utf-8\" standalone=\"no\"?>\n<!DOCTYPE svg PUBLIC \"-//W3C//DTD SVG 1.1//EN\"\n  \"http://www.w3.org/Graphics/SVG/1.1/DTD/svg11.dtd\">\n<svg height=\"248.518125pt\" version=\"1.1\" viewBox=\"0 0 372.103125 248.518125\" width=\"372.103125pt\" xmlns=\"http://www.w3.org/2000/svg\" xmlns:xlink=\"http://www.w3.org/1999/xlink\">\n <metadata>\n  <rdf:RDF xmlns:cc=\"http://creativecommons.org/ns#\" xmlns:dc=\"http://purl.org/dc/elements/1.1/\" xmlns:rdf=\"http://www.w3.org/1999/02/22-rdf-syntax-ns#\">\n   <cc:Work>\n    <dc:type rdf:resource=\"http://purl.org/dc/dcmitype/StillImage\"/>\n    <dc:date>2021-08-07T15:03:03.895308</dc:date>\n    <dc:format>image/svg+xml</dc:format>\n    <dc:creator>\n     <cc:Agent>\n      <dc:title>Matplotlib v3.4.2, https://matplotlib.org/</dc:title>\n     </cc:Agent>\n    </dc:creator>\n   </cc:Work>\n  </rdf:RDF>\n </metadata>\n <defs>\n  <style type=\"text/css\">*{stroke-linecap:butt;stroke-linejoin:round;}</style>\n </defs>\n <g id=\"figure_1\">\n  <g id=\"patch_1\">\n   <path d=\"M 0 248.518125 \nL 372.103125 248.518125 \nL 372.103125 0 \nL 0 0 \nz\n\" style=\"fill:none;\"/>\n  </g>\n  <g id=\"axes_1\">\n   <g id=\"patch_2\">\n    <path d=\"M 30.103125 224.64 \nL 364.903125 224.64 \nL 364.903125 7.2 \nL 30.103125 7.2 \nz\n\" style=\"fill:#ffffff;\"/>\n   </g>\n   <g id=\"PathCollection_1\">\n    <defs>\n     <path d=\"M 0 3 \nC 0.795609 3 1.55874 2.683901 2.12132 2.12132 \nC 2.683901 1.55874 3 0.795609 3 0 \nC 3 -0.795609 2.683901 -1.55874 2.12132 -2.12132 \nC 1.55874 -2.683901 0.795609 -3 0 -3 \nC -0.795609 -3 -1.55874 -2.683901 -2.12132 -2.12132 \nC -2.683901 -1.55874 -3 -0.795609 -3 0 \nC -3 0.795609 -2.683901 1.55874 -2.12132 2.12132 \nC -1.55874 2.683901 -0.795609 3 0 3 \nz\n\" id=\"ma4b3e92876\" style=\"stroke:#1f77b4;\"/>\n    </defs>\n    <g clip-path=\"url(#p7a95411892)\">\n     <use style=\"fill:#1f77b4;stroke:#1f77b4;\" x=\"106.260328\" xlink:href=\"#ma4b3e92876\" y=\"113.902005\"/>\n     <use style=\"fill:#1f77b4;stroke:#1f77b4;\" x=\"148.310261\" xlink:href=\"#ma4b3e92876\" y=\"117.516956\"/>\n     <use style=\"fill:#1f77b4;stroke:#1f77b4;\" x=\"99.697591\" xlink:href=\"#ma4b3e92876\" y=\"172.127559\"/>\n     <use style=\"fill:#1f77b4;stroke:#1f77b4;\" x=\"106.619904\" xlink:href=\"#ma4b3e92876\" y=\"99.688622\"/>\n     <use style=\"fill:#1f77b4;stroke:#1f77b4;\" x=\"145.789952\" xlink:href=\"#ma4b3e92876\" y=\"115.760959\"/>\n     <use style=\"fill:#1f77b4;stroke:#1f77b4;\" x=\"94.419001\" xlink:href=\"#ma4b3e92876\" y=\"160.274537\"/>\n     <use style=\"fill:#1f77b4;stroke:#1f77b4;\" x=\"205.080693\" xlink:href=\"#ma4b3e92876\" y=\"137.41936\"/>\n     <use style=\"fill:#1f77b4;stroke:#1f77b4;\" x=\"174.090188\" xlink:href=\"#ma4b3e92876\" y=\"116.882001\"/>\n     <use style=\"fill:#1f77b4;stroke:#1f77b4;\" x=\"138.483382\" xlink:href=\"#ma4b3e92876\" y=\"126.583657\"/>\n     <use style=\"fill:#1f77b4;stroke:#1f77b4;\" x=\"115.450115\" xlink:href=\"#ma4b3e92876\" y=\"151.633059\"/>\n     <use style=\"fill:#1f77b4;stroke:#1f77b4;\" x=\"163.787649\" xlink:href=\"#ma4b3e92876\" y=\"163.594312\"/>\n     <use style=\"fill:#1f77b4;stroke:#1f77b4;\" x=\"89.141021\" xlink:href=\"#ma4b3e92876\" y=\"151.224364\"/>\n     <use style=\"fill:#1f77b4;stroke:#1f77b4;\" x=\"70.474385\" xlink:href=\"#ma4b3e92876\" y=\"134.167004\"/>\n     <use style=\"fill:#1f77b4;stroke:#1f77b4;\" x=\"153.092036\" xlink:href=\"#ma4b3e92876\" y=\"159.376795\"/>\n     <use style=\"fill:#1f77b4;stroke:#1f77b4;\" x=\"130.978201\" xlink:href=\"#ma4b3e92876\" y=\"117.663451\"/>\n     <use style=\"fill:#1f77b4;stroke:#1f77b4;\" x=\"156.60647\" xlink:href=\"#ma4b3e92876\" y=\"117.265654\"/>\n     <use style=\"fill:#1f77b4;stroke:#1f77b4;\" x=\"73.8344\" xlink:href=\"#ma4b3e92876\" y=\"128.518582\"/>\n     <use style=\"fill:#1f77b4;stroke:#1f77b4;\" x=\"45.321307\" xlink:href=\"#ma4b3e92876\" y=\"214.756364\"/>\n     <use style=\"fill:#1f77b4;stroke:#1f77b4;\" x=\"69.880228\" xlink:href=\"#ma4b3e92876\" y=\"111.900419\"/>\n     <use style=\"fill:#1f77b4;stroke:#1f77b4;\" x=\"140.431149\" xlink:href=\"#ma4b3e92876\" y=\"122.821338\"/>\n     <use style=\"fill:#1f77b4;stroke:#1f77b4;\" x=\"125.78716\" xlink:href=\"#ma4b3e92876\" y=\"108.164095\"/>\n     <use style=\"fill:#1f77b4;stroke:#1f77b4;\" x=\"136.542703\" xlink:href=\"#ma4b3e92876\" y=\"106.938962\"/>\n     <use style=\"fill:#1f77b4;stroke:#1f77b4;\" x=\"138.436403\" xlink:href=\"#ma4b3e92876\" y=\"143.975237\"/>\n     <use style=\"fill:#1f77b4;stroke:#1f77b4;\" x=\"164.764501\" xlink:href=\"#ma4b3e92876\" y=\"127.678786\"/>\n     <use style=\"fill:#1f77b4;stroke:#1f77b4;\" x=\"202.055912\" xlink:href=\"#ma4b3e92876\" y=\"166.125651\"/>\n     <use style=\"fill:#1f77b4;stroke:#1f77b4;\" x=\"174.904074\" xlink:href=\"#ma4b3e92876\" y=\"121.573097\"/>\n     <use style=\"fill:#1f77b4;stroke:#1f77b4;\" x=\"137.150814\" xlink:href=\"#ma4b3e92876\" y=\"118.437667\"/>\n     <use style=\"fill:#1f77b4;stroke:#1f77b4;\" x=\"156.01558\" xlink:href=\"#ma4b3e92876\" y=\"145.670783\"/>\n     <use style=\"fill:#1f77b4;stroke:#1f77b4;\" x=\"174.685161\" xlink:href=\"#ma4b3e92876\" y=\"131.508539\"/>\n     <use style=\"fill:#1f77b4;stroke:#1f77b4;\" x=\"83.123043\" xlink:href=\"#ma4b3e92876\" y=\"176.977456\"/>\n     <use style=\"fill:#1f77b4;stroke:#1f77b4;\" x=\"174.498931\" xlink:href=\"#ma4b3e92876\" y=\"153.699547\"/>\n     <use style=\"fill:#1f77b4;stroke:#1f77b4;\" x=\"97.344061\" xlink:href=\"#ma4b3e92876\" y=\"160.168224\"/>\n     <use style=\"fill:#1f77b4;stroke:#1f77b4;\" x=\"128.241404\" xlink:href=\"#ma4b3e92876\" y=\"130.720006\"/>\n     <use style=\"fill:#1f77b4;stroke:#1f77b4;\" x=\"64.979201\" xlink:href=\"#ma4b3e92876\" y=\"92.342699\"/>\n     <use style=\"fill:#1f77b4;stroke:#1f77b4;\" x=\"99.60678\" xlink:href=\"#ma4b3e92876\" y=\"137.192797\"/>\n     <use style=\"fill:#1f77b4;stroke:#1f77b4;\" x=\"143.449584\" xlink:href=\"#ma4b3e92876\" y=\"150.661983\"/>\n     <use style=\"fill:#1f77b4;stroke:#1f77b4;\" x=\"147.766504\" xlink:href=\"#ma4b3e92876\" y=\"127.76203\"/>\n     <use style=\"fill:#1f77b4;stroke:#1f77b4;\" x=\"205.097306\" xlink:href=\"#ma4b3e92876\" y=\"138.902121\"/>\n    </g>\n   </g>\n   <g id=\"PathCollection_2\">\n    <defs>\n     <path d=\"M 0 3 \nC 0.795609 3 1.55874 2.683901 2.12132 2.12132 \nC 2.683901 1.55874 3 0.795609 3 0 \nC 3 -0.795609 2.683901 -1.55874 2.12132 -2.12132 \nC 1.55874 -2.683901 0.795609 -3 0 -3 \nC -0.795609 -3 -1.55874 -2.683901 -2.12132 -2.12132 \nC -2.683901 -1.55874 -3 -0.795609 -3 0 \nC -3 0.795609 -2.683901 1.55874 -2.12132 2.12132 \nC -1.55874 2.683901 -0.795609 3 0 3 \nz\n\" id=\"m49f58662bf\" style=\"stroke:#ff7f0e;\"/>\n    </defs>\n    <g clip-path=\"url(#p7a95411892)\">\n     <use style=\"fill:#ff7f0e;stroke:#ff7f0e;\" x=\"171.831836\" xlink:href=\"#m49f58662bf\" y=\"66.177942\"/>\n     <use style=\"fill:#ff7f0e;stroke:#ff7f0e;\" x=\"155.924349\" xlink:href=\"#m49f58662bf\" y=\"100.775308\"/>\n     <use style=\"fill:#ff7f0e;stroke:#ff7f0e;\" x=\"172.67575\" xlink:href=\"#m49f58662bf\" y=\"79.444307\"/>\n     <use style=\"fill:#ff7f0e;stroke:#ff7f0e;\" x=\"169.983766\" xlink:href=\"#m49f58662bf\" y=\"66.485668\"/>\n     <use style=\"fill:#ff7f0e;stroke:#ff7f0e;\" x=\"164.278703\" xlink:href=\"#m49f58662bf\" y=\"76.289175\"/>\n     <use style=\"fill:#ff7f0e;stroke:#ff7f0e;\" x=\"137.510628\" xlink:href=\"#m49f58662bf\" y=\"62.561752\"/>\n     <use style=\"fill:#ff7f0e;stroke:#ff7f0e;\" x=\"118.689638\" xlink:href=\"#m49f58662bf\" y=\"79.415453\"/>\n     <use style=\"fill:#ff7f0e;stroke:#ff7f0e;\" x=\"207.138154\" xlink:href=\"#m49f58662bf\" y=\"69.205822\"/>\n     <use style=\"fill:#ff7f0e;stroke:#ff7f0e;\" x=\"196.117963\" xlink:href=\"#m49f58662bf\" y=\"117.195875\"/>\n     <use style=\"fill:#ff7f0e;stroke:#ff7f0e;\" x=\"172.151018\" xlink:href=\"#m49f58662bf\" y=\"104.4377\"/>\n     <use style=\"fill:#ff7f0e;stroke:#ff7f0e;\" x=\"135.694499\" xlink:href=\"#m49f58662bf\" y=\"99.309874\"/>\n     <use style=\"fill:#ff7f0e;stroke:#ff7f0e;\" x=\"175.337001\" xlink:href=\"#m49f58662bf\" y=\"91.644671\"/>\n     <use style=\"fill:#ff7f0e;stroke:#ff7f0e;\" x=\"187.146356\" xlink:href=\"#m49f58662bf\" y=\"55.275033\"/>\n     <use style=\"fill:#ff7f0e;stroke:#ff7f0e;\" x=\"107.015527\" xlink:href=\"#m49f58662bf\" y=\"61.332094\"/>\n     <use style=\"fill:#ff7f0e;stroke:#ff7f0e;\" x=\"158.857836\" xlink:href=\"#m49f58662bf\" y=\"55.454073\"/>\n     <use style=\"fill:#ff7f0e;stroke:#ff7f0e;\" x=\"147.766054\" xlink:href=\"#m49f58662bf\" y=\"79.015813\"/>\n     <use style=\"fill:#ff7f0e;stroke:#ff7f0e;\" x=\"155.094276\" xlink:href=\"#m49f58662bf\" y=\"77.76768\"/>\n     <use style=\"fill:#ff7f0e;stroke:#ff7f0e;\" x=\"177.582966\" xlink:href=\"#m49f58662bf\" y=\"93.498262\"/>\n     <use style=\"fill:#ff7f0e;stroke:#ff7f0e;\" x=\"119.519412\" xlink:href=\"#m49f58662bf\" y=\"61.116171\"/>\n     <use style=\"fill:#ff7f0e;stroke:#ff7f0e;\" x=\"166.952033\" xlink:href=\"#m49f58662bf\" y=\"68.650629\"/>\n     <use style=\"fill:#ff7f0e;stroke:#ff7f0e;\" x=\"196.089903\" xlink:href=\"#m49f58662bf\" y=\"80.979146\"/>\n     <use style=\"fill:#ff7f0e;stroke:#ff7f0e;\" x=\"165.568506\" xlink:href=\"#m49f58662bf\" y=\"103.751663\"/>\n     <use style=\"fill:#ff7f0e;stroke:#ff7f0e;\" x=\"172.418058\" xlink:href=\"#m49f58662bf\" y=\"75.128625\"/>\n     <use style=\"fill:#ff7f0e;stroke:#ff7f0e;\" x=\"161.107636\" xlink:href=\"#m49f58662bf\" y=\"63.834296\"/>\n     <use style=\"fill:#ff7f0e;stroke:#ff7f0e;\" x=\"188.524671\" xlink:href=\"#m49f58662bf\" y=\"31.286155\"/>\n     <use style=\"fill:#ff7f0e;stroke:#ff7f0e;\" x=\"185.56591\" xlink:href=\"#m49f58662bf\" y=\"69.170793\"/>\n     <use style=\"fill:#ff7f0e;stroke:#ff7f0e;\" x=\"154.209838\" xlink:href=\"#m49f58662bf\" y=\"87.978013\"/>\n     <use style=\"fill:#ff7f0e;stroke:#ff7f0e;\" x=\"114.317647\" xlink:href=\"#m49f58662bf\" y=\"60.3126\"/>\n     <use style=\"fill:#ff7f0e;stroke:#ff7f0e;\" x=\"113.081467\" xlink:href=\"#m49f58662bf\" y=\"71.581832\"/>\n     <use style=\"fill:#ff7f0e;stroke:#ff7f0e;\" x=\"194.241912\" xlink:href=\"#m49f58662bf\" y=\"91.096605\"/>\n     <use style=\"fill:#ff7f0e;stroke:#ff7f0e;\" x=\"177.200942\" xlink:href=\"#m49f58662bf\" y=\"86.928612\"/>\n     <use style=\"fill:#ff7f0e;stroke:#ff7f0e;\" x=\"215.721756\" xlink:href=\"#m49f58662bf\" y=\"117.064134\"/>\n     <use style=\"fill:#ff7f0e;stroke:#ff7f0e;\" x=\"156.686065\" xlink:href=\"#m49f58662bf\" y=\"105.837035\"/>\n     <use style=\"fill:#ff7f0e;stroke:#ff7f0e;\" x=\"132.533445\" xlink:href=\"#m49f58662bf\" y=\"77.941596\"/>\n     <use style=\"fill:#ff7f0e;stroke:#ff7f0e;\" x=\"181.232292\" xlink:href=\"#m49f58662bf\" y=\"108.10363\"/>\n     <use style=\"fill:#ff7f0e;stroke:#ff7f0e;\" x=\"217.429296\" xlink:href=\"#m49f58662bf\" y=\"102.170566\"/>\n     <use style=\"fill:#ff7f0e;stroke:#ff7f0e;\" x=\"136.371607\" xlink:href=\"#m49f58662bf\" y=\"91.911623\"/>\n     <use style=\"fill:#ff7f0e;stroke:#ff7f0e;\" x=\"157.941884\" xlink:href=\"#m49f58662bf\" y=\"85.598125\"/>\n     <use style=\"fill:#ff7f0e;stroke:#ff7f0e;\" x=\"166.621716\" xlink:href=\"#m49f58662bf\" y=\"17.083636\"/>\n     <use style=\"fill:#ff7f0e;stroke:#ff7f0e;\" x=\"200.36439\" xlink:href=\"#m49f58662bf\" y=\"41.867077\"/>\n    </g>\n   </g>\n   <g id=\"PathCollection_3\">\n    <defs>\n     <path d=\"M 0 3 \nC 0.795609 3 1.55874 2.683901 2.12132 2.12132 \nC 2.683901 1.55874 3 0.795609 3 0 \nC 3 -0.795609 2.683901 -1.55874 2.12132 -2.12132 \nC 1.55874 -2.683901 0.795609 -3 0 -3 \nC -0.795609 -3 -1.55874 -2.683901 -2.12132 -2.12132 \nC -2.683901 -1.55874 -3 -0.795609 -3 0 \nC -3 0.795609 -2.683901 1.55874 -2.12132 2.12132 \nC -1.55874 2.683901 -0.795609 3 0 3 \nz\n\" id=\"m9aab602b2e\" style=\"stroke:#2ca02c;\"/>\n    </defs>\n    <g clip-path=\"url(#p7a95411892)\">\n     <use style=\"fill:#2ca02c;stroke:#2ca02c;\" x=\"234.897456\" xlink:href=\"#m9aab602b2e\" y=\"29.497381\"/>\n     <use style=\"fill:#2ca02c;stroke:#2ca02c;\" x=\"249.459227\" xlink:href=\"#m9aab602b2e\" y=\"78.066874\"/>\n     <use style=\"fill:#2ca02c;stroke:#2ca02c;\" x=\"349.684943\" xlink:href=\"#m9aab602b2e\" y=\"56.056353\"/>\n     <use style=\"fill:#2ca02c;stroke:#2ca02c;\" x=\"252.195716\" xlink:href=\"#m9aab602b2e\" y=\"113.969305\"/>\n     <use style=\"fill:#2ca02c;stroke:#2ca02c;\" x=\"267.101171\" xlink:href=\"#m9aab602b2e\" y=\"92.18482\"/>\n     <use style=\"fill:#2ca02c;stroke:#2ca02c;\" x=\"268.054226\" xlink:href=\"#m9aab602b2e\" y=\"48.731826\"/>\n     <use style=\"fill:#2ca02c;stroke:#2ca02c;\" x=\"314.364191\" xlink:href=\"#m9aab602b2e\" y=\"33.883818\"/>\n     <use style=\"fill:#2ca02c;stroke:#2ca02c;\" x=\"309.891657\" xlink:href=\"#m9aab602b2e\" y=\"61.675976\"/>\n     <use style=\"fill:#2ca02c;stroke:#2ca02c;\" x=\"258.325732\" xlink:href=\"#m9aab602b2e\" y=\"90.268532\"/>\n     <use style=\"fill:#2ca02c;stroke:#2ca02c;\" x=\"258.106039\" xlink:href=\"#m9aab602b2e\" y=\"129.968889\"/>\n     <use style=\"fill:#2ca02c;stroke:#2ca02c;\" x=\"345.084659\" xlink:href=\"#m9aab602b2e\" y=\"59.00579\"/>\n     <use style=\"fill:#2ca02c;stroke:#2ca02c;\" x=\"251.840134\" xlink:href=\"#m9aab602b2e\" y=\"107.15833\"/>\n    </g>\n   </g>\n   <g id=\"PathCollection_4\">\n    <defs>\n     <path d=\"M 0 4.472136 \nC 1.186024 4.472136 2.323632 4.000923 3.162278 3.162278 \nC 4.000923 2.323632 4.472136 1.186024 4.472136 0 \nC 4.472136 -1.186024 4.000923 -2.323632 3.162278 -3.162278 \nC 2.323632 -4.000923 1.186024 -4.472136 0 -4.472136 \nC -1.186024 -4.472136 -2.323632 -4.000923 -3.162278 -3.162278 \nC -4.000923 -2.323632 -4.472136 -1.186024 -4.472136 0 \nC -4.472136 1.186024 -4.000923 2.323632 -3.162278 3.162278 \nC -2.323632 4.000923 -1.186024 4.472136 0 4.472136 \nz\n\" id=\"mfd22912025\" style=\"stroke:#000000;\"/>\n    </defs>\n    <g clip-path=\"url(#p7a95411892)\">\n     <use style=\"stroke:#000000;\" x=\"131.110457\" xlink:href=\"#mfd22912025\" y=\"136.094123\"/>\n     <use style=\"stroke:#000000;\" x=\"164.612418\" xlink:href=\"#mfd22912025\" y=\"78.366977\"/>\n     <use style=\"stroke:#000000;\" x=\"279.917096\" xlink:href=\"#mfd22912025\" y=\"75.038991\"/>\n    </g>\n   </g>\n   <g id=\"matplotlib.axis_1\">\n    <g id=\"xtick_1\">\n     <g id=\"line2d_1\">\n      <defs>\n       <path d=\"M 0 0 \nL 0 3.5 \n\" id=\"m55c286b564\" style=\"stroke:#000000;stroke-width:0.8;\"/>\n      </defs>\n      <g>\n       <use style=\"stroke:#000000;stroke-width:0.8;\" x=\"45.321307\" xlink:href=\"#m55c286b564\" y=\"224.64\"/>\n      </g>\n     </g>\n     <g id=\"text_1\">\n      <!-- 0.0 -->\n      <g transform=\"translate(37.369744 239.238437)scale(0.1 -0.1)\">\n       <defs>\n        <path d=\"M 2034 4250 \nQ 1547 4250 1301 3770 \nQ 1056 3291 1056 2328 \nQ 1056 1369 1301 889 \nQ 1547 409 2034 409 \nQ 2525 409 2770 889 \nQ 3016 1369 3016 2328 \nQ 3016 3291 2770 3770 \nQ 2525 4250 2034 4250 \nz\nM 2034 4750 \nQ 2819 4750 3233 4129 \nQ 3647 3509 3647 2328 \nQ 3647 1150 3233 529 \nQ 2819 -91 2034 -91 \nQ 1250 -91 836 529 \nQ 422 1150 422 2328 \nQ 422 3509 836 4129 \nQ 1250 4750 2034 4750 \nz\n\" id=\"DejaVuSans-30\" transform=\"scale(0.015625)\"/>\n        <path d=\"M 684 794 \nL 1344 794 \nL 1344 0 \nL 684 0 \nL 684 794 \nz\n\" id=\"DejaVuSans-2e\" transform=\"scale(0.015625)\"/>\n       </defs>\n       <use xlink:href=\"#DejaVuSans-30\"/>\n       <use x=\"63.623047\" xlink:href=\"#DejaVuSans-2e\"/>\n       <use x=\"95.410156\" xlink:href=\"#DejaVuSans-30\"/>\n      </g>\n     </g>\n    </g>\n    <g id=\"xtick_2\">\n     <g id=\"line2d_2\">\n      <g>\n       <use style=\"stroke:#000000;stroke-width:0.8;\" x=\"106.194034\" xlink:href=\"#m55c286b564\" y=\"224.64\"/>\n      </g>\n     </g>\n     <g id=\"text_2\">\n      <!-- 0.2 -->\n      <g transform=\"translate(98.242472 239.238437)scale(0.1 -0.1)\">\n       <defs>\n        <path d=\"M 1228 531 \nL 3431 531 \nL 3431 0 \nL 469 0 \nL 469 531 \nQ 828 903 1448 1529 \nQ 2069 2156 2228 2338 \nQ 2531 2678 2651 2914 \nQ 2772 3150 2772 3378 \nQ 2772 3750 2511 3984 \nQ 2250 4219 1831 4219 \nQ 1534 4219 1204 4116 \nQ 875 4013 500 3803 \nL 500 4441 \nQ 881 4594 1212 4672 \nQ 1544 4750 1819 4750 \nQ 2544 4750 2975 4387 \nQ 3406 4025 3406 3419 \nQ 3406 3131 3298 2873 \nQ 3191 2616 2906 2266 \nQ 2828 2175 2409 1742 \nQ 1991 1309 1228 531 \nz\n\" id=\"DejaVuSans-32\" transform=\"scale(0.015625)\"/>\n       </defs>\n       <use xlink:href=\"#DejaVuSans-30\"/>\n       <use x=\"63.623047\" xlink:href=\"#DejaVuSans-2e\"/>\n       <use x=\"95.410156\" xlink:href=\"#DejaVuSans-32\"/>\n      </g>\n     </g>\n    </g>\n    <g id=\"xtick_3\">\n     <g id=\"line2d_3\">\n      <g>\n       <use style=\"stroke:#000000;stroke-width:0.8;\" x=\"167.066761\" xlink:href=\"#m55c286b564\" y=\"224.64\"/>\n      </g>\n     </g>\n     <g id=\"text_3\">\n      <!-- 0.4 -->\n      <g transform=\"translate(159.115199 239.238437)scale(0.1 -0.1)\">\n       <defs>\n        <path d=\"M 2419 4116 \nL 825 1625 \nL 2419 1625 \nL 2419 4116 \nz\nM 2253 4666 \nL 3047 4666 \nL 3047 1625 \nL 3713 1625 \nL 3713 1100 \nL 3047 1100 \nL 3047 0 \nL 2419 0 \nL 2419 1100 \nL 313 1100 \nL 313 1709 \nL 2253 4666 \nz\n\" id=\"DejaVuSans-34\" transform=\"scale(0.015625)\"/>\n       </defs>\n       <use xlink:href=\"#DejaVuSans-30\"/>\n       <use x=\"63.623047\" xlink:href=\"#DejaVuSans-2e\"/>\n       <use x=\"95.410156\" xlink:href=\"#DejaVuSans-34\"/>\n      </g>\n     </g>\n    </g>\n    <g id=\"xtick_4\">\n     <g id=\"line2d_4\">\n      <g>\n       <use style=\"stroke:#000000;stroke-width:0.8;\" x=\"227.939489\" xlink:href=\"#m55c286b564\" y=\"224.64\"/>\n      </g>\n     </g>\n     <g id=\"text_4\">\n      <!-- 0.6 -->\n      <g transform=\"translate(219.987926 239.238437)scale(0.1 -0.1)\">\n       <defs>\n        <path d=\"M 2113 2584 \nQ 1688 2584 1439 2293 \nQ 1191 2003 1191 1497 \nQ 1191 994 1439 701 \nQ 1688 409 2113 409 \nQ 2538 409 2786 701 \nQ 3034 994 3034 1497 \nQ 3034 2003 2786 2293 \nQ 2538 2584 2113 2584 \nz\nM 3366 4563 \nL 3366 3988 \nQ 3128 4100 2886 4159 \nQ 2644 4219 2406 4219 \nQ 1781 4219 1451 3797 \nQ 1122 3375 1075 2522 \nQ 1259 2794 1537 2939 \nQ 1816 3084 2150 3084 \nQ 2853 3084 3261 2657 \nQ 3669 2231 3669 1497 \nQ 3669 778 3244 343 \nQ 2819 -91 2113 -91 \nQ 1303 -91 875 529 \nQ 447 1150 447 2328 \nQ 447 3434 972 4092 \nQ 1497 4750 2381 4750 \nQ 2619 4750 2861 4703 \nQ 3103 4656 3366 4563 \nz\n\" id=\"DejaVuSans-36\" transform=\"scale(0.015625)\"/>\n       </defs>\n       <use xlink:href=\"#DejaVuSans-30\"/>\n       <use x=\"63.623047\" xlink:href=\"#DejaVuSans-2e\"/>\n       <use x=\"95.410156\" xlink:href=\"#DejaVuSans-36\"/>\n      </g>\n     </g>\n    </g>\n    <g id=\"xtick_5\">\n     <g id=\"line2d_5\">\n      <g>\n       <use style=\"stroke:#000000;stroke-width:0.8;\" x=\"288.812216\" xlink:href=\"#m55c286b564\" y=\"224.64\"/>\n      </g>\n     </g>\n     <g id=\"text_5\">\n      <!-- 0.8 -->\n      <g transform=\"translate(280.860653 239.238437)scale(0.1 -0.1)\">\n       <defs>\n        <path d=\"M 2034 2216 \nQ 1584 2216 1326 1975 \nQ 1069 1734 1069 1313 \nQ 1069 891 1326 650 \nQ 1584 409 2034 409 \nQ 2484 409 2743 651 \nQ 3003 894 3003 1313 \nQ 3003 1734 2745 1975 \nQ 2488 2216 2034 2216 \nz\nM 1403 2484 \nQ 997 2584 770 2862 \nQ 544 3141 544 3541 \nQ 544 4100 942 4425 \nQ 1341 4750 2034 4750 \nQ 2731 4750 3128 4425 \nQ 3525 4100 3525 3541 \nQ 3525 3141 3298 2862 \nQ 3072 2584 2669 2484 \nQ 3125 2378 3379 2068 \nQ 3634 1759 3634 1313 \nQ 3634 634 3220 271 \nQ 2806 -91 2034 -91 \nQ 1263 -91 848 271 \nQ 434 634 434 1313 \nQ 434 1759 690 2068 \nQ 947 2378 1403 2484 \nz\nM 1172 3481 \nQ 1172 3119 1398 2916 \nQ 1625 2713 2034 2713 \nQ 2441 2713 2670 2916 \nQ 2900 3119 2900 3481 \nQ 2900 3844 2670 4047 \nQ 2441 4250 2034 4250 \nQ 1625 4250 1398 4047 \nQ 1172 3844 1172 3481 \nz\n\" id=\"DejaVuSans-38\" transform=\"scale(0.015625)\"/>\n       </defs>\n       <use xlink:href=\"#DejaVuSans-30\"/>\n       <use x=\"63.623047\" xlink:href=\"#DejaVuSans-2e\"/>\n       <use x=\"95.410156\" xlink:href=\"#DejaVuSans-38\"/>\n      </g>\n     </g>\n    </g>\n    <g id=\"xtick_6\">\n     <g id=\"line2d_6\">\n      <g>\n       <use style=\"stroke:#000000;stroke-width:0.8;\" x=\"349.684943\" xlink:href=\"#m55c286b564\" y=\"224.64\"/>\n      </g>\n     </g>\n     <g id=\"text_6\">\n      <!-- 1.0 -->\n      <g transform=\"translate(341.733381 239.238437)scale(0.1 -0.1)\">\n       <defs>\n        <path d=\"M 794 531 \nL 1825 531 \nL 1825 4091 \nL 703 3866 \nL 703 4441 \nL 1819 4666 \nL 2450 4666 \nL 2450 531 \nL 3481 531 \nL 3481 0 \nL 794 0 \nL 794 531 \nz\n\" id=\"DejaVuSans-31\" transform=\"scale(0.015625)\"/>\n       </defs>\n       <use xlink:href=\"#DejaVuSans-31\"/>\n       <use x=\"63.623047\" xlink:href=\"#DejaVuSans-2e\"/>\n       <use x=\"95.410156\" xlink:href=\"#DejaVuSans-30\"/>\n      </g>\n     </g>\n    </g>\n   </g>\n   <g id=\"matplotlib.axis_2\">\n    <g id=\"ytick_1\">\n     <g id=\"line2d_7\">\n      <defs>\n       <path d=\"M 0 0 \nL -3.5 0 \n\" id=\"m5d311b3815\" style=\"stroke:#000000;stroke-width:0.8;\"/>\n      </defs>\n      <g>\n       <use style=\"stroke:#000000;stroke-width:0.8;\" x=\"30.103125\" xlink:href=\"#m5d311b3815\" y=\"214.756364\"/>\n      </g>\n     </g>\n     <g id=\"text_7\">\n      <!-- 0.0 -->\n      <g transform=\"translate(7.2 218.555582)scale(0.1 -0.1)\">\n       <use xlink:href=\"#DejaVuSans-30\"/>\n       <use x=\"63.623047\" xlink:href=\"#DejaVuSans-2e\"/>\n       <use x=\"95.410156\" xlink:href=\"#DejaVuSans-30\"/>\n      </g>\n     </g>\n    </g>\n    <g id=\"ytick_2\">\n     <g id=\"line2d_8\">\n      <g>\n       <use style=\"stroke:#000000;stroke-width:0.8;\" x=\"30.103125\" xlink:href=\"#m5d311b3815\" y=\"175.221818\"/>\n      </g>\n     </g>\n     <g id=\"text_8\">\n      <!-- 0.2 -->\n      <g transform=\"translate(7.2 179.021037)scale(0.1 -0.1)\">\n       <use xlink:href=\"#DejaVuSans-30\"/>\n       <use x=\"63.623047\" xlink:href=\"#DejaVuSans-2e\"/>\n       <use x=\"95.410156\" xlink:href=\"#DejaVuSans-32\"/>\n      </g>\n     </g>\n    </g>\n    <g id=\"ytick_3\">\n     <g id=\"line2d_9\">\n      <g>\n       <use style=\"stroke:#000000;stroke-width:0.8;\" x=\"30.103125\" xlink:href=\"#m5d311b3815\" y=\"135.687273\"/>\n      </g>\n     </g>\n     <g id=\"text_9\">\n      <!-- 0.4 -->\n      <g transform=\"translate(7.2 139.486491)scale(0.1 -0.1)\">\n       <use xlink:href=\"#DejaVuSans-30\"/>\n       <use x=\"63.623047\" xlink:href=\"#DejaVuSans-2e\"/>\n       <use x=\"95.410156\" xlink:href=\"#DejaVuSans-34\"/>\n      </g>\n     </g>\n    </g>\n    <g id=\"ytick_4\">\n     <g id=\"line2d_10\">\n      <g>\n       <use style=\"stroke:#000000;stroke-width:0.8;\" x=\"30.103125\" xlink:href=\"#m5d311b3815\" y=\"96.152727\"/>\n      </g>\n     </g>\n     <g id=\"text_10\">\n      <!-- 0.6 -->\n      <g transform=\"translate(7.2 99.951946)scale(0.1 -0.1)\">\n       <use xlink:href=\"#DejaVuSans-30\"/>\n       <use x=\"63.623047\" xlink:href=\"#DejaVuSans-2e\"/>\n       <use x=\"95.410156\" xlink:href=\"#DejaVuSans-36\"/>\n      </g>\n     </g>\n    </g>\n    <g id=\"ytick_5\">\n     <g id=\"line2d_11\">\n      <g>\n       <use style=\"stroke:#000000;stroke-width:0.8;\" x=\"30.103125\" xlink:href=\"#m5d311b3815\" y=\"56.618182\"/>\n      </g>\n     </g>\n     <g id=\"text_11\">\n      <!-- 0.8 -->\n      <g transform=\"translate(7.2 60.417401)scale(0.1 -0.1)\">\n       <use xlink:href=\"#DejaVuSans-30\"/>\n       <use x=\"63.623047\" xlink:href=\"#DejaVuSans-2e\"/>\n       <use x=\"95.410156\" xlink:href=\"#DejaVuSans-38\"/>\n      </g>\n     </g>\n    </g>\n    <g id=\"ytick_6\">\n     <g id=\"line2d_12\">\n      <g>\n       <use style=\"stroke:#000000;stroke-width:0.8;\" x=\"30.103125\" xlink:href=\"#m5d311b3815\" y=\"17.083636\"/>\n      </g>\n     </g>\n     <g id=\"text_12\">\n      <!-- 1.0 -->\n      <g transform=\"translate(7.2 20.882855)scale(0.1 -0.1)\">\n       <use xlink:href=\"#DejaVuSans-31\"/>\n       <use x=\"63.623047\" xlink:href=\"#DejaVuSans-2e\"/>\n       <use x=\"95.410156\" xlink:href=\"#DejaVuSans-30\"/>\n      </g>\n     </g>\n    </g>\n   </g>\n   <g id=\"patch_3\">\n    <path d=\"M 30.103125 224.64 \nL 30.103125 7.2 \n\" style=\"fill:none;stroke:#000000;stroke-linecap:square;stroke-linejoin:miter;stroke-width:0.8;\"/>\n   </g>\n   <g id=\"patch_4\">\n    <path d=\"M 364.903125 224.64 \nL 364.903125 7.2 \n\" style=\"fill:none;stroke:#000000;stroke-linecap:square;stroke-linejoin:miter;stroke-width:0.8;\"/>\n   </g>\n   <g id=\"patch_5\">\n    <path d=\"M 30.103125 224.64 \nL 364.903125 224.64 \n\" style=\"fill:none;stroke:#000000;stroke-linecap:square;stroke-linejoin:miter;stroke-width:0.8;\"/>\n   </g>\n   <g id=\"patch_6\">\n    <path d=\"M 30.103125 7.2 \nL 364.903125 7.2 \n\" style=\"fill:none;stroke:#000000;stroke-linecap:square;stroke-linejoin:miter;stroke-width:0.8;\"/>\n   </g>\n   <g id=\"legend_1\">\n    <g id=\"patch_7\">\n     <path d=\"M 353.903125 20.2 \nL 357.903125 20.2 \nQ 359.903125 20.2 359.903125 18.2 \nL 359.903125 14.2 \nQ 359.903125 12.2 357.903125 12.2 \nL 353.903125 12.2 \nQ 351.903125 12.2 351.903125 14.2 \nL 351.903125 18.2 \nQ 351.903125 20.2 353.903125 20.2 \nz\n\" style=\"fill:#ffffff;opacity:0.8;stroke:#cccccc;stroke-linejoin:miter;\"/>\n    </g>\n   </g>\n  </g>\n </g>\n <defs>\n  <clipPath id=\"p7a95411892\">\n   <rect height=\"217.44\" width=\"334.8\" x=\"30.103125\" y=\"7.2\"/>\n  </clipPath>\n </defs>\n</svg>\n",
      "image/png": "[encoded data removed]"
     },
     "metadata": {
      "needs_background": "light"
     }
    }
   ],
   "metadata": {}
  }
 ],
 "metadata": {
  "orig_nbformat": 4,
  "language_info": {
   "name": "python",
   "version": "3.8.10",
   "mimetype": "text/x-python",
   "codemirror_mode": {
    "name": "ipython",
    "version": 3
   },
   "pygments_lexer": "ipython3",
   "nbconvert_exporter": "python",
   "file_extension": ".py"
  },
  "kernelspec": {
   "name": "python3",
   "display_name": "Python 3.8.10 64-bit"
  },
  "interpreter": {
   "hash": "916dbcbb3f70747c44a77c7bcd40155683ae19c65e1c03b4aa3499c5328201f1"
  }
 },
 "nbformat": 4,
 "nbformat_minor": 2
}