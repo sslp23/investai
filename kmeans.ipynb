{
 "cells": [
  {
   "cell_type": "markdown",
   "source": [
    "Imports"
   ],
   "metadata": {}
  },
  {
   "cell_type": "code",
   "execution_count": 41,
   "source": [
    "import pandas as pd\n",
    "import numpy as np\n",
    "import matplotlib.pyplot as plt\n",
    "from sklearn.cluster import KMeans\n",
    "from sklearn.preprocessing import MinMaxScaler\n",
    "from sklearn.neighbors import LocalOutlierFactor"
   ],
   "outputs": [],
   "metadata": {}
  },
  {
   "cell_type": "code",
   "execution_count": 94,
   "source": [
    "df = pd.read_csv('portfolios.csv')\n",
    "df_simple = pd.DataFrame()"
   ],
   "outputs": [],
   "metadata": {}
  },
  {
   "cell_type": "markdown",
   "source": [
    "Normalizando Valores"
   ],
   "metadata": {}
  },
  {
   "cell_type": "code",
   "execution_count": 95,
   "source": [
    "df['SMA42'] = MinMaxScaler().fit_transform(df[['SMA42']])\n",
    "df['SMA150'] = MinMaxScaler().fit_transform(df[['SMA150']])\n",
    "df['RSI'] = MinMaxScaler().fit_transform(df[['RSI']])\n",
    "df['VAR'] = MinMaxScaler().fit_transform(df[['VAR']])\n",
    "df_simple['RETURN'] = (df['SMA42'] + df['SMA150'] + df['RSI'])\n",
    "df_simple['RISK'] = df['VAR']\n",
    "df_simple['RETURN'] = MinMaxScaler().fit_transform(df_simple[['RETURN']])"
   ],
   "outputs": [],
   "metadata": {}
  },
  {
   "cell_type": "code",
   "execution_count": 96,
   "source": [
    "df_simple.describe()\n"
   ],
   "outputs": [
    {
     "output_type": "execute_result",
     "data": {
      "text/plain": [
       "          RETURN       RISK\n",
       "count  90.000000  90.000000\n",
       "mean    0.452616   0.336131\n",
       "std     0.170899   0.188523\n",
       "min     0.000000   0.000000\n",
       "25%     0.366863   0.227833\n",
       "50%     0.448264   0.310992\n",
       "75%     0.515970   0.459239\n",
       "max     1.000000   1.000000"
      ],
      "text/html": [
       "<div>\n",
       "<style scoped>\n",
       "    .dataframe tbody tr th:only-of-type {\n",
       "        vertical-align: middle;\n",
       "    }\n",
       "\n",
       "    .dataframe tbody tr th {\n",
       "        vertical-align: top;\n",
       "    }\n",
       "\n",
       "    .dataframe thead th {\n",
       "        text-align: right;\n",
       "    }\n",
       "</style>\n",
       "<table border=\"1\" class=\"dataframe\">\n",
       "  <thead>\n",
       "    <tr style=\"text-align: right;\">\n",
       "      <th></th>\n",
       "      <th>RETURN</th>\n",
       "      <th>RISK</th>\n",
       "    </tr>\n",
       "  </thead>\n",
       "  <tbody>\n",
       "    <tr>\n",
       "      <th>count</th>\n",
       "      <td>90.000000</td>\n",
       "      <td>90.000000</td>\n",
       "    </tr>\n",
       "    <tr>\n",
       "      <th>mean</th>\n",
       "      <td>0.452616</td>\n",
       "      <td>0.336131</td>\n",
       "    </tr>\n",
       "    <tr>\n",
       "      <th>std</th>\n",
       "      <td>0.170899</td>\n",
       "      <td>0.188523</td>\n",
       "    </tr>\n",
       "    <tr>\n",
       "      <th>min</th>\n",
       "      <td>0.000000</td>\n",
       "      <td>0.000000</td>\n",
       "    </tr>\n",
       "    <tr>\n",
       "      <th>25%</th>\n",
       "      <td>0.366863</td>\n",
       "      <td>0.227833</td>\n",
       "    </tr>\n",
       "    <tr>\n",
       "      <th>50%</th>\n",
       "      <td>0.448264</td>\n",
       "      <td>0.310992</td>\n",
       "    </tr>\n",
       "    <tr>\n",
       "      <th>75%</th>\n",
       "      <td>0.515970</td>\n",
       "      <td>0.459239</td>\n",
       "    </tr>\n",
       "    <tr>\n",
       "      <th>max</th>\n",
       "      <td>1.000000</td>\n",
       "      <td>1.000000</td>\n",
       "    </tr>\n",
       "  </tbody>\n",
       "</table>\n",
       "</div>"
      ]
     },
     "metadata": {},
     "execution_count": 96
    }
   ],
   "metadata": {}
  },
  {
   "cell_type": "markdown",
   "source": [
    "Tratando Outliers"
   ],
   "metadata": {}
  },
  {
   "cell_type": "code",
   "execution_count": 97,
   "source": [
    "clf = LocalOutlierFactor(n_neighbors=10)\n",
    "scores = clf.fit_predict(df_simple)\n",
    "df_simple['outlier'] = scores\n",
    "df['outlier'] = scores"
   ],
   "outputs": [],
   "metadata": {}
  },
  {
   "cell_type": "code",
   "execution_count": 98,
   "source": [
    "df_simple[df_simple['outlier'] == -1]"
   ],
   "outputs": [
    {
     "output_type": "execute_result",
     "data": {
      "text/plain": [
       "      RETURN      RISK  outlier\n",
       "0   0.170403  0.564886       -1\n",
       "3   0.129649  0.286562       -1\n",
       "14  0.666743  0.276348       -1\n",
       "17  0.892769  0.738400       -1\n",
       "23  0.654580  0.254593       -1\n",
       "46  0.000000  0.000000       -1\n",
       "49  0.408660  1.000000       -1\n",
       "54  0.923015  0.560024       -1\n",
       "74  1.000000  0.430227       -1\n",
       "84  0.457102  0.862398       -1\n",
       "85  0.476633  0.772190       -1"
      ],
      "text/html": [
       "<div>\n",
       "<style scoped>\n",
       "    .dataframe tbody tr th:only-of-type {\n",
       "        vertical-align: middle;\n",
       "    }\n",
       "\n",
       "    .dataframe tbody tr th {\n",
       "        vertical-align: top;\n",
       "    }\n",
       "\n",
       "    .dataframe thead th {\n",
       "        text-align: right;\n",
       "    }\n",
       "</style>\n",
       "<table border=\"1\" class=\"dataframe\">\n",
       "  <thead>\n",
       "    <tr style=\"text-align: right;\">\n",
       "      <th></th>\n",
       "      <th>RETURN</th>\n",
       "      <th>RISK</th>\n",
       "      <th>outlier</th>\n",
       "    </tr>\n",
       "  </thead>\n",
       "  <tbody>\n",
       "    <tr>\n",
       "      <th>0</th>\n",
       "      <td>0.170403</td>\n",
       "      <td>0.564886</td>\n",
       "      <td>-1</td>\n",
       "    </tr>\n",
       "    <tr>\n",
       "      <th>3</th>\n",
       "      <td>0.129649</td>\n",
       "      <td>0.286562</td>\n",
       "      <td>-1</td>\n",
       "    </tr>\n",
       "    <tr>\n",
       "      <th>14</th>\n",
       "      <td>0.666743</td>\n",
       "      <td>0.276348</td>\n",
       "      <td>-1</td>\n",
       "    </tr>\n",
       "    <tr>\n",
       "      <th>17</th>\n",
       "      <td>0.892769</td>\n",
       "      <td>0.738400</td>\n",
       "      <td>-1</td>\n",
       "    </tr>\n",
       "    <tr>\n",
       "      <th>23</th>\n",
       "      <td>0.654580</td>\n",
       "      <td>0.254593</td>\n",
       "      <td>-1</td>\n",
       "    </tr>\n",
       "    <tr>\n",
       "      <th>46</th>\n",
       "      <td>0.000000</td>\n",
       "      <td>0.000000</td>\n",
       "      <td>-1</td>\n",
       "    </tr>\n",
       "    <tr>\n",
       "      <th>49</th>\n",
       "      <td>0.408660</td>\n",
       "      <td>1.000000</td>\n",
       "      <td>-1</td>\n",
       "    </tr>\n",
       "    <tr>\n",
       "      <th>54</th>\n",
       "      <td>0.923015</td>\n",
       "      <td>0.560024</td>\n",
       "      <td>-1</td>\n",
       "    </tr>\n",
       "    <tr>\n",
       "      <th>74</th>\n",
       "      <td>1.000000</td>\n",
       "      <td>0.430227</td>\n",
       "      <td>-1</td>\n",
       "    </tr>\n",
       "    <tr>\n",
       "      <th>84</th>\n",
       "      <td>0.457102</td>\n",
       "      <td>0.862398</td>\n",
       "      <td>-1</td>\n",
       "    </tr>\n",
       "    <tr>\n",
       "      <th>85</th>\n",
       "      <td>0.476633</td>\n",
       "      <td>0.772190</td>\n",
       "      <td>-1</td>\n",
       "    </tr>\n",
       "  </tbody>\n",
       "</table>\n",
       "</div>"
      ]
     },
     "metadata": {},
     "execution_count": 98
    }
   ],
   "metadata": {}
  },
  {
   "cell_type": "code",
   "execution_count": 99,
   "source": [
    "df_simple = df_simple[df_simple['outlier'] == 1]\n",
    "df = df[df['outlier'] == 1]\n",
    "df_simple.drop(columns=['outlier'])\n",
    "df.drop(columns=['outlier'])\n"
   ],
   "outputs": [
    {
     "output_type": "execute_result",
     "data": {
      "text/plain": [
       "    index                                             stocks     SMA42  \\\n",
       "1       1  ['HGTX3', 'CVCB3', 'ELET6', 'ABEV3', 'ENBR3', ...  0.467806   \n",
       "2       2              ['LAME4', 'SBSP3', 'TAEE11', 'GOAU4']  0.310407   \n",
       "4       4               ['TIMS3', 'LREN3', 'GOLL4', 'BBDC4']  0.358413   \n",
       "5       5  ['KLBN11', 'BBDC4', 'AZUL4', 'PRIO3', 'CSNA3',...  0.427673   \n",
       "6       6      ['CVCB3', 'ITSA4', 'QUAL3', 'SBSP3', 'LREN3']  0.394594   \n",
       "..    ...                                                ...       ...   \n",
       "83     92     ['BBSE3', 'TAEE11', 'ITUB4', 'COGN3', 'ECOR3']  0.181445   \n",
       "86     95  ['B3SA3', 'BEEF3', 'LREN3', 'YDUQ3', 'CCRO3', ...  0.313192   \n",
       "87     96  ['USIM5', 'JHSF3', 'BBAS3', 'BRML3', 'CIEL3', ...  0.353455   \n",
       "88     97  ['BRKM5', 'COGN3', 'GNDI3', 'CCRO3', 'AZUL4', ...  0.507007   \n",
       "89     98  ['CSNA3', 'SUZB3', 'ELET6', 'TAEE11', 'VIVT3',...  0.506026   \n",
       "\n",
       "      SMA150       RSI       VAR  \n",
       "1   0.363506  0.676520  0.421233  \n",
       "2   0.366342  0.386661  0.416246  \n",
       "4   0.368369  0.356500  0.542556  \n",
       "5   0.409185  0.689250  0.332312  \n",
       "6   0.424574  0.498832  0.597154  \n",
       "..       ...       ...       ...  \n",
       "83  0.175270  0.585217  0.104689  \n",
       "86  0.331618  0.210021  0.402531  \n",
       "87  0.319722  0.596814  0.147254  \n",
       "88  0.511795  0.705524  0.531850  \n",
       "89  0.543876  0.392904  0.287185  \n",
       "\n",
       "[79 rows x 6 columns]"
      ],
      "text/html": [
       "<div>\n",
       "<style scoped>\n",
       "    .dataframe tbody tr th:only-of-type {\n",
       "        vertical-align: middle;\n",
       "    }\n",
       "\n",
       "    .dataframe tbody tr th {\n",
       "        vertical-align: top;\n",
       "    }\n",
       "\n",
       "    .dataframe thead th {\n",
       "        text-align: right;\n",
       "    }\n",
       "</style>\n",
       "<table border=\"1\" class=\"dataframe\">\n",
       "  <thead>\n",
       "    <tr style=\"text-align: right;\">\n",
       "      <th></th>\n",
       "      <th>index</th>\n",
       "      <th>stocks</th>\n",
       "      <th>SMA42</th>\n",
       "      <th>SMA150</th>\n",
       "      <th>RSI</th>\n",
       "      <th>VAR</th>\n",
       "    </tr>\n",
       "  </thead>\n",
       "  <tbody>\n",
       "    <tr>\n",
       "      <th>1</th>\n",
       "      <td>1</td>\n",
       "      <td>['HGTX3', 'CVCB3', 'ELET6', 'ABEV3', 'ENBR3', ...</td>\n",
       "      <td>0.467806</td>\n",
       "      <td>0.363506</td>\n",
       "      <td>0.676520</td>\n",
       "      <td>0.421233</td>\n",
       "    </tr>\n",
       "    <tr>\n",
       "      <th>2</th>\n",
       "      <td>2</td>\n",
       "      <td>['LAME4', 'SBSP3', 'TAEE11', 'GOAU4']</td>\n",
       "      <td>0.310407</td>\n",
       "      <td>0.366342</td>\n",
       "      <td>0.386661</td>\n",
       "      <td>0.416246</td>\n",
       "    </tr>\n",
       "    <tr>\n",
       "      <th>4</th>\n",
       "      <td>4</td>\n",
       "      <td>['TIMS3', 'LREN3', 'GOLL4', 'BBDC4']</td>\n",
       "      <td>0.358413</td>\n",
       "      <td>0.368369</td>\n",
       "      <td>0.356500</td>\n",
       "      <td>0.542556</td>\n",
       "    </tr>\n",
       "    <tr>\n",
       "      <th>5</th>\n",
       "      <td>5</td>\n",
       "      <td>['KLBN11', 'BBDC4', 'AZUL4', 'PRIO3', 'CSNA3',...</td>\n",
       "      <td>0.427673</td>\n",
       "      <td>0.409185</td>\n",
       "      <td>0.689250</td>\n",
       "      <td>0.332312</td>\n",
       "    </tr>\n",
       "    <tr>\n",
       "      <th>6</th>\n",
       "      <td>6</td>\n",
       "      <td>['CVCB3', 'ITSA4', 'QUAL3', 'SBSP3', 'LREN3']</td>\n",
       "      <td>0.394594</td>\n",
       "      <td>0.424574</td>\n",
       "      <td>0.498832</td>\n",
       "      <td>0.597154</td>\n",
       "    </tr>\n",
       "    <tr>\n",
       "      <th>...</th>\n",
       "      <td>...</td>\n",
       "      <td>...</td>\n",
       "      <td>...</td>\n",
       "      <td>...</td>\n",
       "      <td>...</td>\n",
       "      <td>...</td>\n",
       "    </tr>\n",
       "    <tr>\n",
       "      <th>83</th>\n",
       "      <td>92</td>\n",
       "      <td>['BBSE3', 'TAEE11', 'ITUB4', 'COGN3', 'ECOR3']</td>\n",
       "      <td>0.181445</td>\n",
       "      <td>0.175270</td>\n",
       "      <td>0.585217</td>\n",
       "      <td>0.104689</td>\n",
       "    </tr>\n",
       "    <tr>\n",
       "      <th>86</th>\n",
       "      <td>95</td>\n",
       "      <td>['B3SA3', 'BEEF3', 'LREN3', 'YDUQ3', 'CCRO3', ...</td>\n",
       "      <td>0.313192</td>\n",
       "      <td>0.331618</td>\n",
       "      <td>0.210021</td>\n",
       "      <td>0.402531</td>\n",
       "    </tr>\n",
       "    <tr>\n",
       "      <th>87</th>\n",
       "      <td>96</td>\n",
       "      <td>['USIM5', 'JHSF3', 'BBAS3', 'BRML3', 'CIEL3', ...</td>\n",
       "      <td>0.353455</td>\n",
       "      <td>0.319722</td>\n",
       "      <td>0.596814</td>\n",
       "      <td>0.147254</td>\n",
       "    </tr>\n",
       "    <tr>\n",
       "      <th>88</th>\n",
       "      <td>97</td>\n",
       "      <td>['BRKM5', 'COGN3', 'GNDI3', 'CCRO3', 'AZUL4', ...</td>\n",
       "      <td>0.507007</td>\n",
       "      <td>0.511795</td>\n",
       "      <td>0.705524</td>\n",
       "      <td>0.531850</td>\n",
       "    </tr>\n",
       "    <tr>\n",
       "      <th>89</th>\n",
       "      <td>98</td>\n",
       "      <td>['CSNA3', 'SUZB3', 'ELET6', 'TAEE11', 'VIVT3',...</td>\n",
       "      <td>0.506026</td>\n",
       "      <td>0.543876</td>\n",
       "      <td>0.392904</td>\n",
       "      <td>0.287185</td>\n",
       "    </tr>\n",
       "  </tbody>\n",
       "</table>\n",
       "<p>79 rows × 6 columns</p>\n",
       "</div>"
      ]
     },
     "metadata": {},
     "execution_count": 99
    }
   ],
   "metadata": {}
  },
  {
   "cell_type": "markdown",
   "source": [
    "Criando Modelo"
   ],
   "metadata": {}
  },
  {
   "cell_type": "code",
   "execution_count": 100,
   "source": [
    "kmeans = KMeans(n_clusters=3)\n",
    "kmeans.fit(df_simple)"
   ],
   "outputs": [
    {
     "output_type": "execute_result",
     "data": {
      "text/plain": [
       "KMeans(n_clusters=3)"
      ]
     },
     "metadata": {},
     "execution_count": 100
    }
   ],
   "metadata": {}
  },
  {
   "cell_type": "markdown",
   "source": [
    "Gerando Visualização"
   ],
   "metadata": {}
  },
  {
   "cell_type": "code",
   "execution_count": 101,
   "source": [
    "predict = kmeans.labels_\n",
    "df_simple['class'] = predict\n",
    "u_labels = np.unique(predict)\n",
    "centroids = kmeans.cluster_centers_\n",
    "for i in u_labels:\n",
    "    plt.scatter(df_simple[df_simple['class']==i]['RETURN'],df_simple[df_simple['class']==i]['RISK'])\n",
    "plt.scatter(centroids[:,0] , centroids[:,1] , s = 80, color = 'k')\n",
    "plt.xlabel(\"Return\")\n",
    "plt.ylabel(\"Risk\")\n",
    "plt.legend()\n",
    "plt.show()"
   ],
   "outputs": [
    {
     "output_type": "stream",
     "name": "stderr",
     "text": [
      "No handles with labels found to put in legend.\n"
     ]
    },
    {
     "output_type": "display_data",
     "data": {
      "text/plain": [
       "<Figure size 432x288 with 1 Axes>"
      ],
      "image/svg+xml": "<?xml version=\"1.0\" encoding=\"utf-8\" standalone=\"no\"?>\n<!DOCTYPE svg PUBLIC \"-//W3C//DTD SVG 1.1//EN\"\n  \"http://www.w3.org/Graphics/SVG/1.1/DTD/svg11.dtd\">\n<svg height=\"262.19625pt\" version=\"1.1\" viewBox=\"0 0 385.78125 262.19625\" width=\"385.78125pt\" xmlns=\"http://www.w3.org/2000/svg\" xmlns:xlink=\"http://www.w3.org/1999/xlink\">\n <metadata>\n  <rdf:RDF xmlns:cc=\"http://creativecommons.org/ns#\" xmlns:dc=\"http://purl.org/dc/elements/1.1/\" xmlns:rdf=\"http://www.w3.org/1999/02/22-rdf-syntax-ns#\">\n   <cc:Work>\n    <dc:type rdf:resource=\"http://purl.org/dc/dcmitype/StillImage\"/>\n    <dc:date>2021-08-15T19:52:50.967596</dc:date>\n    <dc:format>image/svg+xml</dc:format>\n    <dc:creator>\n     <cc:Agent>\n      <dc:title>Matplotlib v3.4.2, https://matplotlib.org/</dc:title>\n     </cc:Agent>\n    </dc:creator>\n   </cc:Work>\n  </rdf:RDF>\n </metadata>\n <defs>\n  <style type=\"text/css\">*{stroke-linecap:butt;stroke-linejoin:round;}</style>\n </defs>\n <g id=\"figure_1\">\n  <g id=\"patch_1\">\n   <path d=\"M 0 262.19625 \nL 385.78125 262.19625 \nL 385.78125 0 \nL 0 0 \nz\n\" style=\"fill:none;\"/>\n  </g>\n  <g id=\"axes_1\">\n   <g id=\"patch_2\">\n    <path d=\"M 43.78125 224.64 \nL 378.58125 224.64 \nL 378.58125 7.2 \nL 43.78125 7.2 \nz\n\" style=\"fill:#ffffff;\"/>\n   </g>\n   <g id=\"PathCollection_1\">\n    <defs>\n     <path d=\"M 0 3 \nC 0.795609 3 1.55874 2.683901 2.12132 2.12132 \nC 2.683901 1.55874 3 0.795609 3 0 \nC 3 -0.795609 2.683901 -1.55874 2.12132 -2.12132 \nC 1.55874 -2.683901 0.795609 -3 0 -3 \nC -0.795609 -3 -1.55874 -2.683901 -2.12132 -2.12132 \nC -2.683901 -1.55874 -3 -0.795609 -3 0 \nC -3 0.795609 -2.683901 1.55874 -2.12132 2.12132 \nC -1.55874 2.683901 -0.795609 3 0 3 \nz\n\" id=\"mfef9c17777\" style=\"stroke:#1f77b4;\"/>\n    </defs>\n    <g clip-path=\"url(#p383a39488d)\">\n     <use style=\"fill:#1f77b4;stroke:#1f77b4;\" x=\"159.72539\" xlink:href=\"#mfef9c17777\" y=\"198.742764\"/>\n     <use style=\"fill:#1f77b4;stroke:#1f77b4;\" x=\"73.762143\" xlink:href=\"#mfef9c17777\" y=\"187.660965\"/>\n     <use style=\"fill:#1f77b4;stroke:#1f77b4;\" x=\"79.272401\" xlink:href=\"#mfef9c17777\" y=\"140.240706\"/>\n     <use style=\"fill:#1f77b4;stroke:#1f77b4;\" x=\"87.103528\" xlink:href=\"#mfef9c17777\" y=\"204.13072\"/>\n     <use style=\"fill:#1f77b4;stroke:#1f77b4;\" x=\"64.699828\" xlink:href=\"#mfef9c17777\" y=\"175.170094\"/>\n     <use style=\"fill:#1f77b4;stroke:#1f77b4;\" x=\"98.602875\" xlink:href=\"#mfef9c17777\" y=\"213.850706\"/>\n     <use style=\"fill:#1f77b4;stroke:#1f77b4;\" x=\"66.211981\" xlink:href=\"#mfef9c17777\" y=\"140.420409\"/>\n     <use style=\"fill:#1f77b4;stroke:#1f77b4;\" x=\"133.637494\" xlink:href=\"#mfef9c17777\" y=\"169.975867\"/>\n     <use style=\"fill:#1f77b4;stroke:#1f77b4;\" x=\"58.999432\" xlink:href=\"#mfef9c17777\" y=\"214.756364\"/>\n     <use style=\"fill:#1f77b4;stroke:#1f77b4;\" x=\"67.778088\" xlink:href=\"#mfef9c17777\" y=\"171.994532\"/>\n     <use style=\"fill:#1f77b4;stroke:#1f77b4;\" x=\"117.078645\" xlink:href=\"#mfef9c17777\" y=\"198.959274\"/>\n     <use style=\"fill:#1f77b4;stroke:#1f77b4;\" x=\"102.888349\" xlink:href=\"#mfef9c17777\" y=\"184.935893\"/>\n    </g>\n   </g>\n   <g id=\"PathCollection_2\">\n    <defs>\n     <path d=\"M 0 3 \nC 0.795609 3 1.55874 2.683901 2.12132 2.12132 \nC 2.683901 1.55874 3 0.795609 3 0 \nC 3 -0.795609 2.683901 -1.55874 2.12132 -2.12132 \nC 1.55874 -2.683901 0.795609 -3 0 -3 \nC -0.795609 -3 -1.55874 -2.683901 -2.12132 -2.12132 \nC -2.683901 -1.55874 -3 -0.795609 -3 0 \nC -3 0.795609 -2.683901 1.55874 -2.12132 2.12132 \nC -1.55874 2.683901 -0.795609 3 0 3 \nz\n\" id=\"m22f696b9b9\" style=\"stroke:#ff7f0e;\"/>\n    </defs>\n    <g clip-path=\"url(#p383a39488d)\">\n     <use style=\"fill:#ff7f0e;stroke:#ff7f0e;\" x=\"207.49282\" xlink:href=\"#m22f696b9b9\" y=\"89.94194\"/>\n     <use style=\"fill:#ff7f0e;stroke:#ff7f0e;\" x=\"129.016555\" xlink:href=\"#m22f696b9b9\" y=\"53.533379\"/>\n     <use style=\"fill:#ff7f0e;stroke:#ff7f0e;\" x=\"172.403111\" xlink:href=\"#m22f696b9b9\" y=\"37.148632\"/>\n     <use style=\"fill:#ff7f0e;stroke:#ff7f0e;\" x=\"183.644823\" xlink:href=\"#m22f696b9b9\" y=\"83.545968\"/>\n     <use style=\"fill:#ff7f0e;stroke:#ff7f0e;\" x=\"312.141165\" xlink:href=\"#m22f696b9b9\" y=\"72.256236\"/>\n     <use style=\"fill:#ff7f0e;stroke:#ff7f0e;\" x=\"276.753954\" xlink:href=\"#m22f696b9b9\" y=\"69.799163\"/>\n     <use style=\"fill:#ff7f0e;stroke:#ff7f0e;\" x=\"233.972488\" xlink:href=\"#m22f696b9b9\" y=\"56.824979\"/>\n     <use style=\"fill:#ff7f0e;stroke:#ff7f0e;\" x=\"176.013576\" xlink:href=\"#m22f696b9b9\" y=\"74.58089\"/>\n     <use style=\"fill:#ff7f0e;stroke:#ff7f0e;\" x=\"310.865739\" xlink:href=\"#m22f696b9b9\" y=\"114.722413\"/>\n     <use style=\"fill:#ff7f0e;stroke:#ff7f0e;\" x=\"193.802106\" xlink:href=\"#m22f696b9b9\" y=\"45.388859\"/>\n     <use style=\"fill:#ff7f0e;stroke:#ff7f0e;\" x=\"347.460596\" xlink:href=\"#m22f696b9b9\" y=\"97.363665\"/>\n     <use style=\"fill:#ff7f0e;stroke:#ff7f0e;\" x=\"171.495334\" xlink:href=\"#m22f696b9b9\" y=\"48.608649\"/>\n     <use style=\"fill:#ff7f0e;stroke:#ff7f0e;\" x=\"212.749425\" xlink:href=\"#m22f696b9b9\" y=\"76.551072\"/>\n     <use style=\"fill:#ff7f0e;stroke:#ff7f0e;\" x=\"153.112083\" xlink:href=\"#m22f696b9b9\" y=\"73.977272\"/>\n     <use style=\"fill:#ff7f0e;stroke:#ff7f0e;\" x=\"363.363068\" xlink:href=\"#m22f696b9b9\" y=\"62.988502\"/>\n     <use style=\"fill:#ff7f0e;stroke:#ff7f0e;\" x=\"197.871996\" xlink:href=\"#m22f696b9b9\" y=\"73.077859\"/>\n     <use style=\"fill:#ff7f0e;stroke:#ff7f0e;\" x=\"183.931796\" xlink:href=\"#m22f696b9b9\" y=\"76.866676\"/>\n     <use style=\"fill:#ff7f0e;stroke:#ff7f0e;\" x=\"242.099988\" xlink:href=\"#m22f696b9b9\" y=\"17.083636\"/>\n     <use style=\"fill:#ff7f0e;stroke:#ff7f0e;\" x=\"241.995159\" xlink:href=\"#m22f696b9b9\" y=\"85.769989\"/>\n     <use style=\"fill:#ff7f0e;stroke:#ff7f0e;\" x=\"208.580341\" xlink:href=\"#m22f696b9b9\" y=\"92.860198\"/>\n     <use style=\"fill:#ff7f0e;stroke:#ff7f0e;\" x=\"175.277695\" xlink:href=\"#m22f696b9b9\" y=\"91.362108\"/>\n     <use style=\"fill:#ff7f0e;stroke:#ff7f0e;\" x=\"206.217648\" xlink:href=\"#m22f696b9b9\" y=\"59.988196\"/>\n     <use style=\"fill:#ff7f0e;stroke:#ff7f0e;\" x=\"151.476411\" xlink:href=\"#m22f696b9b9\" y=\"59.860579\"/>\n     <use style=\"fill:#ff7f0e;stroke:#ff7f0e;\" x=\"247.510889\" xlink:href=\"#m22f696b9b9\" y=\"56.746312\"/>\n    </g>\n   </g>\n   <g id=\"PathCollection_3\">\n    <defs>\n     <path d=\"M 0 3 \nC 0.795609 3 1.55874 2.683901 2.12132 2.12132 \nC 2.683901 1.55874 3 0.795609 3 0 \nC 3 -0.795609 2.683901 -1.55874 2.12132 -2.12132 \nC 1.55874 -2.683901 0.795609 -3 0 -3 \nC -0.795609 -3 -1.55874 -2.683901 -2.12132 -2.12132 \nC -2.683901 -1.55874 -3 -0.795609 -3 0 \nC -3 0.795609 -2.683901 1.55874 -2.12132 2.12132 \nC -1.55874 2.683901 -0.795609 3 0 3 \nz\n\" id=\"m1989464ba4\" style=\"stroke:#2ca02c;\"/>\n    </defs>\n    <g clip-path=\"url(#p383a39488d)\">\n     <use style=\"fill:#2ca02c;stroke:#2ca02c;\" x=\"125.343337\" xlink:href=\"#m1989464ba4\" y=\"91.43876\"/>\n     <use style=\"fill:#2ca02c;stroke:#2ca02c;\" x=\"210.871105\" xlink:href=\"#m1989464ba4\" y=\"116.626899\"/>\n     <use style=\"fill:#2ca02c;stroke:#2ca02c;\" x=\"177.873407\" xlink:href=\"#m1989464ba4\" y=\"103.302662\"/>\n     <use style=\"fill:#2ca02c;stroke:#2ca02c;\" x=\"142.390486\" xlink:href=\"#m1989464ba4\" y=\"121.058247\"/>\n     <use style=\"fill:#2ca02c;stroke:#2ca02c;\" x=\"152.389237\" xlink:href=\"#m1989464ba4\" y=\"128.090784\"/>\n     <use style=\"fill:#2ca02c;stroke:#2ca02c;\" x=\"195.591798\" xlink:href=\"#m1989464ba4\" y=\"110.658387\"/>\n     <use style=\"fill:#2ca02c;stroke:#2ca02c;\" x=\"201.800197\" xlink:href=\"#m1989464ba4\" y=\"137.918562\"/>\n     <use style=\"fill:#2ca02c;stroke:#2ca02c;\" x=\"197.561583\" xlink:href=\"#m1989464ba4\" y=\"139.129652\"/>\n     <use style=\"fill:#2ca02c;stroke:#2ca02c;\" x=\"181.658746\" xlink:href=\"#m1989464ba4\" y=\"176.364641\"/>\n     <use style=\"fill:#2ca02c;stroke:#2ca02c;\" x=\"202.459896\" xlink:href=\"#m1989464ba4\" y=\"118.750694\"/>\n     <use style=\"fill:#2ca02c;stroke:#2ca02c;\" x=\"188.558404\" xlink:href=\"#m1989464ba4\" y=\"178.665655\"/>\n     <use style=\"fill:#2ca02c;stroke:#2ca02c;\" x=\"233.200903\" xlink:href=\"#m1989464ba4\" y=\"138.780654\"/>\n     <use style=\"fill:#2ca02c;stroke:#2ca02c;\" x=\"185.038806\" xlink:href=\"#m1989464ba4\" y=\"123.070794\"/>\n     <use style=\"fill:#2ca02c;stroke:#2ca02c;\" x=\"170.897407\" xlink:href=\"#m1989464ba4\" y=\"113.464172\"/>\n     <use style=\"fill:#2ca02c;stroke:#2ca02c;\" x=\"212.968714\" xlink:href=\"#m1989464ba4\" y=\"151.812743\"/>\n     <use style=\"fill:#2ca02c;stroke:#2ca02c;\" x=\"111.697398\" xlink:href=\"#m1989464ba4\" y=\"104.289291\"/>\n     <use style=\"fill:#2ca02c;stroke:#2ca02c;\" x=\"198.879388\" xlink:href=\"#m1989464ba4\" y=\"170.392374\"/>\n     <use style=\"fill:#2ca02c;stroke:#2ca02c;\" x=\"232.578814\" xlink:href=\"#m1989464ba4\" y=\"144.55341\"/>\n     <use style=\"fill:#2ca02c;stroke:#2ca02c;\" x=\"140.902948\" xlink:href=\"#m1989464ba4\" y=\"165.592901\"/>\n     <use style=\"fill:#2ca02c;stroke:#2ca02c;\" x=\"116.706774\" xlink:href=\"#m1989464ba4\" y=\"140.133013\"/>\n     <use style=\"fill:#2ca02c;stroke:#2ca02c;\" x=\"138.795807\" xlink:href=\"#m1989464ba4\" y=\"147.709479\"/>\n     <use style=\"fill:#2ca02c;stroke:#2ca02c;\" x=\"185.031653\" xlink:href=\"#m1989464ba4\" y=\"130.58546\"/>\n     <use style=\"fill:#2ca02c;stroke:#2ca02c;\" x=\"224.484999\" xlink:href=\"#m1989464ba4\" y=\"131.799112\"/>\n     <use style=\"fill:#2ca02c;stroke:#2ca02c;\" x=\"142.852819\" xlink:href=\"#m1989464ba4\" y=\"103.072386\"/>\n     <use style=\"fill:#2ca02c;stroke:#2ca02c;\" x=\"190.908977\" xlink:href=\"#m1989464ba4\" y=\"166.32519\"/>\n     <use style=\"fill:#2ca02c;stroke:#2ca02c;\" x=\"142.604632\" xlink:href=\"#m1989464ba4\" y=\"144.141801\"/>\n     <use style=\"fill:#2ca02c;stroke:#2ca02c;\" x=\"164.131758\" xlink:href=\"#m1989464ba4\" y=\"144.712636\"/>\n     <use style=\"fill:#2ca02c;stroke:#2ca02c;\" x=\"135.008947\" xlink:href=\"#m1989464ba4\" y=\"135.425994\"/>\n     <use style=\"fill:#2ca02c;stroke:#2ca02c;\" x=\"161.002895\" xlink:href=\"#m1989464ba4\" y=\"154.306009\"/>\n     <use style=\"fill:#2ca02c;stroke:#2ca02c;\" x=\"168.37612\" xlink:href=\"#m1989464ba4\" y=\"146.368984\"/>\n     <use style=\"fill:#2ca02c;stroke:#2ca02c;\" x=\"155.10168\" xlink:href=\"#m1989464ba4\" y=\"117.543578\"/>\n     <use style=\"fill:#2ca02c;stroke:#2ca02c;\" x=\"189.705275\" xlink:href=\"#m1989464ba4\" y=\"150.478789\"/>\n     <use style=\"fill:#2ca02c;stroke:#2ca02c;\" x=\"142.553733\" xlink:href=\"#m1989464ba4\" y=\"142.97264\"/>\n     <use style=\"fill:#2ca02c;stroke:#2ca02c;\" x=\"139.697758\" xlink:href=\"#m1989464ba4\" y=\"148.071433\"/>\n     <use style=\"fill:#2ca02c;stroke:#2ca02c;\" x=\"140.640506\" xlink:href=\"#m1989464ba4\" y=\"88.377695\"/>\n     <use style=\"fill:#2ca02c;stroke:#2ca02c;\" x=\"205.779967\" xlink:href=\"#m1989464ba4\" y=\"185.380246\"/>\n     <use style=\"fill:#2ca02c;stroke:#2ca02c;\" x=\"165.919471\" xlink:href=\"#m1989464ba4\" y=\"120.217386\"/>\n     <use style=\"fill:#2ca02c;stroke:#2ca02c;\" x=\"138.169453\" xlink:href=\"#m1989464ba4\" y=\"122.97925\"/>\n     <use style=\"fill:#2ca02c;stroke:#2ca02c;\" x=\"186.821898\" xlink:href=\"#m1989464ba4\" y=\"170.660927\"/>\n     <use style=\"fill:#2ca02c;stroke:#2ca02c;\" x=\"118.625632\" xlink:href=\"#m1989464ba4\" y=\"142.863037\"/>\n     <use style=\"fill:#2ca02c;stroke:#2ca02c;\" x=\"86.787967\" xlink:href=\"#m1989464ba4\" y=\"95.554599\"/>\n     <use style=\"fill:#2ca02c;stroke:#2ca02c;\" x=\"163.528765\" xlink:href=\"#m1989464ba4\" y=\"172.162238\"/>\n     <use style=\"fill:#2ca02c;stroke:#2ca02c;\" x=\"195.473154\" xlink:href=\"#m1989464ba4\" y=\"130.169402\"/>\n    </g>\n   </g>\n   <g id=\"PathCollection_4\">\n    <defs>\n     <path d=\"M 0 4.472136 \nC 1.186024 4.472136 2.323632 4.000923 3.162278 3.162278 \nC 4.000923 2.323632 4.472136 1.186024 4.472136 0 \nC 4.472136 -1.186024 4.000923 -2.323632 3.162278 -3.162278 \nC 2.323632 -4.000923 1.186024 -4.472136 0 -4.472136 \nC -1.186024 -4.472136 -2.323632 -4.000923 -3.162278 -3.162278 \nC -4.000923 -2.323632 -4.472136 -1.186024 -4.472136 0 \nC -4.472136 1.186024 -4.000923 2.323632 -3.162278 3.162278 \nC -2.323632 4.000923 -1.186024 4.472136 0 4.472136 \nz\n\" id=\"m077eb859b0\" style=\"stroke:#000000;\"/>\n    </defs>\n    <g clip-path=\"url(#p383a39488d)\">\n     <use style=\"stroke:#000000;\" x=\"92.480013\" xlink:href=\"#m077eb859b0\" y=\"183.403191\"/>\n     <use style=\"stroke:#000000;\" x=\"220.802032\" xlink:href=\"#m077eb859b0\" y=\"69.618632\"/>\n     <use style=\"stroke:#000000;\" x=\"168.869144\" xlink:href=\"#m077eb859b0\" y=\"136.417967\"/>\n    </g>\n   </g>\n   <g id=\"matplotlib.axis_1\">\n    <g id=\"xtick_1\">\n     <g id=\"line2d_1\">\n      <defs>\n       <path d=\"M 0 0 \nL 0 3.5 \n\" id=\"m624b803850\" style=\"stroke:#000000;stroke-width:0.8;\"/>\n      </defs>\n      <g>\n       <use style=\"stroke:#000000;stroke-width:0.8;\" x=\"63.945966\" xlink:href=\"#m624b803850\" y=\"224.64\"/>\n      </g>\n     </g>\n     <g id=\"text_1\">\n      <!-- 0.2 -->\n      <g transform=\"translate(55.994404 239.238437)scale(0.1 -0.1)\">\n       <defs>\n        <path d=\"M 2034 4250 \nQ 1547 4250 1301 3770 \nQ 1056 3291 1056 2328 \nQ 1056 1369 1301 889 \nQ 1547 409 2034 409 \nQ 2525 409 2770 889 \nQ 3016 1369 3016 2328 \nQ 3016 3291 2770 3770 \nQ 2525 4250 2034 4250 \nz\nM 2034 4750 \nQ 2819 4750 3233 4129 \nQ 3647 3509 3647 2328 \nQ 3647 1150 3233 529 \nQ 2819 -91 2034 -91 \nQ 1250 -91 836 529 \nQ 422 1150 422 2328 \nQ 422 3509 836 4129 \nQ 1250 4750 2034 4750 \nz\n\" id=\"DejaVuSans-30\" transform=\"scale(0.015625)\"/>\n        <path d=\"M 684 794 \nL 1344 794 \nL 1344 0 \nL 684 0 \nL 684 794 \nz\n\" id=\"DejaVuSans-2e\" transform=\"scale(0.015625)\"/>\n        <path d=\"M 1228 531 \nL 3431 531 \nL 3431 0 \nL 469 0 \nL 469 531 \nQ 828 903 1448 1529 \nQ 2069 2156 2228 2338 \nQ 2531 2678 2651 2914 \nQ 2772 3150 2772 3378 \nQ 2772 3750 2511 3984 \nQ 2250 4219 1831 4219 \nQ 1534 4219 1204 4116 \nQ 875 4013 500 3803 \nL 500 4441 \nQ 881 4594 1212 4672 \nQ 1544 4750 1819 4750 \nQ 2544 4750 2975 4387 \nQ 3406 4025 3406 3419 \nQ 3406 3131 3298 2873 \nQ 3191 2616 2906 2266 \nQ 2828 2175 2409 1742 \nQ 1991 1309 1228 531 \nz\n\" id=\"DejaVuSans-32\" transform=\"scale(0.015625)\"/>\n       </defs>\n       <use xlink:href=\"#DejaVuSans-30\"/>\n       <use x=\"63.623047\" xlink:href=\"#DejaVuSans-2e\"/>\n       <use x=\"95.410156\" xlink:href=\"#DejaVuSans-32\"/>\n      </g>\n     </g>\n    </g>\n    <g id=\"xtick_2\">\n     <g id=\"line2d_2\">\n      <g>\n       <use style=\"stroke:#000000;stroke-width:0.8;\" x=\"108.93825\" xlink:href=\"#m624b803850\" y=\"224.64\"/>\n      </g>\n     </g>\n     <g id=\"text_2\">\n      <!-- 0.3 -->\n      <g transform=\"translate(100.986687 239.238437)scale(0.1 -0.1)\">\n       <defs>\n        <path d=\"M 2597 2516 \nQ 3050 2419 3304 2112 \nQ 3559 1806 3559 1356 \nQ 3559 666 3084 287 \nQ 2609 -91 1734 -91 \nQ 1441 -91 1130 -33 \nQ 819 25 488 141 \nL 488 750 \nQ 750 597 1062 519 \nQ 1375 441 1716 441 \nQ 2309 441 2620 675 \nQ 2931 909 2931 1356 \nQ 2931 1769 2642 2001 \nQ 2353 2234 1838 2234 \nL 1294 2234 \nL 1294 2753 \nL 1863 2753 \nQ 2328 2753 2575 2939 \nQ 2822 3125 2822 3475 \nQ 2822 3834 2567 4026 \nQ 2313 4219 1838 4219 \nQ 1578 4219 1281 4162 \nQ 984 4106 628 3988 \nL 628 4550 \nQ 988 4650 1302 4700 \nQ 1616 4750 1894 4750 \nQ 2613 4750 3031 4423 \nQ 3450 4097 3450 3541 \nQ 3450 3153 3228 2886 \nQ 3006 2619 2597 2516 \nz\n\" id=\"DejaVuSans-33\" transform=\"scale(0.015625)\"/>\n       </defs>\n       <use xlink:href=\"#DejaVuSans-30\"/>\n       <use x=\"63.623047\" xlink:href=\"#DejaVuSans-2e\"/>\n       <use x=\"95.410156\" xlink:href=\"#DejaVuSans-33\"/>\n      </g>\n     </g>\n    </g>\n    <g id=\"xtick_3\">\n     <g id=\"line2d_3\">\n      <g>\n       <use style=\"stroke:#000000;stroke-width:0.8;\" x=\"153.930533\" xlink:href=\"#m624b803850\" y=\"224.64\"/>\n      </g>\n     </g>\n     <g id=\"text_3\">\n      <!-- 0.4 -->\n      <g transform=\"translate(145.978971 239.238437)scale(0.1 -0.1)\">\n       <defs>\n        <path d=\"M 2419 4116 \nL 825 1625 \nL 2419 1625 \nL 2419 4116 \nz\nM 2253 4666 \nL 3047 4666 \nL 3047 1625 \nL 3713 1625 \nL 3713 1100 \nL 3047 1100 \nL 3047 0 \nL 2419 0 \nL 2419 1100 \nL 313 1100 \nL 313 1709 \nL 2253 4666 \nz\n\" id=\"DejaVuSans-34\" transform=\"scale(0.015625)\"/>\n       </defs>\n       <use xlink:href=\"#DejaVuSans-30\"/>\n       <use x=\"63.623047\" xlink:href=\"#DejaVuSans-2e\"/>\n       <use x=\"95.410156\" xlink:href=\"#DejaVuSans-34\"/>\n      </g>\n     </g>\n    </g>\n    <g id=\"xtick_4\">\n     <g id=\"line2d_4\">\n      <g>\n       <use style=\"stroke:#000000;stroke-width:0.8;\" x=\"198.922817\" xlink:href=\"#m624b803850\" y=\"224.64\"/>\n      </g>\n     </g>\n     <g id=\"text_4\">\n      <!-- 0.5 -->\n      <g transform=\"translate(190.971255 239.238437)scale(0.1 -0.1)\">\n       <defs>\n        <path d=\"M 691 4666 \nL 3169 4666 \nL 3169 4134 \nL 1269 4134 \nL 1269 2991 \nQ 1406 3038 1543 3061 \nQ 1681 3084 1819 3084 \nQ 2600 3084 3056 2656 \nQ 3513 2228 3513 1497 \nQ 3513 744 3044 326 \nQ 2575 -91 1722 -91 \nQ 1428 -91 1123 -41 \nQ 819 9 494 109 \nL 494 744 \nQ 775 591 1075 516 \nQ 1375 441 1709 441 \nQ 2250 441 2565 725 \nQ 2881 1009 2881 1497 \nQ 2881 1984 2565 2268 \nQ 2250 2553 1709 2553 \nQ 1456 2553 1204 2497 \nQ 953 2441 691 2322 \nL 691 4666 \nz\n\" id=\"DejaVuSans-35\" transform=\"scale(0.015625)\"/>\n       </defs>\n       <use xlink:href=\"#DejaVuSans-30\"/>\n       <use x=\"63.623047\" xlink:href=\"#DejaVuSans-2e\"/>\n       <use x=\"95.410156\" xlink:href=\"#DejaVuSans-35\"/>\n      </g>\n     </g>\n    </g>\n    <g id=\"xtick_5\">\n     <g id=\"line2d_5\">\n      <g>\n       <use style=\"stroke:#000000;stroke-width:0.8;\" x=\"243.915101\" xlink:href=\"#m624b803850\" y=\"224.64\"/>\n      </g>\n     </g>\n     <g id=\"text_5\">\n      <!-- 0.6 -->\n      <g transform=\"translate(235.963538 239.238437)scale(0.1 -0.1)\">\n       <defs>\n        <path d=\"M 2113 2584 \nQ 1688 2584 1439 2293 \nQ 1191 2003 1191 1497 \nQ 1191 994 1439 701 \nQ 1688 409 2113 409 \nQ 2538 409 2786 701 \nQ 3034 994 3034 1497 \nQ 3034 2003 2786 2293 \nQ 2538 2584 2113 2584 \nz\nM 3366 4563 \nL 3366 3988 \nQ 3128 4100 2886 4159 \nQ 2644 4219 2406 4219 \nQ 1781 4219 1451 3797 \nQ 1122 3375 1075 2522 \nQ 1259 2794 1537 2939 \nQ 1816 3084 2150 3084 \nQ 2853 3084 3261 2657 \nQ 3669 2231 3669 1497 \nQ 3669 778 3244 343 \nQ 2819 -91 2113 -91 \nQ 1303 -91 875 529 \nQ 447 1150 447 2328 \nQ 447 3434 972 4092 \nQ 1497 4750 2381 4750 \nQ 2619 4750 2861 4703 \nQ 3103 4656 3366 4563 \nz\n\" id=\"DejaVuSans-36\" transform=\"scale(0.015625)\"/>\n       </defs>\n       <use xlink:href=\"#DejaVuSans-30\"/>\n       <use x=\"63.623047\" xlink:href=\"#DejaVuSans-2e\"/>\n       <use x=\"95.410156\" xlink:href=\"#DejaVuSans-36\"/>\n      </g>\n     </g>\n    </g>\n    <g id=\"xtick_6\">\n     <g id=\"line2d_6\">\n      <g>\n       <use style=\"stroke:#000000;stroke-width:0.8;\" x=\"288.907384\" xlink:href=\"#m624b803850\" y=\"224.64\"/>\n      </g>\n     </g>\n     <g id=\"text_6\">\n      <!-- 0.7 -->\n      <g transform=\"translate(280.955822 239.238437)scale(0.1 -0.1)\">\n       <defs>\n        <path d=\"M 525 4666 \nL 3525 4666 \nL 3525 4397 \nL 1831 0 \nL 1172 0 \nL 2766 4134 \nL 525 4134 \nL 525 4666 \nz\n\" id=\"DejaVuSans-37\" transform=\"scale(0.015625)\"/>\n       </defs>\n       <use xlink:href=\"#DejaVuSans-30\"/>\n       <use x=\"63.623047\" xlink:href=\"#DejaVuSans-2e\"/>\n       <use x=\"95.410156\" xlink:href=\"#DejaVuSans-37\"/>\n      </g>\n     </g>\n    </g>\n    <g id=\"xtick_7\">\n     <g id=\"line2d_7\">\n      <g>\n       <use style=\"stroke:#000000;stroke-width:0.8;\" x=\"333.899668\" xlink:href=\"#m624b803850\" y=\"224.64\"/>\n      </g>\n     </g>\n     <g id=\"text_7\">\n      <!-- 0.8 -->\n      <g transform=\"translate(325.948105 239.238437)scale(0.1 -0.1)\">\n       <defs>\n        <path d=\"M 2034 2216 \nQ 1584 2216 1326 1975 \nQ 1069 1734 1069 1313 \nQ 1069 891 1326 650 \nQ 1584 409 2034 409 \nQ 2484 409 2743 651 \nQ 3003 894 3003 1313 \nQ 3003 1734 2745 1975 \nQ 2488 2216 2034 2216 \nz\nM 1403 2484 \nQ 997 2584 770 2862 \nQ 544 3141 544 3541 \nQ 544 4100 942 4425 \nQ 1341 4750 2034 4750 \nQ 2731 4750 3128 4425 \nQ 3525 4100 3525 3541 \nQ 3525 3141 3298 2862 \nQ 3072 2584 2669 2484 \nQ 3125 2378 3379 2068 \nQ 3634 1759 3634 1313 \nQ 3634 634 3220 271 \nQ 2806 -91 2034 -91 \nQ 1263 -91 848 271 \nQ 434 634 434 1313 \nQ 434 1759 690 2068 \nQ 947 2378 1403 2484 \nz\nM 1172 3481 \nQ 1172 3119 1398 2916 \nQ 1625 2713 2034 2713 \nQ 2441 2713 2670 2916 \nQ 2900 3119 2900 3481 \nQ 2900 3844 2670 4047 \nQ 2441 4250 2034 4250 \nQ 1625 4250 1398 4047 \nQ 1172 3844 1172 3481 \nz\n\" id=\"DejaVuSans-38\" transform=\"scale(0.015625)\"/>\n       </defs>\n       <use xlink:href=\"#DejaVuSans-30\"/>\n       <use x=\"63.623047\" xlink:href=\"#DejaVuSans-2e\"/>\n       <use x=\"95.410156\" xlink:href=\"#DejaVuSans-38\"/>\n      </g>\n     </g>\n    </g>\n    <g id=\"text_8\">\n     <!-- Return -->\n     <g transform=\"translate(194.589844 252.916562)scale(0.1 -0.1)\">\n      <defs>\n       <path d=\"M 2841 2188 \nQ 3044 2119 3236 1894 \nQ 3428 1669 3622 1275 \nL 4263 0 \nL 3584 0 \nL 2988 1197 \nQ 2756 1666 2539 1819 \nQ 2322 1972 1947 1972 \nL 1259 1972 \nL 1259 0 \nL 628 0 \nL 628 4666 \nL 2053 4666 \nQ 2853 4666 3247 4331 \nQ 3641 3997 3641 3322 \nQ 3641 2881 3436 2590 \nQ 3231 2300 2841 2188 \nz\nM 1259 4147 \nL 1259 2491 \nL 2053 2491 \nQ 2509 2491 2742 2702 \nQ 2975 2913 2975 3322 \nQ 2975 3731 2742 3939 \nQ 2509 4147 2053 4147 \nL 1259 4147 \nz\n\" id=\"DejaVuSans-52\" transform=\"scale(0.015625)\"/>\n       <path d=\"M 3597 1894 \nL 3597 1613 \nL 953 1613 \nQ 991 1019 1311 708 \nQ 1631 397 2203 397 \nQ 2534 397 2845 478 \nQ 3156 559 3463 722 \nL 3463 178 \nQ 3153 47 2828 -22 \nQ 2503 -91 2169 -91 \nQ 1331 -91 842 396 \nQ 353 884 353 1716 \nQ 353 2575 817 3079 \nQ 1281 3584 2069 3584 \nQ 2775 3584 3186 3129 \nQ 3597 2675 3597 1894 \nz\nM 3022 2063 \nQ 3016 2534 2758 2815 \nQ 2500 3097 2075 3097 \nQ 1594 3097 1305 2825 \nQ 1016 2553 972 2059 \nL 3022 2063 \nz\n\" id=\"DejaVuSans-65\" transform=\"scale(0.015625)\"/>\n       <path d=\"M 1172 4494 \nL 1172 3500 \nL 2356 3500 \nL 2356 3053 \nL 1172 3053 \nL 1172 1153 \nQ 1172 725 1289 603 \nQ 1406 481 1766 481 \nL 2356 481 \nL 2356 0 \nL 1766 0 \nQ 1100 0 847 248 \nQ 594 497 594 1153 \nL 594 3053 \nL 172 3053 \nL 172 3500 \nL 594 3500 \nL 594 4494 \nL 1172 4494 \nz\n\" id=\"DejaVuSans-74\" transform=\"scale(0.015625)\"/>\n       <path d=\"M 544 1381 \nL 544 3500 \nL 1119 3500 \nL 1119 1403 \nQ 1119 906 1312 657 \nQ 1506 409 1894 409 \nQ 2359 409 2629 706 \nQ 2900 1003 2900 1516 \nL 2900 3500 \nL 3475 3500 \nL 3475 0 \nL 2900 0 \nL 2900 538 \nQ 2691 219 2414 64 \nQ 2138 -91 1772 -91 \nQ 1169 -91 856 284 \nQ 544 659 544 1381 \nz\nM 1991 3584 \nL 1991 3584 \nz\n\" id=\"DejaVuSans-75\" transform=\"scale(0.015625)\"/>\n       <path d=\"M 2631 2963 \nQ 2534 3019 2420 3045 \nQ 2306 3072 2169 3072 \nQ 1681 3072 1420 2755 \nQ 1159 2438 1159 1844 \nL 1159 0 \nL 581 0 \nL 581 3500 \nL 1159 3500 \nL 1159 2956 \nQ 1341 3275 1631 3429 \nQ 1922 3584 2338 3584 \nQ 2397 3584 2469 3576 \nQ 2541 3569 2628 3553 \nL 2631 2963 \nz\n\" id=\"DejaVuSans-72\" transform=\"scale(0.015625)\"/>\n       <path d=\"M 3513 2113 \nL 3513 0 \nL 2938 0 \nL 2938 2094 \nQ 2938 2591 2744 2837 \nQ 2550 3084 2163 3084 \nQ 1697 3084 1428 2787 \nQ 1159 2491 1159 1978 \nL 1159 0 \nL 581 0 \nL 581 3500 \nL 1159 3500 \nL 1159 2956 \nQ 1366 3272 1645 3428 \nQ 1925 3584 2291 3584 \nQ 2894 3584 3203 3211 \nQ 3513 2838 3513 2113 \nz\n\" id=\"DejaVuSans-6e\" transform=\"scale(0.015625)\"/>\n      </defs>\n      <use xlink:href=\"#DejaVuSans-52\"/>\n      <use x=\"64.982422\" xlink:href=\"#DejaVuSans-65\"/>\n      <use x=\"126.505859\" xlink:href=\"#DejaVuSans-74\"/>\n      <use x=\"165.714844\" xlink:href=\"#DejaVuSans-75\"/>\n      <use x=\"229.09375\" xlink:href=\"#DejaVuSans-72\"/>\n      <use x=\"268.457031\" xlink:href=\"#DejaVuSans-6e\"/>\n     </g>\n    </g>\n   </g>\n   <g id=\"matplotlib.axis_2\">\n    <g id=\"ytick_1\">\n     <g id=\"line2d_8\">\n      <defs>\n       <path d=\"M 0 0 \nL -3.5 0 \n\" id=\"m6a51d7ddbd\" style=\"stroke:#000000;stroke-width:0.8;\"/>\n      </defs>\n      <g>\n       <use style=\"stroke:#000000;stroke-width:0.8;\" x=\"43.78125\" xlink:href=\"#m6a51d7ddbd\" y=\"216.352846\"/>\n      </g>\n     </g>\n     <g id=\"text_9\">\n      <!-- 0.0 -->\n      <g transform=\"translate(20.878125 220.152065)scale(0.1 -0.1)\">\n       <use xlink:href=\"#DejaVuSans-30\"/>\n       <use x=\"63.623047\" xlink:href=\"#DejaVuSans-2e\"/>\n       <use x=\"95.410156\" xlink:href=\"#DejaVuSans-30\"/>\n      </g>\n     </g>\n    </g>\n    <g id=\"ytick_2\">\n     <g id=\"line2d_9\">\n      <g>\n       <use style=\"stroke:#000000;stroke-width:0.8;\" x=\"43.78125\" xlink:href=\"#m6a51d7ddbd\" y=\"186.343134\"/>\n      </g>\n     </g>\n     <g id=\"text_10\">\n      <!-- 0.1 -->\n      <g transform=\"translate(20.878125 190.142353)scale(0.1 -0.1)\">\n       <defs>\n        <path d=\"M 794 531 \nL 1825 531 \nL 1825 4091 \nL 703 3866 \nL 703 4441 \nL 1819 4666 \nL 2450 4666 \nL 2450 531 \nL 3481 531 \nL 3481 0 \nL 794 0 \nL 794 531 \nz\n\" id=\"DejaVuSans-31\" transform=\"scale(0.015625)\"/>\n       </defs>\n       <use xlink:href=\"#DejaVuSans-30\"/>\n       <use x=\"63.623047\" xlink:href=\"#DejaVuSans-2e\"/>\n       <use x=\"95.410156\" xlink:href=\"#DejaVuSans-31\"/>\n      </g>\n     </g>\n    </g>\n    <g id=\"ytick_3\">\n     <g id=\"line2d_10\">\n      <g>\n       <use style=\"stroke:#000000;stroke-width:0.8;\" x=\"43.78125\" xlink:href=\"#m6a51d7ddbd\" y=\"156.333422\"/>\n      </g>\n     </g>\n     <g id=\"text_11\">\n      <!-- 0.2 -->\n      <g transform=\"translate(20.878125 160.132641)scale(0.1 -0.1)\">\n       <use xlink:href=\"#DejaVuSans-30\"/>\n       <use x=\"63.623047\" xlink:href=\"#DejaVuSans-2e\"/>\n       <use x=\"95.410156\" xlink:href=\"#DejaVuSans-32\"/>\n      </g>\n     </g>\n    </g>\n    <g id=\"ytick_4\">\n     <g id=\"line2d_11\">\n      <g>\n       <use style=\"stroke:#000000;stroke-width:0.8;\" x=\"43.78125\" xlink:href=\"#m6a51d7ddbd\" y=\"126.32371\"/>\n      </g>\n     </g>\n     <g id=\"text_12\">\n      <!-- 0.3 -->\n      <g transform=\"translate(20.878125 130.122929)scale(0.1 -0.1)\">\n       <use xlink:href=\"#DejaVuSans-30\"/>\n       <use x=\"63.623047\" xlink:href=\"#DejaVuSans-2e\"/>\n       <use x=\"95.410156\" xlink:href=\"#DejaVuSans-33\"/>\n      </g>\n     </g>\n    </g>\n    <g id=\"ytick_5\">\n     <g id=\"line2d_12\">\n      <g>\n       <use style=\"stroke:#000000;stroke-width:0.8;\" x=\"43.78125\" xlink:href=\"#m6a51d7ddbd\" y=\"96.313998\"/>\n      </g>\n     </g>\n     <g id=\"text_13\">\n      <!-- 0.4 -->\n      <g transform=\"translate(20.878125 100.113217)scale(0.1 -0.1)\">\n       <use xlink:href=\"#DejaVuSans-30\"/>\n       <use x=\"63.623047\" xlink:href=\"#DejaVuSans-2e\"/>\n       <use x=\"95.410156\" xlink:href=\"#DejaVuSans-34\"/>\n      </g>\n     </g>\n    </g>\n    <g id=\"ytick_6\">\n     <g id=\"line2d_13\">\n      <g>\n       <use style=\"stroke:#000000;stroke-width:0.8;\" x=\"43.78125\" xlink:href=\"#m6a51d7ddbd\" y=\"66.304286\"/>\n      </g>\n     </g>\n     <g id=\"text_14\">\n      <!-- 0.5 -->\n      <g transform=\"translate(20.878125 70.103504)scale(0.1 -0.1)\">\n       <use xlink:href=\"#DejaVuSans-30\"/>\n       <use x=\"63.623047\" xlink:href=\"#DejaVuSans-2e\"/>\n       <use x=\"95.410156\" xlink:href=\"#DejaVuSans-35\"/>\n      </g>\n     </g>\n    </g>\n    <g id=\"ytick_7\">\n     <g id=\"line2d_14\">\n      <g>\n       <use style=\"stroke:#000000;stroke-width:0.8;\" x=\"43.78125\" xlink:href=\"#m6a51d7ddbd\" y=\"36.294574\"/>\n      </g>\n     </g>\n     <g id=\"text_15\">\n      <!-- 0.6 -->\n      <g transform=\"translate(20.878125 40.093792)scale(0.1 -0.1)\">\n       <use xlink:href=\"#DejaVuSans-30\"/>\n       <use x=\"63.623047\" xlink:href=\"#DejaVuSans-2e\"/>\n       <use x=\"95.410156\" xlink:href=\"#DejaVuSans-36\"/>\n      </g>\n     </g>\n    </g>\n    <g id=\"text_16\">\n     <!-- Risk -->\n     <g transform=\"translate(14.798438 126.283281)rotate(-90)scale(0.1 -0.1)\">\n      <defs>\n       <path d=\"M 603 3500 \nL 1178 3500 \nL 1178 0 \nL 603 0 \nL 603 3500 \nz\nM 603 4863 \nL 1178 4863 \nL 1178 4134 \nL 603 4134 \nL 603 4863 \nz\n\" id=\"DejaVuSans-69\" transform=\"scale(0.015625)\"/>\n       <path d=\"M 2834 3397 \nL 2834 2853 \nQ 2591 2978 2328 3040 \nQ 2066 3103 1784 3103 \nQ 1356 3103 1142 2972 \nQ 928 2841 928 2578 \nQ 928 2378 1081 2264 \nQ 1234 2150 1697 2047 \nL 1894 2003 \nQ 2506 1872 2764 1633 \nQ 3022 1394 3022 966 \nQ 3022 478 2636 193 \nQ 2250 -91 1575 -91 \nQ 1294 -91 989 -36 \nQ 684 19 347 128 \nL 347 722 \nQ 666 556 975 473 \nQ 1284 391 1588 391 \nQ 1994 391 2212 530 \nQ 2431 669 2431 922 \nQ 2431 1156 2273 1281 \nQ 2116 1406 1581 1522 \nL 1381 1569 \nQ 847 1681 609 1914 \nQ 372 2147 372 2553 \nQ 372 3047 722 3315 \nQ 1072 3584 1716 3584 \nQ 2034 3584 2315 3537 \nQ 2597 3491 2834 3397 \nz\n\" id=\"DejaVuSans-73\" transform=\"scale(0.015625)\"/>\n       <path d=\"M 581 4863 \nL 1159 4863 \nL 1159 1991 \nL 2875 3500 \nL 3609 3500 \nL 1753 1863 \nL 3688 0 \nL 2938 0 \nL 1159 1709 \nL 1159 0 \nL 581 0 \nL 581 4863 \nz\n\" id=\"DejaVuSans-6b\" transform=\"scale(0.015625)\"/>\n      </defs>\n      <use xlink:href=\"#DejaVuSans-52\"/>\n      <use x=\"69.482422\" xlink:href=\"#DejaVuSans-69\"/>\n      <use x=\"97.265625\" xlink:href=\"#DejaVuSans-73\"/>\n      <use x=\"149.365234\" xlink:href=\"#DejaVuSans-6b\"/>\n     </g>\n    </g>\n   </g>\n   <g id=\"patch_3\">\n    <path d=\"M 43.78125 224.64 \nL 43.78125 7.2 \n\" style=\"fill:none;stroke:#000000;stroke-linecap:square;stroke-linejoin:miter;stroke-width:0.8;\"/>\n   </g>\n   <g id=\"patch_4\">\n    <path d=\"M 378.58125 224.64 \nL 378.58125 7.2 \n\" style=\"fill:none;stroke:#000000;stroke-linecap:square;stroke-linejoin:miter;stroke-width:0.8;\"/>\n   </g>\n   <g id=\"patch_5\">\n    <path d=\"M 43.78125 224.64 \nL 378.58125 224.64 \n\" style=\"fill:none;stroke:#000000;stroke-linecap:square;stroke-linejoin:miter;stroke-width:0.8;\"/>\n   </g>\n   <g id=\"patch_6\">\n    <path d=\"M 43.78125 7.2 \nL 378.58125 7.2 \n\" style=\"fill:none;stroke:#000000;stroke-linecap:square;stroke-linejoin:miter;stroke-width:0.8;\"/>\n   </g>\n   <g id=\"legend_1\">\n    <g id=\"patch_7\">\n     <path d=\"M 367.58125 20.2 \nL 371.58125 20.2 \nQ 373.58125 20.2 373.58125 18.2 \nL 373.58125 14.2 \nQ 373.58125 12.2 371.58125 12.2 \nL 367.58125 12.2 \nQ 365.58125 12.2 365.58125 14.2 \nL 365.58125 18.2 \nQ 365.58125 20.2 367.58125 20.2 \nz\n\" style=\"fill:#ffffff;opacity:0.8;stroke:#cccccc;stroke-linejoin:miter;\"/>\n    </g>\n   </g>\n  </g>\n </g>\n <defs>\n  <clipPath id=\"p383a39488d\">\n   <rect height=\"217.44\" width=\"334.8\" x=\"43.78125\" y=\"7.2\"/>\n  </clipPath>\n </defs>\n</svg>\n",
      "image/png": "[encoded data removed]"
     },
     "metadata": {
      "needs_background": "light"
     }
    }
   ],
   "metadata": {}
  },
  {
   "cell_type": "code",
   "execution_count": 102,
   "source": [
    "df['class'] = df_simple['class']\n",
    "df.head()"
   ],
   "outputs": [
    {
     "output_type": "execute_result",
     "data": {
      "text/plain": [
       "   index                                             stocks     SMA42  \\\n",
       "1      1  ['HGTX3', 'CVCB3', 'ELET6', 'ABEV3', 'ENBR3', ...  0.467806   \n",
       "2      2              ['LAME4', 'SBSP3', 'TAEE11', 'GOAU4']  0.310407   \n",
       "4      4               ['TIMS3', 'LREN3', 'GOLL4', 'BBDC4']  0.358413   \n",
       "5      5  ['KLBN11', 'BBDC4', 'AZUL4', 'PRIO3', 'CSNA3',...  0.427673   \n",
       "6      6      ['CVCB3', 'ITSA4', 'QUAL3', 'SBSP3', 'LREN3']  0.394594   \n",
       "\n",
       "     SMA150       RSI       VAR  outlier  class  \n",
       "1  0.363506  0.676520  0.421233        1      1  \n",
       "2  0.366342  0.386661  0.416246        1      2  \n",
       "4  0.368369  0.356500  0.542556        1      1  \n",
       "5  0.409185  0.689250  0.332312        1      2  \n",
       "6  0.424574  0.498832  0.597154        1      1  "
      ],
      "text/html": [
       "<div>\n",
       "<style scoped>\n",
       "    .dataframe tbody tr th:only-of-type {\n",
       "        vertical-align: middle;\n",
       "    }\n",
       "\n",
       "    .dataframe tbody tr th {\n",
       "        vertical-align: top;\n",
       "    }\n",
       "\n",
       "    .dataframe thead th {\n",
       "        text-align: right;\n",
       "    }\n",
       "</style>\n",
       "<table border=\"1\" class=\"dataframe\">\n",
       "  <thead>\n",
       "    <tr style=\"text-align: right;\">\n",
       "      <th></th>\n",
       "      <th>index</th>\n",
       "      <th>stocks</th>\n",
       "      <th>SMA42</th>\n",
       "      <th>SMA150</th>\n",
       "      <th>RSI</th>\n",
       "      <th>VAR</th>\n",
       "      <th>outlier</th>\n",
       "      <th>class</th>\n",
       "    </tr>\n",
       "  </thead>\n",
       "  <tbody>\n",
       "    <tr>\n",
       "      <th>1</th>\n",
       "      <td>1</td>\n",
       "      <td>['HGTX3', 'CVCB3', 'ELET6', 'ABEV3', 'ENBR3', ...</td>\n",
       "      <td>0.467806</td>\n",
       "      <td>0.363506</td>\n",
       "      <td>0.676520</td>\n",
       "      <td>0.421233</td>\n",
       "      <td>1</td>\n",
       "      <td>1</td>\n",
       "    </tr>\n",
       "    <tr>\n",
       "      <th>2</th>\n",
       "      <td>2</td>\n",
       "      <td>['LAME4', 'SBSP3', 'TAEE11', 'GOAU4']</td>\n",
       "      <td>0.310407</td>\n",
       "      <td>0.366342</td>\n",
       "      <td>0.386661</td>\n",
       "      <td>0.416246</td>\n",
       "      <td>1</td>\n",
       "      <td>2</td>\n",
       "    </tr>\n",
       "    <tr>\n",
       "      <th>4</th>\n",
       "      <td>4</td>\n",
       "      <td>['TIMS3', 'LREN3', 'GOLL4', 'BBDC4']</td>\n",
       "      <td>0.358413</td>\n",
       "      <td>0.368369</td>\n",
       "      <td>0.356500</td>\n",
       "      <td>0.542556</td>\n",
       "      <td>1</td>\n",
       "      <td>1</td>\n",
       "    </tr>\n",
       "    <tr>\n",
       "      <th>5</th>\n",
       "      <td>5</td>\n",
       "      <td>['KLBN11', 'BBDC4', 'AZUL4', 'PRIO3', 'CSNA3',...</td>\n",
       "      <td>0.427673</td>\n",
       "      <td>0.409185</td>\n",
       "      <td>0.689250</td>\n",
       "      <td>0.332312</td>\n",
       "      <td>1</td>\n",
       "      <td>2</td>\n",
       "    </tr>\n",
       "    <tr>\n",
       "      <th>6</th>\n",
       "      <td>6</td>\n",
       "      <td>['CVCB3', 'ITSA4', 'QUAL3', 'SBSP3', 'LREN3']</td>\n",
       "      <td>0.394594</td>\n",
       "      <td>0.424574</td>\n",
       "      <td>0.498832</td>\n",
       "      <td>0.597154</td>\n",
       "      <td>1</td>\n",
       "      <td>1</td>\n",
       "    </tr>\n",
       "  </tbody>\n",
       "</table>\n",
       "</div>"
      ]
     },
     "metadata": {},
     "execution_count": 102
    }
   ],
   "metadata": {}
  },
  {
   "cell_type": "code",
   "execution_count": 104,
   "source": [
    "df[df['class'] == 0].mean()"
   ],
   "outputs": [
    {
     "output_type": "stream",
     "name": "stderr",
     "text": [
      "/tmp/ipykernel_7746/2333176835.py:1: FutureWarning: Dropping of nuisance columns in DataFrame reductions (with 'numeric_only=None') is deprecated; in a future version this will raise TypeError.  Select only valid columns before calling the reduction.\n",
      "  df[df['class'] == 0].mean()\n"
     ]
    },
    {
     "output_type": "execute_result",
     "data": {
      "text/plain": [
       "index      53.333333\n",
       "SMA42       0.165088\n",
       "SMA150      0.141263\n",
       "RSI         0.579272\n",
       "VAR         0.109797\n",
       "outlier     1.000000\n",
       "class       0.000000\n",
       "dtype: float64"
      ]
     },
     "metadata": {},
     "execution_count": 104
    }
   ],
   "metadata": {}
  },
  {
   "cell_type": "code",
   "execution_count": 105,
   "source": [
    "df[df['class'] == 1].mean()"
   ],
   "outputs": [
    {
     "output_type": "stream",
     "name": "stderr",
     "text": [
      "/tmp/ipykernel_7746/2740041638.py:1: FutureWarning: Dropping of nuisance columns in DataFrame reductions (with 'numeric_only=None') is deprecated; in a future version this will raise TypeError.  Select only valid columns before calling the reduction.\n",
      "  df[df['class'] == 1].mean()\n"
     ]
    },
    {
     "output_type": "execute_result",
     "data": {
      "text/plain": [
       "index      46.166667\n",
       "SMA42       0.528430\n",
       "SMA150      0.536915\n",
       "RSI         0.514488\n",
       "VAR         0.488956\n",
       "outlier     1.000000\n",
       "class       1.000000\n",
       "dtype: float64"
      ]
     },
     "metadata": {},
     "execution_count": 105
    }
   ],
   "metadata": {}
  },
  {
   "cell_type": "code",
   "execution_count": 106,
   "source": [
    "df[df['class'] == 2].mean()"
   ],
   "outputs": [
    {
     "output_type": "stream",
     "name": "stderr",
     "text": [
      "/tmp/ipykernel_7746/2899474117.py:1: FutureWarning: Dropping of nuisance columns in DataFrame reductions (with 'numeric_only=None') is deprecated; in a future version this will raise TypeError.  Select only valid columns before calling the reduction.\n",
      "  df[df['class'] == 2].mean()\n"
     ]
    },
    {
     "output_type": "execute_result",
     "data": {
      "text/plain": [
       "index      46.813953\n",
       "SMA42       0.355448\n",
       "SMA150      0.352572\n",
       "RSI         0.590861\n",
       "VAR         0.266363\n",
       "outlier     1.000000\n",
       "class       2.000000\n",
       "dtype: float64"
      ]
     },
     "metadata": {},
     "execution_count": 106
    }
   ],
   "metadata": {}
  }
 ],
 "metadata": {
  "orig_nbformat": 4,
  "language_info": {
   "name": "python",
   "version": "3.8.10",
   "mimetype": "text/x-python",
   "codemirror_mode": {
    "name": "ipython",
    "version": 3
   },
   "pygments_lexer": "ipython3",
   "nbconvert_exporter": "python",
   "file_extension": ".py"
  },
  "kernelspec": {
   "name": "python3",
   "display_name": "Python 3.8.10 64-bit"
  },
  "interpreter": {
   "hash": "916dbcbb3f70747c44a77c7bcd40155683ae19c65e1c03b4aa3499c5328201f1"
  }
 },
 "nbformat": 4,
 "nbformat_minor": 2
}