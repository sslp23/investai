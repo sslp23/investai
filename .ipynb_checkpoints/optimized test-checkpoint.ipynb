{
 "cells": [
  {
   "cell_type": "code",
   "execution_count": 65,
   "id": "cross-potential",
   "metadata": {},
   "outputs": [],
   "source": [
    "import pandas as pd\n",
    "import numpy as np\n",
    "import random\n",
    "import matplotlib.pyplot as plt"
   ]
  },
  {
   "cell_type": "code",
   "execution_count": 66,
   "id": "interstate-circular",
   "metadata": {},
   "outputs": [],
   "source": [
    "df = pd.read_csv('recomendations.csv')"
   ]
  },
  {
   "cell_type": "code",
   "execution_count": 67,
   "id": "collect-terrorism",
   "metadata": {},
   "outputs": [
    {
     "data": {
      "text/html": [
       "<div>\n",
       "<style scoped>\n",
       "    .dataframe tbody tr th:only-of-type {\n",
       "        vertical-align: middle;\n",
       "    }\n",
       "\n",
       "    .dataframe tbody tr th {\n",
       "        vertical-align: top;\n",
       "    }\n",
       "\n",
       "    .dataframe thead th {\n",
       "        text-align: right;\n",
       "    }\n",
       "</style>\n",
       "<table border=\"1\" class=\"dataframe\">\n",
       "  <thead>\n",
       "    <tr style=\"text-align: right;\">\n",
       "      <th></th>\n",
       "      <th>Unnamed: 0</th>\n",
       "      <th>stocks</th>\n",
       "      <th>SMA42</th>\n",
       "      <th>SMA150</th>\n",
       "      <th>RSI</th>\n",
       "      <th>VAR</th>\n",
       "      <th>recomendations</th>\n",
       "    </tr>\n",
       "  </thead>\n",
       "  <tbody>\n",
       "    <tr>\n",
       "      <th>0</th>\n",
       "      <td>0</td>\n",
       "      <td>['CVCB3', 'SBSP3', 'LAME4', 'COGN3']</td>\n",
       "      <td>0.183015</td>\n",
       "      <td>0.217421</td>\n",
       "      <td>0.258782</td>\n",
       "      <td>0.564886</td>\n",
       "      <td>[[' LREN3' '3']\\n [' BBDC4' '3']\\n [' GOAU4' '...</td>\n",
       "    </tr>\n",
       "    <tr>\n",
       "      <th>1</th>\n",
       "      <td>1</td>\n",
       "      <td>['HGTX3', 'CVCB3', 'ELET6', 'ABEV3', 'ENBR3', ...</td>\n",
       "      <td>0.467806</td>\n",
       "      <td>0.363506</td>\n",
       "      <td>0.676520</td>\n",
       "      <td>0.421233</td>\n",
       "      <td>[[' GGBR4' '2']\\n [' ENGI11' '2']\\n [' IRBR3' ...</td>\n",
       "    </tr>\n",
       "    <tr>\n",
       "      <th>2</th>\n",
       "      <td>2</td>\n",
       "      <td>['LAME4', 'SBSP3', 'TAEE11', 'GOAU4']</td>\n",
       "      <td>0.310407</td>\n",
       "      <td>0.366342</td>\n",
       "      <td>0.386661</td>\n",
       "      <td>0.416246</td>\n",
       "      <td>[[' CMIG4' '3']\\n [' BBDC4' '3']\\n [' ITSA4' '...</td>\n",
       "    </tr>\n",
       "    <tr>\n",
       "      <th>3</th>\n",
       "      <td>3</td>\n",
       "      <td>['FLRY3', 'EQTL3', 'VVAR3', 'MRVE3', 'LAME4', ...</td>\n",
       "      <td>0.173675</td>\n",
       "      <td>0.183636</td>\n",
       "      <td>0.202709</td>\n",
       "      <td>0.286562</td>\n",
       "      <td>[[' SULA11' '2']\\n [' ENEV3' '2']\\n [' ITSA4' ...</td>\n",
       "    </tr>\n",
       "    <tr>\n",
       "      <th>4</th>\n",
       "      <td>4</td>\n",
       "      <td>['TIMS3', 'LREN3', 'GOLL4', 'BBDC4']</td>\n",
       "      <td>0.358413</td>\n",
       "      <td>0.368369</td>\n",
       "      <td>0.356500</td>\n",
       "      <td>0.542556</td>\n",
       "      <td>[[' BEEF3' '2']\\n [' YDUQ3' '2']\\n [' ELET3' '...</td>\n",
       "    </tr>\n",
       "  </tbody>\n",
       "</table>\n",
       "</div>"
      ],
      "text/plain": [
       "   Unnamed: 0                                             stocks     SMA42  \\\n",
       "0           0               ['CVCB3', 'SBSP3', 'LAME4', 'COGN3']  0.183015   \n",
       "1           1  ['HGTX3', 'CVCB3', 'ELET6', 'ABEV3', 'ENBR3', ...  0.467806   \n",
       "2           2              ['LAME4', 'SBSP3', 'TAEE11', 'GOAU4']  0.310407   \n",
       "3           3  ['FLRY3', 'EQTL3', 'VVAR3', 'MRVE3', 'LAME4', ...  0.173675   \n",
       "4           4               ['TIMS3', 'LREN3', 'GOLL4', 'BBDC4']  0.358413   \n",
       "\n",
       "     SMA150       RSI       VAR  \\\n",
       "0  0.217421  0.258782  0.564886   \n",
       "1  0.363506  0.676520  0.421233   \n",
       "2  0.366342  0.386661  0.416246   \n",
       "3  0.183636  0.202709  0.286562   \n",
       "4  0.368369  0.356500  0.542556   \n",
       "\n",
       "                                      recomendations  \n",
       "0  [[' LREN3' '3']\\n [' BBDC4' '3']\\n [' GOAU4' '...  \n",
       "1  [[' GGBR4' '2']\\n [' ENGI11' '2']\\n [' IRBR3' ...  \n",
       "2  [[' CMIG4' '3']\\n [' BBDC4' '3']\\n [' ITSA4' '...  \n",
       "3  [[' SULA11' '2']\\n [' ENEV3' '2']\\n [' ITSA4' ...  \n",
       "4  [[' BEEF3' '2']\\n [' YDUQ3' '2']\\n [' ELET3' '...  "
      ]
     },
     "execution_count": 67,
     "metadata": {},
     "output_type": "execute_result"
    }
   ],
   "source": [
    "df.head()"
   ]
  },
  {
   "cell_type": "code",
   "execution_count": 68,
   "id": "liquid-chester",
   "metadata": {},
   "outputs": [],
   "source": [
    "stocks = random.sample(list(df.recomendations), 1)"
   ]
  },
  {
   "cell_type": "code",
   "execution_count": 69,
   "id": "overall-missile",
   "metadata": {},
   "outputs": [],
   "source": [
    "recs = []\n",
    "for stock in stocks[0].split('\\n'):\n",
    "    recs.append(stock.split(\"'\")[1][1:])\n"
   ]
  },
  {
   "cell_type": "markdown",
   "id": "running-lying",
   "metadata": {},
   "source": [
    "Creating portfolio:"
   ]
  },
  {
   "cell_type": "code",
   "execution_count": 70,
   "id": "facial-effect",
   "metadata": {},
   "outputs": [],
   "source": [
    "from yahooquery import Ticker\n",
    "def get_data(ticker, start = 0, end = 0, period = -1):\n",
    "    stock = Ticker(ticker)\n",
    "    if period == 'max':\n",
    "        df = stock.history(period='max')\n",
    "        \n",
    "    else:\n",
    "        df = stock.history(start=start, end=end)\n",
    "    \n",
    "    df = df.xs(ticker)\n",
    "    return df"
   ]
  },
  {
   "cell_type": "markdown",
   "id": "cleared-montana",
   "metadata": {},
   "source": [
    "# Otimização de portfolio\n",
    "\n",
    "Estudo da maximização do retorno por meio da escolha de um portfolio correto, baseado na Modern Portfolio Theory, de Harry Markowitz. É preciso, também, assumir que os retornos são uma distribuição normal.\n",
    "\n",
    "A ideia é usar diversificação para atingir um portfolio com risco mínimo ou máximo retorno, dado um intervalo de confiança. "
   ]
  },
  {
   "cell_type": "code",
   "execution_count": 71,
   "id": "adjustable-recipient",
   "metadata": {},
   "outputs": [],
   "source": [
    "data =  pd.DataFrame()\n",
    "for s in recs:\n",
    "    df = get_data(s+'.SA', start='2021-01-03', end='2021-07-31')\n",
    "    \n",
    "    close = df['close']\n",
    "    close.rename(s, inplace=True)\n",
    "    data = data.append(close)"
   ]
  },
  {
   "cell_type": "code",
   "execution_count": 72,
   "id": "arctic-following",
   "metadata": {},
   "outputs": [],
   "source": [
    "data = data.transpose()\n",
    "noa = len(recs)\n",
    "\n",
    "rets = np.log(data/data.shift(1))"
   ]
  },
  {
   "cell_type": "code",
   "execution_count": 73,
   "id": "circular-editor",
   "metadata": {},
   "outputs": [
    {
     "data": {
      "text/html": [
       "<div>\n",
       "<style scoped>\n",
       "    .dataframe tbody tr th:only-of-type {\n",
       "        vertical-align: middle;\n",
       "    }\n",
       "\n",
       "    .dataframe tbody tr th {\n",
       "        vertical-align: top;\n",
       "    }\n",
       "\n",
       "    .dataframe thead th {\n",
       "        text-align: right;\n",
       "    }\n",
       "</style>\n",
       "<table border=\"1\" class=\"dataframe\">\n",
       "  <thead>\n",
       "    <tr style=\"text-align: right;\">\n",
       "      <th></th>\n",
       "      <th>VVAR3</th>\n",
       "      <th>NTCO3</th>\n",
       "      <th>SBSP3</th>\n",
       "      <th>CYRE3</th>\n",
       "      <th>CCRO3</th>\n",
       "      <th>KLBN11</th>\n",
       "      <th>HAPV3</th>\n",
       "      <th>JHSF3</th>\n",
       "      <th>TAEE11</th>\n",
       "      <th>GOAU4</th>\n",
       "    </tr>\n",
       "  </thead>\n",
       "  <tbody>\n",
       "    <tr>\n",
       "      <th>2021-01-04</th>\n",
       "      <td>NaN</td>\n",
       "      <td>NaN</td>\n",
       "      <td>NaN</td>\n",
       "      <td>NaN</td>\n",
       "      <td>NaN</td>\n",
       "      <td>NaN</td>\n",
       "      <td>NaN</td>\n",
       "      <td>NaN</td>\n",
       "      <td>NaN</td>\n",
       "      <td>NaN</td>\n",
       "    </tr>\n",
       "    <tr>\n",
       "      <th>2021-01-05</th>\n",
       "      <td>0.003087</td>\n",
       "      <td>-0.005787</td>\n",
       "      <td>-0.002352</td>\n",
       "      <td>-0.019487</td>\n",
       "      <td>-0.016718</td>\n",
       "      <td>-0.006934</td>\n",
       "      <td>-0.026273</td>\n",
       "      <td>-0.010811</td>\n",
       "      <td>0.001817</td>\n",
       "      <td>0.021795</td>\n",
       "    </tr>\n",
       "    <tr>\n",
       "      <th>2021-01-06</th>\n",
       "      <td>-0.046050</td>\n",
       "      <td>-0.051405</td>\n",
       "      <td>-0.004958</td>\n",
       "      <td>-0.026098</td>\n",
       "      <td>-0.029551</td>\n",
       "      <td>0.018764</td>\n",
       "      <td>-0.037557</td>\n",
       "      <td>-0.040199</td>\n",
       "      <td>0.001813</td>\n",
       "      <td>0.037433</td>\n",
       "    </tr>\n",
       "    <tr>\n",
       "      <th>2021-01-07</th>\n",
       "      <td>-0.026825</td>\n",
       "      <td>-0.012708</td>\n",
       "      <td>-0.000710</td>\n",
       "      <td>0.006224</td>\n",
       "      <td>-0.003162</td>\n",
       "      <td>0.051748</td>\n",
       "      <td>0.011976</td>\n",
       "      <td>-0.007097</td>\n",
       "      <td>-0.029725</td>\n",
       "      <td>0.045285</td>\n",
       "    </tr>\n",
       "    <tr>\n",
       "      <th>2021-01-08</th>\n",
       "      <td>0.029404</td>\n",
       "      <td>0.045169</td>\n",
       "      <td>0.032622</td>\n",
       "      <td>0.046702</td>\n",
       "      <td>0.031947</td>\n",
       "      <td>0.039899</td>\n",
       "      <td>0.161328</td>\n",
       "      <td>0.052717</td>\n",
       "      <td>0.021539</td>\n",
       "      <td>-0.016937</td>\n",
       "    </tr>\n",
       "    <tr>\n",
       "      <th>...</th>\n",
       "      <td>...</td>\n",
       "      <td>...</td>\n",
       "      <td>...</td>\n",
       "      <td>...</td>\n",
       "      <td>...</td>\n",
       "      <td>...</td>\n",
       "      <td>...</td>\n",
       "      <td>...</td>\n",
       "      <td>...</td>\n",
       "      <td>...</td>\n",
       "    </tr>\n",
       "    <tr>\n",
       "      <th>2021-07-26</th>\n",
       "      <td>-0.025154</td>\n",
       "      <td>-0.002657</td>\n",
       "      <td>-0.009841</td>\n",
       "      <td>-0.015647</td>\n",
       "      <td>-0.000732</td>\n",
       "      <td>0.010857</td>\n",
       "      <td>-0.020077</td>\n",
       "      <td>-0.018470</td>\n",
       "      <td>-0.011308</td>\n",
       "      <td>0.024880</td>\n",
       "    </tr>\n",
       "    <tr>\n",
       "      <th>2021-07-27</th>\n",
       "      <td>-0.036314</td>\n",
       "      <td>-0.023218</td>\n",
       "      <td>0.001976</td>\n",
       "      <td>-0.007449</td>\n",
       "      <td>-0.011050</td>\n",
       "      <td>-0.019864</td>\n",
       "      <td>0.003490</td>\n",
       "      <td>-0.020176</td>\n",
       "      <td>0.001322</td>\n",
       "      <td>-0.025580</td>\n",
       "    </tr>\n",
       "    <tr>\n",
       "      <th>2021-07-28</th>\n",
       "      <td>0.001508</td>\n",
       "      <td>-0.065958</td>\n",
       "      <td>0.019272</td>\n",
       "      <td>0.015763</td>\n",
       "      <td>0.009584</td>\n",
       "      <td>-0.003547</td>\n",
       "      <td>0.017956</td>\n",
       "      <td>0.026811</td>\n",
       "      <td>0.012077</td>\n",
       "      <td>-0.000700</td>\n",
       "    </tr>\n",
       "    <tr>\n",
       "      <th>2021-07-29</th>\n",
       "      <td>-0.005289</td>\n",
       "      <td>0.004535</td>\n",
       "      <td>-0.011127</td>\n",
       "      <td>-0.019508</td>\n",
       "      <td>-0.013294</td>\n",
       "      <td>-0.005542</td>\n",
       "      <td>0.003416</td>\n",
       "      <td>0.013141</td>\n",
       "      <td>-0.005758</td>\n",
       "      <td>0.022177</td>\n",
       "    </tr>\n",
       "    <tr>\n",
       "      <th>2021-07-30</th>\n",
       "      <td>-0.047314</td>\n",
       "      <td>-0.027525</td>\n",
       "      <td>-0.008145</td>\n",
       "      <td>-0.022292</td>\n",
       "      <td>-0.034030</td>\n",
       "      <td>-0.023294</td>\n",
       "      <td>-0.029770</td>\n",
       "      <td>-0.026457</td>\n",
       "      <td>-0.001839</td>\n",
       "      <td>-0.023579</td>\n",
       "    </tr>\n",
       "  </tbody>\n",
       "</table>\n",
       "<p>142 rows × 10 columns</p>\n",
       "</div>"
      ],
      "text/plain": [
       "               VVAR3     NTCO3     SBSP3     CYRE3     CCRO3    KLBN11  \\\n",
       "2021-01-04       NaN       NaN       NaN       NaN       NaN       NaN   \n",
       "2021-01-05  0.003087 -0.005787 -0.002352 -0.019487 -0.016718 -0.006934   \n",
       "2021-01-06 -0.046050 -0.051405 -0.004958 -0.026098 -0.029551  0.018764   \n",
       "2021-01-07 -0.026825 -0.012708 -0.000710  0.006224 -0.003162  0.051748   \n",
       "2021-01-08  0.029404  0.045169  0.032622  0.046702  0.031947  0.039899   \n",
       "...              ...       ...       ...       ...       ...       ...   \n",
       "2021-07-26 -0.025154 -0.002657 -0.009841 -0.015647 -0.000732  0.010857   \n",
       "2021-07-27 -0.036314 -0.023218  0.001976 -0.007449 -0.011050 -0.019864   \n",
       "2021-07-28  0.001508 -0.065958  0.019272  0.015763  0.009584 -0.003547   \n",
       "2021-07-29 -0.005289  0.004535 -0.011127 -0.019508 -0.013294 -0.005542   \n",
       "2021-07-30 -0.047314 -0.027525 -0.008145 -0.022292 -0.034030 -0.023294   \n",
       "\n",
       "               HAPV3     JHSF3    TAEE11     GOAU4  \n",
       "2021-01-04       NaN       NaN       NaN       NaN  \n",
       "2021-01-05 -0.026273 -0.010811  0.001817  0.021795  \n",
       "2021-01-06 -0.037557 -0.040199  0.001813  0.037433  \n",
       "2021-01-07  0.011976 -0.007097 -0.029725  0.045285  \n",
       "2021-01-08  0.161328  0.052717  0.021539 -0.016937  \n",
       "...              ...       ...       ...       ...  \n",
       "2021-07-26 -0.020077 -0.018470 -0.011308  0.024880  \n",
       "2021-07-27  0.003490 -0.020176  0.001322 -0.025580  \n",
       "2021-07-28  0.017956  0.026811  0.012077 -0.000700  \n",
       "2021-07-29  0.003416  0.013141 -0.005758  0.022177  \n",
       "2021-07-30 -0.029770 -0.026457 -0.001839 -0.023579  \n",
       "\n",
       "[142 rows x 10 columns]"
      ]
     },
     "execution_count": 73,
     "metadata": {},
     "output_type": "execute_result"
    }
   ],
   "source": [
    "rets"
   ]
  },
  {
   "cell_type": "markdown",
   "id": "phantom-force",
   "metadata": {},
   "source": [
    "Vamos achar o portfolio ótimo pela maximização do sharpe ratio, ou seja, usaremos o valor negativo do sharpe ratio e minimizaremos para achar a composição do portfolio ótimo. Usaremos como restrição o fato de que a soma dos pesos deve dar um e que os pesos devem ficar entre 0 e 1, e depois, aplicaremos a função sco.minimize(), do scipy, para minimizar a função do sharpe ratio.\n",
    "\n",
    "O Sharpe Ratio é dado por $ SR \\equiv \\dfrac{\\mu_p - r_f}{\\sigma_p} $, que é a diferença entre o retorno do portfolio e da taxa livre de risco ($r_f$) dividido pelo desvio-padrão do portfolio."
   ]
  },
  {
   "cell_type": "code",
   "execution_count": 74,
   "id": "occupational-frost",
   "metadata": {},
   "outputs": [],
   "source": [
    "import scipy.optimize as sco"
   ]
  },
  {
   "cell_type": "code",
   "execution_count": 75,
   "id": "frequent-guyana",
   "metadata": {},
   "outputs": [],
   "source": [
    "def port_vol(weights):\n",
    "    return np.sqrt(np.dot(weights.T, np.dot(rets.cov() * 252, weights)))\n",
    "\n",
    "def port_ret(weights):\n",
    "    return np.sum(rets.mean() * weights) * 252\n",
    "\n",
    "def min_func_sharpe(weights):\n",
    "    return -port_ret(weights) / port_vol(weights) #função do sharpe ratio, que será minimizada"
   ]
  },
  {
   "cell_type": "code",
   "execution_count": 76,
   "id": "answering-accused",
   "metadata": {},
   "outputs": [],
   "source": [
    "cons = ({'type': 'eq', 'fun': lambda x: np.sum(x) - 1}) #restrições"
   ]
  },
  {
   "cell_type": "code",
   "execution_count": 77,
   "id": "third-mapping",
   "metadata": {},
   "outputs": [],
   "source": [
    "bnds = tuple((0, 1) for x in range(noa)) #limite para cada valor de peso"
   ]
  },
  {
   "cell_type": "code",
   "execution_count": 78,
   "id": "consolidated-antenna",
   "metadata": {},
   "outputs": [
    {
     "data": {
      "text/plain": [
       "array([0.1, 0.1, 0.1, 0.1, 0.1, 0.1, 0.1, 0.1, 0.1, 0.1])"
      ]
     },
     "execution_count": 78,
     "metadata": {},
     "output_type": "execute_result"
    }
   ],
   "source": [
    "eweights = np.array(noa * [1. / noa,])\n",
    "eweights #vetor com pesos igualitários"
   ]
  },
  {
   "cell_type": "code",
   "execution_count": 79,
   "id": "ideal-oriental",
   "metadata": {},
   "outputs": [
    {
     "data": {
      "text/plain": [
       "0.43394232197686267"
      ]
     },
     "execution_count": 79,
     "metadata": {},
     "output_type": "execute_result"
    }
   ],
   "source": [
    "min_func_sharpe(eweights)"
   ]
  },
  {
   "cell_type": "code",
   "execution_count": 80,
   "id": "worse-occupation",
   "metadata": {},
   "outputs": [],
   "source": [
    "opts = sco.minimize(min_func_sharpe, eweights, method='SLSQP', bounds=bnds, constraints=cons)"
   ]
  },
  {
   "cell_type": "code",
   "execution_count": 81,
   "id": "adjacent-arrangement",
   "metadata": {},
   "outputs": [
    {
     "data": {
      "text/plain": [
       "array([0.   , 0.   , 0.   , 0.   , 0.   , 0.   , 0.   , 0.   , 0.612,\n",
       "       0.388])"
      ]
     },
     "execution_count": 81,
     "metadata": {},
     "output_type": "execute_result"
    }
   ],
   "source": [
    "opts['x'].round(3) #pesos do portfolio ótimo"
   ]
  },
  {
   "cell_type": "code",
   "execution_count": 82,
   "id": "consecutive-beads",
   "metadata": {},
   "outputs": [
    {
     "data": {
      "text/plain": [
       "0.286"
      ]
     },
     "execution_count": 82,
     "metadata": {},
     "output_type": "execute_result"
    }
   ],
   "source": [
    "port_ret(opts['x']).round(3) #retorno do portofolio ótimo"
   ]
  },
  {
   "cell_type": "markdown",
   "id": "advanced-valley",
   "metadata": {},
   "source": [
    "# O portfolio\n",
    "\n",
    "Agora, irei criar o portfolio com os pesos ótimos e testar se bate o ibov"
   ]
  },
  {
   "cell_type": "code",
   "execution_count": 86,
   "id": "peaceful-secretariat",
   "metadata": {},
   "outputs": [],
   "source": [
    "weights = opts['x'].round(3) #pesos do portfolio ótimo"
   ]
  },
  {
   "cell_type": "code",
   "execution_count": 87,
   "id": "under-vinyl",
   "metadata": {},
   "outputs": [],
   "source": [
    "port = get_data(recs[0]+'.SA', start='2021-01-03', end='2021-07-31')[['close']] * weights[0] #creating the dataframe\n",
    "for (stock, weight) in zip(recs[1:], weights[1:]):\n",
    "    data = get_data(stock+'.SA', start='2021-01-03', end='2021-07-31')[['close']]* weight\n",
    "\n",
    "    port['close'] += data['close']"
   ]
  },
  {
   "cell_type": "code",
   "execution_count": 88,
   "id": "proof-crisis",
   "metadata": {},
   "outputs": [
    {
     "data": {
      "text/html": [
       "<div>\n",
       "<style scoped>\n",
       "    .dataframe tbody tr th:only-of-type {\n",
       "        vertical-align: middle;\n",
       "    }\n",
       "\n",
       "    .dataframe tbody tr th {\n",
       "        vertical-align: top;\n",
       "    }\n",
       "\n",
       "    .dataframe thead th {\n",
       "        text-align: right;\n",
       "    }\n",
       "</style>\n",
       "<table border=\"1\" class=\"dataframe\">\n",
       "  <thead>\n",
       "    <tr style=\"text-align: right;\">\n",
       "      <th></th>\n",
       "      <th>close</th>\n",
       "    </tr>\n",
       "    <tr>\n",
       "      <th>date</th>\n",
       "      <th></th>\n",
       "    </tr>\n",
       "  </thead>\n",
       "  <tbody>\n",
       "    <tr>\n",
       "      <th>2021-01-04</th>\n",
       "      <td>24.774400</td>\n",
       "    </tr>\n",
       "    <tr>\n",
       "      <th>2021-01-05</th>\n",
       "      <td>24.912001</td>\n",
       "    </tr>\n",
       "    <tr>\n",
       "      <th>2021-01-06</th>\n",
       "      <td>25.127200</td>\n",
       "    </tr>\n",
       "    <tr>\n",
       "      <th>2021-01-07</th>\n",
       "      <td>24.758601</td>\n",
       "    </tr>\n",
       "    <tr>\n",
       "      <th>2021-01-08</th>\n",
       "      <td>25.101639</td>\n",
       "    </tr>\n",
       "    <tr>\n",
       "      <th>...</th>\n",
       "      <td>...</td>\n",
       "    </tr>\n",
       "    <tr>\n",
       "      <th>2021-07-26</th>\n",
       "      <td>28.823921</td>\n",
       "    </tr>\n",
       "    <tr>\n",
       "      <th>2021-07-27</th>\n",
       "      <td>28.710960</td>\n",
       "    </tr>\n",
       "    <tr>\n",
       "      <th>2021-07-28</th>\n",
       "      <td>28.988600</td>\n",
       "    </tr>\n",
       "    <tr>\n",
       "      <th>2021-07-29</th>\n",
       "      <td>28.978119</td>\n",
       "    </tr>\n",
       "    <tr>\n",
       "      <th>2021-07-30</th>\n",
       "      <td>28.803359</td>\n",
       "    </tr>\n",
       "  </tbody>\n",
       "</table>\n",
       "<p>142 rows × 1 columns</p>\n",
       "</div>"
      ],
      "text/plain": [
       "                close\n",
       "date                 \n",
       "2021-01-04  24.774400\n",
       "2021-01-05  24.912001\n",
       "2021-01-06  25.127200\n",
       "2021-01-07  24.758601\n",
       "2021-01-08  25.101639\n",
       "...               ...\n",
       "2021-07-26  28.823921\n",
       "2021-07-27  28.710960\n",
       "2021-07-28  28.988600\n",
       "2021-07-29  28.978119\n",
       "2021-07-30  28.803359\n",
       "\n",
       "[142 rows x 1 columns]"
      ]
     },
     "execution_count": 88,
     "metadata": {},
     "output_type": "execute_result"
    }
   ],
   "source": [
    "port"
   ]
  },
  {
   "cell_type": "code",
   "execution_count": 89,
   "id": "atlantic-buddy",
   "metadata": {},
   "outputs": [
    {
     "data": {
      "text/html": [
       "<div>\n",
       "<style scoped>\n",
       "    .dataframe tbody tr th:only-of-type {\n",
       "        vertical-align: middle;\n",
       "    }\n",
       "\n",
       "    .dataframe tbody tr th {\n",
       "        vertical-align: top;\n",
       "    }\n",
       "\n",
       "    .dataframe thead th {\n",
       "        text-align: right;\n",
       "    }\n",
       "</style>\n",
       "<table border=\"1\" class=\"dataframe\">\n",
       "  <thead>\n",
       "    <tr style=\"text-align: right;\">\n",
       "      <th></th>\n",
       "      <th>adjclose</th>\n",
       "    </tr>\n",
       "    <tr>\n",
       "      <th>date</th>\n",
       "      <th></th>\n",
       "    </tr>\n",
       "  </thead>\n",
       "  <tbody>\n",
       "    <tr>\n",
       "      <th>2021-01-04</th>\n",
       "      <td>118558.0</td>\n",
       "    </tr>\n",
       "    <tr>\n",
       "      <th>2021-01-05</th>\n",
       "      <td>119223.0</td>\n",
       "    </tr>\n",
       "    <tr>\n",
       "      <th>2021-01-06</th>\n",
       "      <td>119851.0</td>\n",
       "    </tr>\n",
       "    <tr>\n",
       "      <th>2021-01-07</th>\n",
       "      <td>121956.0</td>\n",
       "    </tr>\n",
       "    <tr>\n",
       "      <th>2021-01-08</th>\n",
       "      <td>125077.0</td>\n",
       "    </tr>\n",
       "    <tr>\n",
       "      <th>...</th>\n",
       "      <td>...</td>\n",
       "    </tr>\n",
       "    <tr>\n",
       "      <th>2021-07-26</th>\n",
       "      <td>126004.0</td>\n",
       "    </tr>\n",
       "    <tr>\n",
       "      <th>2021-07-27</th>\n",
       "      <td>124612.0</td>\n",
       "    </tr>\n",
       "    <tr>\n",
       "      <th>2021-07-28</th>\n",
       "      <td>126286.0</td>\n",
       "    </tr>\n",
       "    <tr>\n",
       "      <th>2021-07-29</th>\n",
       "      <td>125675.0</td>\n",
       "    </tr>\n",
       "    <tr>\n",
       "      <th>2021-07-30</th>\n",
       "      <td>121801.0</td>\n",
       "    </tr>\n",
       "  </tbody>\n",
       "</table>\n",
       "<p>142 rows × 1 columns</p>\n",
       "</div>"
      ],
      "text/plain": [
       "            adjclose\n",
       "date                \n",
       "2021-01-04  118558.0\n",
       "2021-01-05  119223.0\n",
       "2021-01-06  119851.0\n",
       "2021-01-07  121956.0\n",
       "2021-01-08  125077.0\n",
       "...              ...\n",
       "2021-07-26  126004.0\n",
       "2021-07-27  124612.0\n",
       "2021-07-28  126286.0\n",
       "2021-07-29  125675.0\n",
       "2021-07-30  121801.0\n",
       "\n",
       "[142 rows x 1 columns]"
      ]
     },
     "execution_count": 89,
     "metadata": {},
     "output_type": "execute_result"
    }
   ],
   "source": [
    "ibov = Ticker('^BVSP')\n",
    "ibov_hist = ibov.history(start='2021-01-03', end='2021-07-31').xs('^BVSP')[['adjclose']]\n",
    "ibov_hist"
   ]
  },
  {
   "cell_type": "code",
   "execution_count": 90,
   "id": "another-punishment",
   "metadata": {},
   "outputs": [],
   "source": [
    "ibov_hist['Returns'] = np.log(ibov_hist['adjclose']/ibov_hist['adjclose'].shift(1))\n",
    "port['Returns'] = np.log(port['close']/port['close'].shift(1))"
   ]
  },
  {
   "cell_type": "code",
   "execution_count": 91,
   "id": "thirty-legend",
   "metadata": {},
   "outputs": [],
   "source": [
    "plot_df = pd.DataFrame()\n",
    "plot_df['IBOV'] = ibov_hist['Returns']\n",
    "plot_df['PORT'] = port['Returns']"
   ]
  },
  {
   "cell_type": "code",
   "execution_count": 92,
   "id": "generous-portal",
   "metadata": {},
   "outputs": [
    {
     "data": {
      "text/plain": [
       "<AxesSubplot:xlabel='date'>"
      ]
     },
     "execution_count": 92,
     "metadata": {},
     "output_type": "execute_result"
    },
    {
     "data": {
      "image/png": "[encoded data removed]",
      "text/plain": [
       "<Figure size 1080x576 with 1 Axes>"
      ]
     },
     "metadata": {
      "needs_background": "light"
     },
     "output_type": "display_data"
    }
   ],
   "source": [
    "plot_df.cumsum().apply(np.exp).plot(figsize=(15,8))"
   ]
  },
  {
   "cell_type": "code",
   "execution_count": null,
   "id": "explicit-laundry",
   "metadata": {},
   "outputs": [],
   "source": []
  }
 ],
 "metadata": {
  "kernelspec": {
   "display_name": "Python 3",
   "language": "python",
   "name": "python3"
  },
  "language_info": {
   "codemirror_mode": {
    "name": "ipython",
    "version": 3
   },
   "file_extension": ".py",
   "mimetype": "text/x-python",
   "name": "python",
   "nbconvert_exporter": "python",
   "pygments_lexer": "ipython3",
   "version": "3.7.6"
  }
 },
 "nbformat": 4,
 "nbformat_minor": 5
}
