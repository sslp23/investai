{
 "cells": [
  {
   "cell_type": "code",
   "execution_count": 8,
   "id": "weighted-doctrine",
   "metadata": {},
   "outputs": [],
   "source": [
    "import pandas as pd\n",
    "import numpy as np\n",
    "import random"
   ]
  },
  {
   "cell_type": "code",
   "execution_count": 4,
   "id": "invalid-welcome",
   "metadata": {},
   "outputs": [],
   "source": [
    "df = pd.read_csv('recomendations.csv')"
   ]
  },
  {
   "cell_type": "code",
   "execution_count": 5,
   "id": "dominican-offense",
   "metadata": {},
   "outputs": [
    {
     "data": {
      "text/html": [
       "<div>\n",
       "<style scoped>\n",
       "    .dataframe tbody tr th:only-of-type {\n",
       "        vertical-align: middle;\n",
       "    }\n",
       "\n",
       "    .dataframe tbody tr th {\n",
       "        vertical-align: top;\n",
       "    }\n",
       "\n",
       "    .dataframe thead th {\n",
       "        text-align: right;\n",
       "    }\n",
       "</style>\n",
       "<table border=\"1\" class=\"dataframe\">\n",
       "  <thead>\n",
       "    <tr style=\"text-align: right;\">\n",
       "      <th></th>\n",
       "      <th>Unnamed: 0</th>\n",
       "      <th>stocks</th>\n",
       "      <th>SMA42</th>\n",
       "      <th>SMA150</th>\n",
       "      <th>RSI</th>\n",
       "      <th>VAR</th>\n",
       "      <th>recomendations</th>\n",
       "    </tr>\n",
       "  </thead>\n",
       "  <tbody>\n",
       "    <tr>\n",
       "      <th>0</th>\n",
       "      <td>0</td>\n",
       "      <td>['CVCB3', 'SBSP3', 'LAME4', 'COGN3']</td>\n",
       "      <td>0.183015</td>\n",
       "      <td>0.217421</td>\n",
       "      <td>0.258782</td>\n",
       "      <td>0.564886</td>\n",
       "      <td>[[' LREN3' '3']\\n [' BBDC4' '3']\\n [' GOAU4' '...</td>\n",
       "    </tr>\n",
       "    <tr>\n",
       "      <th>1</th>\n",
       "      <td>1</td>\n",
       "      <td>['HGTX3', 'CVCB3', 'ELET6', 'ABEV3', 'ENBR3', ...</td>\n",
       "      <td>0.467806</td>\n",
       "      <td>0.363506</td>\n",
       "      <td>0.676520</td>\n",
       "      <td>0.421233</td>\n",
       "      <td>[[' GGBR4' '2']\\n [' ENGI11' '2']\\n [' IRBR3' ...</td>\n",
       "    </tr>\n",
       "    <tr>\n",
       "      <th>2</th>\n",
       "      <td>2</td>\n",
       "      <td>['LAME4', 'SBSP3', 'TAEE11', 'GOAU4']</td>\n",
       "      <td>0.310407</td>\n",
       "      <td>0.366342</td>\n",
       "      <td>0.386661</td>\n",
       "      <td>0.416246</td>\n",
       "      <td>[[' CMIG4' '3']\\n [' BBDC4' '3']\\n [' ITSA4' '...</td>\n",
       "    </tr>\n",
       "    <tr>\n",
       "      <th>3</th>\n",
       "      <td>3</td>\n",
       "      <td>['FLRY3', 'EQTL3', 'VVAR3', 'MRVE3', 'LAME4', ...</td>\n",
       "      <td>0.173675</td>\n",
       "      <td>0.183636</td>\n",
       "      <td>0.202709</td>\n",
       "      <td>0.286562</td>\n",
       "      <td>[[' SULA11' '2']\\n [' ENEV3' '2']\\n [' ITSA4' ...</td>\n",
       "    </tr>\n",
       "    <tr>\n",
       "      <th>4</th>\n",
       "      <td>4</td>\n",
       "      <td>['TIMS3', 'LREN3', 'GOLL4', 'BBDC4']</td>\n",
       "      <td>0.358413</td>\n",
       "      <td>0.368369</td>\n",
       "      <td>0.356500</td>\n",
       "      <td>0.542556</td>\n",
       "      <td>[[' BEEF3' '2']\\n [' YDUQ3' '2']\\n [' ELET3' '...</td>\n",
       "    </tr>\n",
       "  </tbody>\n",
       "</table>\n",
       "</div>"
      ],
      "text/plain": [
       "   Unnamed: 0                                             stocks     SMA42  \\\n",
       "0           0               ['CVCB3', 'SBSP3', 'LAME4', 'COGN3']  0.183015   \n",
       "1           1  ['HGTX3', 'CVCB3', 'ELET6', 'ABEV3', 'ENBR3', ...  0.467806   \n",
       "2           2              ['LAME4', 'SBSP3', 'TAEE11', 'GOAU4']  0.310407   \n",
       "3           3  ['FLRY3', 'EQTL3', 'VVAR3', 'MRVE3', 'LAME4', ...  0.173675   \n",
       "4           4               ['TIMS3', 'LREN3', 'GOLL4', 'BBDC4']  0.358413   \n",
       "\n",
       "     SMA150       RSI       VAR  \\\n",
       "0  0.217421  0.258782  0.564886   \n",
       "1  0.363506  0.676520  0.421233   \n",
       "2  0.366342  0.386661  0.416246   \n",
       "3  0.183636  0.202709  0.286562   \n",
       "4  0.368369  0.356500  0.542556   \n",
       "\n",
       "                                      recomendations  \n",
       "0  [[' LREN3' '3']\\n [' BBDC4' '3']\\n [' GOAU4' '...  \n",
       "1  [[' GGBR4' '2']\\n [' ENGI11' '2']\\n [' IRBR3' ...  \n",
       "2  [[' CMIG4' '3']\\n [' BBDC4' '3']\\n [' ITSA4' '...  \n",
       "3  [[' SULA11' '2']\\n [' ENEV3' '2']\\n [' ITSA4' ...  \n",
       "4  [[' BEEF3' '2']\\n [' YDUQ3' '2']\\n [' ELET3' '...  "
      ]
     },
     "execution_count": 5,
     "metadata": {},
     "output_type": "execute_result"
    }
   ],
   "source": [
    "df.head()"
   ]
  },
  {
   "cell_type": "code",
   "execution_count": 50,
   "id": "chemical-hobby",
   "metadata": {},
   "outputs": [],
   "source": [
    "stocks = random.sample(list(df.recomendations), 1)"
   ]
  },
  {
   "cell_type": "code",
   "execution_count": 51,
   "id": "lovely-certificate",
   "metadata": {},
   "outputs": [],
   "source": [
    "recs = []\n",
    "for stock in stocks[0].split('\\n'):\n",
    "    recs.append(stock.split(\"'\")[1][1:])\n"
   ]
  },
  {
   "cell_type": "markdown",
   "id": "civic-oxide",
   "metadata": {},
   "source": [
    "Creating portfolio:"
   ]
  },
  {
   "cell_type": "code",
   "execution_count": 52,
   "id": "social-payment",
   "metadata": {},
   "outputs": [],
   "source": [
    "from yahooquery import Ticker\n",
    "def get_data(ticker, start = 0, end = 0, period = -1):\n",
    "    stock = Ticker(ticker)\n",
    "    if period == 'max':\n",
    "        df = stock.history(period='max')\n",
    "        \n",
    "    else:\n",
    "        df = stock.history(start=start, end=end)\n",
    "    \n",
    "    df = df.xs(ticker)\n",
    "    return df"
   ]
  },
  {
   "cell_type": "code",
   "execution_count": 53,
   "id": "retired-charlotte",
   "metadata": {},
   "outputs": [],
   "source": [
    "weights = np.random.random(len(recs))\n",
    "weights /= weights.sum() #portfolio weights\n",
    "\n",
    "port = get_data(recs[0]+'.SA', start='2021-01-03', end='2021-07-31')[['close']] * weights[0] #creating the dataframe\n",
    "for (stock, weight) in zip(recs[1:], weights[1:]):\n",
    "    data = get_data(stock+'.SA', start='2021-01-03', end='2021-07-31')[['close']]* weight\n",
    "\n",
    "    port['close'] += data['close']"
   ]
  },
  {
   "cell_type": "code",
   "execution_count": 65,
   "id": "awful-invite",
   "metadata": {},
   "outputs": [
    {
     "data": {
      "text/plain": [
       "['ENBR3',\n",
       " 'GOLL4',\n",
       " 'BBAS3',\n",
       " 'BRKM5',\n",
       " 'HGTX3',\n",
       " 'ENEV3',\n",
       " 'LWSA3',\n",
       " 'RADL3',\n",
       " 'PETR4',\n",
       " 'CSNA3']"
      ]
     },
     "execution_count": 65,
     "metadata": {},
     "output_type": "execute_result"
    }
   ],
   "source": [
    "recs"
   ]
  },
  {
   "cell_type": "code",
   "execution_count": 54,
   "id": "circular-wonder",
   "metadata": {},
   "outputs": [
    {
     "data": {
      "text/html": [
       "<div>\n",
       "<style scoped>\n",
       "    .dataframe tbody tr th:only-of-type {\n",
       "        vertical-align: middle;\n",
       "    }\n",
       "\n",
       "    .dataframe tbody tr th {\n",
       "        vertical-align: top;\n",
       "    }\n",
       "\n",
       "    .dataframe thead th {\n",
       "        text-align: right;\n",
       "    }\n",
       "</style>\n",
       "<table border=\"1\" class=\"dataframe\">\n",
       "  <thead>\n",
       "    <tr style=\"text-align: right;\">\n",
       "      <th></th>\n",
       "      <th>close</th>\n",
       "    </tr>\n",
       "    <tr>\n",
       "      <th>date</th>\n",
       "      <th></th>\n",
       "    </tr>\n",
       "  </thead>\n",
       "  <tbody>\n",
       "    <tr>\n",
       "      <th>2021-01-04</th>\n",
       "      <td>23.169542</td>\n",
       "    </tr>\n",
       "    <tr>\n",
       "      <th>2021-01-05</th>\n",
       "      <td>23.270502</td>\n",
       "    </tr>\n",
       "    <tr>\n",
       "      <th>2021-01-06</th>\n",
       "      <td>23.232008</td>\n",
       "    </tr>\n",
       "    <tr>\n",
       "      <th>2021-01-07</th>\n",
       "      <td>23.598020</td>\n",
       "    </tr>\n",
       "    <tr>\n",
       "      <th>2021-01-08</th>\n",
       "      <td>23.911770</td>\n",
       "    </tr>\n",
       "    <tr>\n",
       "      <th>...</th>\n",
       "      <td>...</td>\n",
       "    </tr>\n",
       "    <tr>\n",
       "      <th>2021-07-26</th>\n",
       "      <td>32.512271</td>\n",
       "    </tr>\n",
       "    <tr>\n",
       "      <th>2021-07-27</th>\n",
       "      <td>31.836110</td>\n",
       "    </tr>\n",
       "    <tr>\n",
       "      <th>2021-07-28</th>\n",
       "      <td>32.199800</td>\n",
       "    </tr>\n",
       "    <tr>\n",
       "      <th>2021-07-29</th>\n",
       "      <td>32.301733</td>\n",
       "    </tr>\n",
       "    <tr>\n",
       "      <th>2021-07-30</th>\n",
       "      <td>31.399459</td>\n",
       "    </tr>\n",
       "  </tbody>\n",
       "</table>\n",
       "<p>142 rows × 1 columns</p>\n",
       "</div>"
      ],
      "text/plain": [
       "                close\n",
       "date                 \n",
       "2021-01-04  23.169542\n",
       "2021-01-05  23.270502\n",
       "2021-01-06  23.232008\n",
       "2021-01-07  23.598020\n",
       "2021-01-08  23.911770\n",
       "...               ...\n",
       "2021-07-26  32.512271\n",
       "2021-07-27  31.836110\n",
       "2021-07-28  32.199800\n",
       "2021-07-29  32.301733\n",
       "2021-07-30  31.399459\n",
       "\n",
       "[142 rows x 1 columns]"
      ]
     },
     "execution_count": 54,
     "metadata": {},
     "output_type": "execute_result"
    }
   ],
   "source": [
    "port"
   ]
  },
  {
   "cell_type": "code",
   "execution_count": 58,
   "id": "found-county",
   "metadata": {},
   "outputs": [],
   "source": [
    "ibov = Ticker('^BVSP')"
   ]
  },
  {
   "cell_type": "code",
   "execution_count": 64,
   "id": "successful-emperor",
   "metadata": {},
   "outputs": [],
   "source": [
    "ibov_hist = ibov.history(start='2021-01-03', end='2021-07-31').xs('^BVSP')[['adjclose']]"
   ]
  },
  {
   "cell_type": "code",
   "execution_count": 66,
   "id": "outer-translator",
   "metadata": {},
   "outputs": [
    {
     "data": {
      "text/html": [
       "<div>\n",
       "<style scoped>\n",
       "    .dataframe tbody tr th:only-of-type {\n",
       "        vertical-align: middle;\n",
       "    }\n",
       "\n",
       "    .dataframe tbody tr th {\n",
       "        vertical-align: top;\n",
       "    }\n",
       "\n",
       "    .dataframe thead th {\n",
       "        text-align: right;\n",
       "    }\n",
       "</style>\n",
       "<table border=\"1\" class=\"dataframe\">\n",
       "  <thead>\n",
       "    <tr style=\"text-align: right;\">\n",
       "      <th></th>\n",
       "      <th>adjclose</th>\n",
       "    </tr>\n",
       "    <tr>\n",
       "      <th>date</th>\n",
       "      <th></th>\n",
       "    </tr>\n",
       "  </thead>\n",
       "  <tbody>\n",
       "    <tr>\n",
       "      <th>2021-01-04</th>\n",
       "      <td>118558.0</td>\n",
       "    </tr>\n",
       "    <tr>\n",
       "      <th>2021-01-05</th>\n",
       "      <td>119223.0</td>\n",
       "    </tr>\n",
       "    <tr>\n",
       "      <th>2021-01-06</th>\n",
       "      <td>119851.0</td>\n",
       "    </tr>\n",
       "    <tr>\n",
       "      <th>2021-01-07</th>\n",
       "      <td>121956.0</td>\n",
       "    </tr>\n",
       "    <tr>\n",
       "      <th>2021-01-08</th>\n",
       "      <td>125077.0</td>\n",
       "    </tr>\n",
       "    <tr>\n",
       "      <th>...</th>\n",
       "      <td>...</td>\n",
       "    </tr>\n",
       "    <tr>\n",
       "      <th>2021-07-26</th>\n",
       "      <td>126004.0</td>\n",
       "    </tr>\n",
       "    <tr>\n",
       "      <th>2021-07-27</th>\n",
       "      <td>124612.0</td>\n",
       "    </tr>\n",
       "    <tr>\n",
       "      <th>2021-07-28</th>\n",
       "      <td>126286.0</td>\n",
       "    </tr>\n",
       "    <tr>\n",
       "      <th>2021-07-29</th>\n",
       "      <td>125675.0</td>\n",
       "    </tr>\n",
       "    <tr>\n",
       "      <th>2021-07-30</th>\n",
       "      <td>121801.0</td>\n",
       "    </tr>\n",
       "  </tbody>\n",
       "</table>\n",
       "<p>142 rows × 1 columns</p>\n",
       "</div>"
      ],
      "text/plain": [
       "            adjclose\n",
       "date                \n",
       "2021-01-04  118558.0\n",
       "2021-01-05  119223.0\n",
       "2021-01-06  119851.0\n",
       "2021-01-07  121956.0\n",
       "2021-01-08  125077.0\n",
       "...              ...\n",
       "2021-07-26  126004.0\n",
       "2021-07-27  124612.0\n",
       "2021-07-28  126286.0\n",
       "2021-07-29  125675.0\n",
       "2021-07-30  121801.0\n",
       "\n",
       "[142 rows x 1 columns]"
      ]
     },
     "execution_count": 66,
     "metadata": {},
     "output_type": "execute_result"
    }
   ],
   "source": [
    "ibov_hist"
   ]
  },
  {
   "cell_type": "markdown",
   "id": "incorrect-biology",
   "metadata": {},
   "source": [
    "Analisando os retornos:"
   ]
  },
  {
   "cell_type": "code",
   "execution_count": 69,
   "id": "operational-sarah",
   "metadata": {},
   "outputs": [],
   "source": [
    "ibov_hist['Returns'] = np.log(ibov_hist['adjclose']/ibov_hist['adjclose'].shift(1))\n",
    "port['Returns'] = np.log(port['close']/port['close'].shift(1))"
   ]
  },
  {
   "cell_type": "code",
   "execution_count": 71,
   "id": "median-helen",
   "metadata": {},
   "outputs": [],
   "source": [
    "plot_df = pd.DataFrame()\n",
    "plot_df['IBOV'] = ibov_hist['Returns']\n",
    "plot_df['PORT'] = port['Returns']"
   ]
  },
  {
   "cell_type": "code",
   "execution_count": 75,
   "id": "higher-blond",
   "metadata": {},
   "outputs": [
    {
     "data": {
      "text/plain": [
       "<AxesSubplot:xlabel='date'>"
      ]
     },
     "execution_count": 75,
     "metadata": {},
     "output_type": "execute_result"
    },
    {
     "data": {
      "image/png": "[encoded data removed]",
      "text/plain": [
       "<Figure size 1080x576 with 1 Axes>"
      ]
     },
     "metadata": {
      "needs_background": "light"
     },
     "output_type": "display_data"
    }
   ],
   "source": [
    "plot_df.cumsum().apply(np.exp).plot(figsize=(15,8))"
   ]
  },
  {
   "cell_type": "code",
   "execution_count": null,
   "id": "engaged-cleaning",
   "metadata": {},
   "outputs": [],
   "source": []
  }
 ],
 "metadata": {
  "kernelspec": {
   "display_name": "Python 3",
   "language": "python",
   "name": "python3"
  },
  "language_info": {
   "codemirror_mode": {
    "name": "ipython",
    "version": 3
   },
   "file_extension": ".py",
   "mimetype": "text/x-python",
   "name": "python",
   "nbconvert_exporter": "python",
   "pygments_lexer": "ipython3",
   "version": "3.7.6"
  }
 },
 "nbformat": 4,
 "nbformat_minor": 5
}
